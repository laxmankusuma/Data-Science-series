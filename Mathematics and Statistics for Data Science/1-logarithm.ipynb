{
 "cells": [
  {
   "cell_type": "markdown",
   "id": "a379862e",
   "metadata": {
    "papermill": {
     "duration": 0.009073,
     "end_time": "2022-02-12T13:33:54.599745",
     "exception": false,
     "start_time": "2022-02-12T13:33:54.590672",
     "status": "completed"
    },
    "tags": []
   },
   "source": [
    "Ref : https://www.skillbasics.com/\n"
   ]
  },
  {
   "cell_type": "markdown",
   "id": "dfb5e0b2",
   "metadata": {
    "papermill": {
     "duration": 0.007696,
     "end_time": "2022-02-12T13:33:54.616095",
     "exception": false,
     "start_time": "2022-02-12T13:33:54.608399",
     "status": "completed"
    },
    "tags": []
   },
   "source": [
    "# 1.1 Why logarithm ?Where we will use?"
   ]
  },
  {
   "cell_type": "markdown",
   "id": "99413b70",
   "metadata": {
    "papermill": {
     "duration": 0.008052,
     "end_time": "2022-02-12T13:33:54.632807",
     "exception": false,
     "start_time": "2022-02-12T13:33:54.624755",
     "status": "completed"
    },
    "tags": []
   },
   "source": [
    "* ML Problem should be biased, If not biased use log.\n",
    "* log helps to values to comaprable from un comparable.\n",
    "* log to scala the values.(example ritcher scale)"
   ]
  },
  {
   "cell_type": "code",
   "execution_count": 1,
   "id": "6be00a89",
   "metadata": {
    "_cell_guid": "b1076dfc-b9ad-4769-8c92-a6c4dae69d19",
    "_uuid": "8f2839f25d086af736a60e9eeb907d3b93b6e0e5",
    "execution": {
     "iopub.execute_input": "2022-02-12T13:33:54.653648Z",
     "iopub.status.busy": "2022-02-12T13:33:54.652482Z",
     "iopub.status.idle": "2022-02-12T13:33:54.966241Z",
     "shell.execute_reply": "2022-02-12T13:33:54.965533Z",
     "shell.execute_reply.started": "2022-01-28T18:32:49.93449Z"
    },
    "papermill": {
     "duration": 0.325198,
     "end_time": "2022-02-12T13:33:54.966493",
     "exception": false,
     "start_time": "2022-02-12T13:33:54.641295",
     "status": "completed"
    },
    "tags": []
   },
   "outputs": [
    {
     "data": {
      "text/html": [
       "<div>\n",
       "<style scoped>\n",
       "    .dataframe tbody tr th:only-of-type {\n",
       "        vertical-align: middle;\n",
       "    }\n",
       "\n",
       "    .dataframe tbody tr th {\n",
       "        vertical-align: top;\n",
       "    }\n",
       "\n",
       "    .dataframe thead th {\n",
       "        text-align: right;\n",
       "    }\n",
       "</style>\n",
       "<table border=\"1\" class=\"dataframe\">\n",
       "  <thead>\n",
       "    <tr style=\"text-align: right;\">\n",
       "      <th></th>\n",
       "      <th>name</th>\n",
       "      <th>salary</th>\n",
       "    </tr>\n",
       "  </thead>\n",
       "  <tbody>\n",
       "    <tr>\n",
       "      <th>0</th>\n",
       "      <td>laxman</td>\n",
       "      <td>1000</td>\n",
       "    </tr>\n",
       "    <tr>\n",
       "      <th>1</th>\n",
       "      <td>ashok</td>\n",
       "      <td>2000</td>\n",
       "    </tr>\n",
       "    <tr>\n",
       "      <th>2</th>\n",
       "      <td>santhosh</td>\n",
       "      <td>3000</td>\n",
       "    </tr>\n",
       "    <tr>\n",
       "      <th>3</th>\n",
       "      <td>sudeep</td>\n",
       "      <td>100000000</td>\n",
       "    </tr>\n",
       "  </tbody>\n",
       "</table>\n",
       "</div>"
      ],
      "text/plain": [
       "       name     salary\n",
       "0    laxman       1000\n",
       "1     ashok       2000\n",
       "2  santhosh       3000\n",
       "3    sudeep  100000000"
      ]
     },
     "execution_count": 1,
     "metadata": {},
     "output_type": "execute_result"
    }
   ],
   "source": [
    "import pandas as pd\n",
    "df = pd.read_csv(\"https://raw.githubusercontent.com/laxmankusuma/Data-Science-series/main/Mathematics%20and%20Statistics%20for%20Data%20Science/salary.txt\",sep='|')\n",
    "df.head()"
   ]
  },
  {
   "cell_type": "code",
   "execution_count": 2,
   "id": "2f48288e",
   "metadata": {
    "execution": {
     "iopub.execute_input": "2022-02-12T13:33:54.988618Z",
     "iopub.status.busy": "2022-02-12T13:33:54.987933Z",
     "iopub.status.idle": "2022-02-12T13:33:55.255933Z",
     "shell.execute_reply": "2022-02-12T13:33:55.256435Z",
     "shell.execute_reply.started": "2022-01-28T18:32:50.002033Z"
    },
    "papermill": {
     "duration": 0.281204,
     "end_time": "2022-02-12T13:33:55.256601",
     "exception": false,
     "start_time": "2022-02-12T13:33:54.975397",
     "status": "completed"
    },
    "tags": []
   },
   "outputs": [
    {
     "data": {
      "image/png": "[encoded data removed]",
      "text/plain": [
       "<Figure size 432x288 with 1 Axes>"
      ]
     },
     "metadata": {
      "needs_background": "light"
     },
     "output_type": "display_data"
    }
   ],
   "source": [
    "ax = df.plot.bar(x='name', y='salary', rot=0)"
   ]
  },
  {
   "cell_type": "markdown",
   "id": "db81839a",
   "metadata": {
    "papermill": {
     "duration": 0.008688,
     "end_time": "2022-02-12T13:33:55.274094",
     "exception": false,
     "start_time": "2022-02-12T13:33:55.265406",
     "status": "completed"
    },
    "tags": []
   },
   "source": [
    "Not able to comapre.So use log."
   ]
  },
  {
   "cell_type": "code",
   "execution_count": 3,
   "id": "94912f0f",
   "metadata": {
    "execution": {
     "iopub.execute_input": "2022-02-12T13:33:55.296942Z",
     "iopub.status.busy": "2022-02-12T13:33:55.294745Z",
     "iopub.status.idle": "2022-02-12T13:33:55.868881Z",
     "shell.execute_reply": "2022-02-12T13:33:55.868265Z",
     "shell.execute_reply.started": "2022-01-28T18:32:50.171271Z"
    },
    "papermill": {
     "duration": 0.585857,
     "end_time": "2022-02-12T13:33:55.869021",
     "exception": false,
     "start_time": "2022-02-12T13:33:55.283164",
     "status": "completed"
    },
    "tags": []
   },
   "outputs": [
    {
     "data": {
      "image/png": "[encoded data removed]",
      "text/plain": [
       "<Figure size 432x288 with 1 Axes>"
      ]
     },
     "metadata": {
      "needs_background": "light"
     },
     "output_type": "display_data"
    }
   ],
   "source": [
    "ax = df.plot.bar(x='name', y='salary', rot=0, log=True)"
   ]
  },
  {
   "cell_type": "markdown",
   "id": "19516ba2",
   "metadata": {
    "papermill": {
     "duration": 0.009943,
     "end_time": "2022-02-12T13:33:55.888709",
     "exception": false,
     "start_time": "2022-02-12T13:33:55.878766",
     "status": "completed"
    },
    "tags": []
   },
   "source": [
    "Now the values are scaled. we can comapere."
   ]
  },
  {
   "cell_type": "code",
   "execution_count": 4,
   "id": "ed612458",
   "metadata": {
    "execution": {
     "iopub.execute_input": "2022-02-12T13:33:55.915080Z",
     "iopub.status.busy": "2022-02-12T13:33:55.914011Z",
     "iopub.status.idle": "2022-02-12T13:33:55.925086Z",
     "shell.execute_reply": "2022-02-12T13:33:55.925729Z",
     "shell.execute_reply.started": "2022-01-28T18:32:50.413946Z"
    },
    "papermill": {
     "duration": 0.027069,
     "end_time": "2022-02-12T13:33:55.925927",
     "exception": false,
     "start_time": "2022-02-12T13:33:55.898858",
     "status": "completed"
    },
    "tags": []
   },
   "outputs": [
    {
     "data": {
      "text/html": [
       "<div>\n",
       "<style scoped>\n",
       "    .dataframe tbody tr th:only-of-type {\n",
       "        vertical-align: middle;\n",
       "    }\n",
       "\n",
       "    .dataframe tbody tr th {\n",
       "        vertical-align: top;\n",
       "    }\n",
       "\n",
       "    .dataframe thead th {\n",
       "        text-align: right;\n",
       "    }\n",
       "</style>\n",
       "<table border=\"1\" class=\"dataframe\">\n",
       "  <thead>\n",
       "    <tr style=\"text-align: right;\">\n",
       "      <th></th>\n",
       "      <th>name</th>\n",
       "      <th>salary</th>\n",
       "      <th>salary_log</th>\n",
       "    </tr>\n",
       "  </thead>\n",
       "  <tbody>\n",
       "    <tr>\n",
       "      <th>0</th>\n",
       "      <td>laxman</td>\n",
       "      <td>1000</td>\n",
       "      <td>9.965784</td>\n",
       "    </tr>\n",
       "    <tr>\n",
       "      <th>1</th>\n",
       "      <td>ashok</td>\n",
       "      <td>2000</td>\n",
       "      <td>10.965784</td>\n",
       "    </tr>\n",
       "    <tr>\n",
       "      <th>2</th>\n",
       "      <td>santhosh</td>\n",
       "      <td>3000</td>\n",
       "      <td>11.550747</td>\n",
       "    </tr>\n",
       "    <tr>\n",
       "      <th>3</th>\n",
       "      <td>sudeep</td>\n",
       "      <td>100000000</td>\n",
       "      <td>26.575425</td>\n",
       "    </tr>\n",
       "  </tbody>\n",
       "</table>\n",
       "</div>"
      ],
      "text/plain": [
       "       name     salary  salary_log\n",
       "0    laxman       1000    9.965784\n",
       "1     ashok       2000   10.965784\n",
       "2  santhosh       3000   11.550747\n",
       "3    sudeep  100000000   26.575425"
      ]
     },
     "execution_count": 4,
     "metadata": {},
     "output_type": "execute_result"
    }
   ],
   "source": [
    "import numpy as np\n",
    "df['salary_log']=np.log2(df['salary'])\n",
    "df.head()"
   ]
  },
  {
   "cell_type": "code",
   "execution_count": 5,
   "id": "8cc2a32e",
   "metadata": {
    "execution": {
     "iopub.execute_input": "2022-02-12T13:33:55.952175Z",
     "iopub.status.busy": "2022-02-12T13:33:55.951134Z",
     "iopub.status.idle": "2022-02-12T13:33:56.161222Z",
     "shell.execute_reply": "2022-02-12T13:33:56.161727Z",
     "shell.execute_reply.started": "2022-01-28T18:32:50.426866Z"
    },
    "papermill": {
     "duration": 0.226034,
     "end_time": "2022-02-12T13:33:56.161895",
     "exception": false,
     "start_time": "2022-02-12T13:33:55.935861",
     "status": "completed"
    },
    "tags": []
   },
   "outputs": [
    {
     "data": {
      "image/png": "[encoded data removed]",
      "text/plain": [
       "<Figure size 432x288 with 1 Axes>"
      ]
     },
     "metadata": {
      "needs_background": "light"
     },
     "output_type": "display_data"
    }
   ],
   "source": [
    "ax = df.plot.bar(x='name', y='salary_log', rot=0)"
   ]
  }
 ],
 "metadata": {
  "kernelspec": {
   "display_name": "Python 3",
   "language": "python",
   "name": "python3"
  },
  "language_info": {
   "codemirror_mode": {
    "name": "ipython",
    "version": 3
   },
   "file_extension": ".py",
   "mimetype": "text/x-python",
   "name": "python",
   "nbconvert_exporter": "python",
   "pygments_lexer": "ipython3",
   "version": "3.7.12"
  },
  "papermill": {
   "default_parameters": {},
   "duration": 12.544778,
   "end_time": "2022-02-12T13:33:56.782604",
   "environment_variables": {},
   "exception": null,
   "input_path": "__notebook__.ipynb",
   "output_path": "__notebook__.ipynb",
   "parameters": {},
   "start_time": "2022-02-12T13:33:44.237826",
   "version": "2.3.3"
  }
 },
 "nbformat": 4,
 "nbformat_minor": 5
}
