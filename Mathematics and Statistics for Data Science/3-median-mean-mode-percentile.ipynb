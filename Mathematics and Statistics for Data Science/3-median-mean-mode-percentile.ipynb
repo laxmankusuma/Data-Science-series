{
 "cells": [
  {
   "cell_type": "markdown",
   "id": "211f6eea",
   "metadata": {
    "papermill": {
     "duration": 0.016133,
     "end_time": "2022-02-12T13:33:45.531450",
     "exception": false,
     "start_time": "2022-02-12T13:33:45.515317",
     "status": "completed"
    },
    "tags": []
   },
   "source": [
    "# Median, Mean, Mode, Percentile"
   ]
  },
  {
   "cell_type": "markdown",
   "id": "268abf3a",
   "metadata": {
    "papermill": {
     "duration": 0.014569,
     "end_time": "2022-02-12T13:33:45.563154",
     "exception": false,
     "start_time": "2022-02-12T13:33:45.548585",
     "status": "completed"
    },
    "tags": []
   },
   "source": [
    "We will use **Median, Mean, Mode** to fill the missing values.**Percentile** used to understand and interpret data."
   ]
  },
  {
   "cell_type": "markdown",
   "id": "98b56781",
   "metadata": {
    "papermill": {
     "duration": 0.01458,
     "end_time": "2022-02-12T13:33:45.592473",
     "exception": false,
     "start_time": "2022-02-12T13:33:45.577893",
     "status": "completed"
    },
    "tags": []
   },
   "source": [
    "# Mean"
   ]
  },
  {
   "cell_type": "code",
   "execution_count": 1,
   "id": "c73f3006",
   "metadata": {
    "execution": {
     "iopub.execute_input": "2022-02-12T13:33:45.625654Z",
     "iopub.status.busy": "2022-02-12T13:33:45.624731Z",
     "iopub.status.idle": "2022-02-12T13:33:45.945996Z",
     "shell.execute_reply": "2022-02-12T13:33:45.947331Z",
     "shell.execute_reply.started": "2022-01-29T22:09:00.340599Z"
    },
    "papermill": {
     "duration": 0.340276,
     "end_time": "2022-02-12T13:33:45.947612",
     "exception": false,
     "start_time": "2022-02-12T13:33:45.607336",
     "status": "completed"
    },
    "tags": []
   },
   "outputs": [
    {
     "data": {
      "text/html": [
       "<div>\n",
       "<style scoped>\n",
       "    .dataframe tbody tr th:only-of-type {\n",
       "        vertical-align: middle;\n",
       "    }\n",
       "\n",
       "    .dataframe tbody tr th {\n",
       "        vertical-align: top;\n",
       "    }\n",
       "\n",
       "    .dataframe thead th {\n",
       "        text-align: right;\n",
       "    }\n",
       "</style>\n",
       "<table border=\"1\" class=\"dataframe\">\n",
       "  <thead>\n",
       "    <tr style=\"text-align: right;\">\n",
       "      <th></th>\n",
       "      <th>name</th>\n",
       "      <th>salary</th>\n",
       "    </tr>\n",
       "  </thead>\n",
       "  <tbody>\n",
       "    <tr>\n",
       "      <th>0</th>\n",
       "      <td>laxman</td>\n",
       "      <td>1000.0</td>\n",
       "    </tr>\n",
       "    <tr>\n",
       "      <th>1</th>\n",
       "      <td>santhosh</td>\n",
       "      <td>2000.0</td>\n",
       "    </tr>\n",
       "    <tr>\n",
       "      <th>2</th>\n",
       "      <td>ashok</td>\n",
       "      <td>3000.0</td>\n",
       "    </tr>\n",
       "    <tr>\n",
       "      <th>3</th>\n",
       "      <td>rajesk</td>\n",
       "      <td>NaN</td>\n",
       "    </tr>\n",
       "    <tr>\n",
       "      <th>4</th>\n",
       "      <td>prashanth</td>\n",
       "      <td>2000.0</td>\n",
       "    </tr>\n",
       "    <tr>\n",
       "      <th>5</th>\n",
       "      <td>kumar</td>\n",
       "      <td>1000.0</td>\n",
       "    </tr>\n",
       "  </tbody>\n",
       "</table>\n",
       "</div>"
      ],
      "text/plain": [
       "        name  salary\n",
       "0     laxman  1000.0\n",
       "1   santhosh  2000.0\n",
       "2      ashok  3000.0\n",
       "3     rajesk     NaN\n",
       "4  prashanth  2000.0\n",
       "5      kumar  1000.0"
      ]
     },
     "execution_count": 1,
     "metadata": {},
     "output_type": "execute_result"
    }
   ],
   "source": [
    "import pandas as pd\n",
    "df = pd.read_csv(\"https://raw.githubusercontent.com/laxmankusuma/Data-Science-series/main/Mathematics%20and%20Statistics%20for%20Data%20Science/mean\",sep=',')\n",
    "df"
   ]
  },
  {
   "cell_type": "code",
   "execution_count": 2,
   "id": "4a0e27fd",
   "metadata": {
    "execution": {
     "iopub.execute_input": "2022-02-12T13:33:45.987683Z",
     "iopub.status.busy": "2022-02-12T13:33:45.986966Z",
     "iopub.status.idle": "2022-02-12T13:33:45.989688Z",
     "shell.execute_reply": "2022-02-12T13:33:45.990050Z",
     "shell.execute_reply.started": "2022-01-29T22:09:00.582164Z"
    },
    "papermill": {
     "duration": 0.025051,
     "end_time": "2022-02-12T13:33:45.990188",
     "exception": false,
     "start_time": "2022-02-12T13:33:45.965137",
     "status": "completed"
    },
    "tags": []
   },
   "outputs": [
    {
     "data": {
      "text/plain": [
       "1800.0"
      ]
     },
     "execution_count": 2,
     "metadata": {},
     "output_type": "execute_result"
    }
   ],
   "source": [
    "mean_value = df['salary'].mean()\n",
    "mean_value"
   ]
  },
  {
   "cell_type": "code",
   "execution_count": 3,
   "id": "354eb8c2",
   "metadata": {
    "execution": {
     "iopub.execute_input": "2022-02-12T13:33:46.025304Z",
     "iopub.status.busy": "2022-02-12T13:33:46.024800Z",
     "iopub.status.idle": "2022-02-12T13:33:46.026532Z",
     "shell.execute_reply": "2022-02-12T13:33:46.026892Z",
     "shell.execute_reply.started": "2022-01-29T22:09:00.59131Z"
    },
    "papermill": {
     "duration": 0.021136,
     "end_time": "2022-02-12T13:33:46.027023",
     "exception": false,
     "start_time": "2022-02-12T13:33:46.005887",
     "status": "completed"
    },
    "tags": []
   },
   "outputs": [],
   "source": [
    "df['salary'].fillna(value=mean_value, inplace=True)"
   ]
  },
  {
   "cell_type": "code",
   "execution_count": 4,
   "id": "228eb898",
   "metadata": {
    "execution": {
     "iopub.execute_input": "2022-02-12T13:33:46.065000Z",
     "iopub.status.busy": "2022-02-12T13:33:46.064492Z",
     "iopub.status.idle": "2022-02-12T13:33:46.066468Z",
     "shell.execute_reply": "2022-02-12T13:33:46.066849Z",
     "shell.execute_reply.started": "2022-01-29T22:09:00.605096Z"
    },
    "papermill": {
     "duration": 0.024281,
     "end_time": "2022-02-12T13:33:46.066973",
     "exception": false,
     "start_time": "2022-02-12T13:33:46.042692",
     "status": "completed"
    },
    "tags": []
   },
   "outputs": [
    {
     "data": {
      "text/html": [
       "<div>\n",
       "<style scoped>\n",
       "    .dataframe tbody tr th:only-of-type {\n",
       "        vertical-align: middle;\n",
       "    }\n",
       "\n",
       "    .dataframe tbody tr th {\n",
       "        vertical-align: top;\n",
       "    }\n",
       "\n",
       "    .dataframe thead th {\n",
       "        text-align: right;\n",
       "    }\n",
       "</style>\n",
       "<table border=\"1\" class=\"dataframe\">\n",
       "  <thead>\n",
       "    <tr style=\"text-align: right;\">\n",
       "      <th></th>\n",
       "      <th>name</th>\n",
       "      <th>salary</th>\n",
       "    </tr>\n",
       "  </thead>\n",
       "  <tbody>\n",
       "    <tr>\n",
       "      <th>0</th>\n",
       "      <td>laxman</td>\n",
       "      <td>1000.0</td>\n",
       "    </tr>\n",
       "    <tr>\n",
       "      <th>1</th>\n",
       "      <td>santhosh</td>\n",
       "      <td>2000.0</td>\n",
       "    </tr>\n",
       "    <tr>\n",
       "      <th>2</th>\n",
       "      <td>ashok</td>\n",
       "      <td>3000.0</td>\n",
       "    </tr>\n",
       "    <tr>\n",
       "      <th>3</th>\n",
       "      <td>rajesk</td>\n",
       "      <td>1800.0</td>\n",
       "    </tr>\n",
       "    <tr>\n",
       "      <th>4</th>\n",
       "      <td>prashanth</td>\n",
       "      <td>2000.0</td>\n",
       "    </tr>\n",
       "    <tr>\n",
       "      <th>5</th>\n",
       "      <td>kumar</td>\n",
       "      <td>1000.0</td>\n",
       "    </tr>\n",
       "  </tbody>\n",
       "</table>\n",
       "</div>"
      ],
      "text/plain": [
       "        name  salary\n",
       "0     laxman  1000.0\n",
       "1   santhosh  2000.0\n",
       "2      ashok  3000.0\n",
       "3     rajesk  1800.0\n",
       "4  prashanth  2000.0\n",
       "5      kumar  1000.0"
      ]
     },
     "execution_count": 4,
     "metadata": {},
     "output_type": "execute_result"
    }
   ],
   "source": [
    "df"
   ]
  },
  {
   "cell_type": "markdown",
   "id": "afdea35c",
   "metadata": {
    "papermill": {
     "duration": 0.015463,
     "end_time": "2022-02-12T13:33:46.098079",
     "exception": false,
     "start_time": "2022-02-12T13:33:46.082616",
     "status": "completed"
    },
    "tags": []
   },
   "source": [
    "salary of rajesh filled with mean value."
   ]
  },
  {
   "cell_type": "markdown",
   "id": "3f1082a9",
   "metadata": {
    "papermill": {
     "duration": 0.015389,
     "end_time": "2022-02-12T13:33:46.129596",
     "exception": false,
     "start_time": "2022-02-12T13:33:46.114207",
     "status": "completed"
    },
    "tags": []
   },
   "source": [
    "# Median use"
   ]
  },
  {
   "cell_type": "code",
   "execution_count": 5,
   "id": "ff99d58d",
   "metadata": {
    "execution": {
     "iopub.execute_input": "2022-02-12T13:33:46.170946Z",
     "iopub.status.busy": "2022-02-12T13:33:46.164915Z",
     "iopub.status.idle": "2022-02-12T13:33:46.441169Z",
     "shell.execute_reply": "2022-02-12T13:33:46.440710Z",
     "shell.execute_reply.started": "2022-01-29T22:09:00.623544Z"
    },
    "papermill": {
     "duration": 0.296027,
     "end_time": "2022-02-12T13:33:46.441321",
     "exception": false,
     "start_time": "2022-02-12T13:33:46.145294",
     "status": "completed"
    },
    "tags": []
   },
   "outputs": [
    {
     "data": {
      "text/html": [
       "<div>\n",
       "<style scoped>\n",
       "    .dataframe tbody tr th:only-of-type {\n",
       "        vertical-align: middle;\n",
       "    }\n",
       "\n",
       "    .dataframe tbody tr th {\n",
       "        vertical-align: top;\n",
       "    }\n",
       "\n",
       "    .dataframe thead th {\n",
       "        text-align: right;\n",
       "    }\n",
       "</style>\n",
       "<table border=\"1\" class=\"dataframe\">\n",
       "  <thead>\n",
       "    <tr style=\"text-align: right;\">\n",
       "      <th></th>\n",
       "      <th>name</th>\n",
       "      <th>salary</th>\n",
       "    </tr>\n",
       "  </thead>\n",
       "  <tbody>\n",
       "    <tr>\n",
       "      <th>0</th>\n",
       "      <td>laxman</td>\n",
       "      <td>1000.0000</td>\n",
       "    </tr>\n",
       "    <tr>\n",
       "      <th>1</th>\n",
       "      <td>santhosh</td>\n",
       "      <td>2000.0000</td>\n",
       "    </tr>\n",
       "    <tr>\n",
       "      <th>2</th>\n",
       "      <td>ashok</td>\n",
       "      <td>3000.0000</td>\n",
       "    </tr>\n",
       "    <tr>\n",
       "      <th>3</th>\n",
       "      <td>rajesk</td>\n",
       "      <td>NaN</td>\n",
       "    </tr>\n",
       "    <tr>\n",
       "      <th>4</th>\n",
       "      <td>prashanth</td>\n",
       "      <td>2000.0000</td>\n",
       "    </tr>\n",
       "    <tr>\n",
       "      <th>5</th>\n",
       "      <td>kumar</td>\n",
       "      <td>10000000000.0000</td>\n",
       "    </tr>\n",
       "  </tbody>\n",
       "</table>\n",
       "</div>"
      ],
      "text/plain": [
       "        name           salary\n",
       "0     laxman        1000.0000\n",
       "1   santhosh        2000.0000\n",
       "2      ashok        3000.0000\n",
       "3     rajesk              NaN\n",
       "4  prashanth        2000.0000\n",
       "5      kumar 10000000000.0000"
      ]
     },
     "execution_count": 5,
     "metadata": {},
     "output_type": "execute_result"
    }
   ],
   "source": [
    "df = pd.read_csv(\"https://raw.githubusercontent.com/laxmankusuma/Data-Science-series/main/Mathematics%20and%20Statistics%20for%20Data%20Science/median\",sep=',')\n",
    "pd.set_option('display.float_format', lambda x: '%0.4f' % x)\n",
    "df"
   ]
  },
  {
   "cell_type": "code",
   "execution_count": 6,
   "id": "9926f8f3",
   "metadata": {
    "execution": {
     "iopub.execute_input": "2022-02-12T13:33:46.478548Z",
     "iopub.status.busy": "2022-02-12T13:33:46.477741Z",
     "iopub.status.idle": "2022-02-12T13:33:46.482305Z",
     "shell.execute_reply": "2022-02-12T13:33:46.482709Z",
     "shell.execute_reply.started": "2022-01-29T22:09:00.913022Z"
    },
    "papermill": {
     "duration": 0.025035,
     "end_time": "2022-02-12T13:33:46.482844",
     "exception": false,
     "start_time": "2022-02-12T13:33:46.457809",
     "status": "completed"
    },
    "tags": []
   },
   "outputs": [
    {
     "data": {
      "text/plain": [
       "2000001600.0"
      ]
     },
     "execution_count": 6,
     "metadata": {},
     "output_type": "execute_result"
    }
   ],
   "source": [
    "df['salary'].mean()"
   ]
  },
  {
   "cell_type": "markdown",
   "id": "07b6b516",
   "metadata": {
    "papermill": {
     "duration": 0.016074,
     "end_time": "2022-02-12T13:33:46.515121",
     "exception": false,
     "start_time": "2022-02-12T13:33:46.499047",
     "status": "completed"
    },
    "tags": []
   },
   "source": [
    "In the above case we can not impute with mean, we use median.\n",
    "\n",
    "The median is the middle number in a sorted, ascending or descending, list of numbers\n",
    "\n",
    "if middle numbers are 2 then average it."
   ]
  },
  {
   "cell_type": "code",
   "execution_count": 7,
   "id": "f8810eda",
   "metadata": {
    "execution": {
     "iopub.execute_input": "2022-02-12T13:33:46.550556Z",
     "iopub.status.busy": "2022-02-12T13:33:46.549768Z",
     "iopub.status.idle": "2022-02-12T13:33:46.552868Z",
     "shell.execute_reply": "2022-02-12T13:33:46.553247Z",
     "shell.execute_reply.started": "2022-01-29T22:09:00.922025Z"
    },
    "papermill": {
     "duration": 0.021961,
     "end_time": "2022-02-12T13:33:46.553395",
     "exception": false,
     "start_time": "2022-02-12T13:33:46.531434",
     "status": "completed"
    },
    "tags": []
   },
   "outputs": [],
   "source": [
    "median_value = df['salary'].median()"
   ]
  },
  {
   "cell_type": "code",
   "execution_count": 8,
   "id": "1433048a",
   "metadata": {
    "execution": {
     "iopub.execute_input": "2022-02-12T13:33:46.588606Z",
     "iopub.status.busy": "2022-02-12T13:33:46.587819Z",
     "iopub.status.idle": "2022-02-12T13:33:46.595092Z",
     "shell.execute_reply": "2022-02-12T13:33:46.595524Z",
     "shell.execute_reply.started": "2022-01-29T22:09:00.93349Z"
    },
    "papermill": {
     "duration": 0.026093,
     "end_time": "2022-02-12T13:33:46.595653",
     "exception": false,
     "start_time": "2022-02-12T13:33:46.569560",
     "status": "completed"
    },
    "tags": []
   },
   "outputs": [
    {
     "data": {
      "text/html": [
       "<div>\n",
       "<style scoped>\n",
       "    .dataframe tbody tr th:only-of-type {\n",
       "        vertical-align: middle;\n",
       "    }\n",
       "\n",
       "    .dataframe tbody tr th {\n",
       "        vertical-align: top;\n",
       "    }\n",
       "\n",
       "    .dataframe thead th {\n",
       "        text-align: right;\n",
       "    }\n",
       "</style>\n",
       "<table border=\"1\" class=\"dataframe\">\n",
       "  <thead>\n",
       "    <tr style=\"text-align: right;\">\n",
       "      <th></th>\n",
       "      <th>name</th>\n",
       "      <th>salary</th>\n",
       "    </tr>\n",
       "  </thead>\n",
       "  <tbody>\n",
       "    <tr>\n",
       "      <th>0</th>\n",
       "      <td>laxman</td>\n",
       "      <td>1000.0000</td>\n",
       "    </tr>\n",
       "    <tr>\n",
       "      <th>1</th>\n",
       "      <td>santhosh</td>\n",
       "      <td>2000.0000</td>\n",
       "    </tr>\n",
       "    <tr>\n",
       "      <th>2</th>\n",
       "      <td>ashok</td>\n",
       "      <td>3000.0000</td>\n",
       "    </tr>\n",
       "    <tr>\n",
       "      <th>3</th>\n",
       "      <td>rajesk</td>\n",
       "      <td>2000.0000</td>\n",
       "    </tr>\n",
       "    <tr>\n",
       "      <th>4</th>\n",
       "      <td>prashanth</td>\n",
       "      <td>2000.0000</td>\n",
       "    </tr>\n",
       "    <tr>\n",
       "      <th>5</th>\n",
       "      <td>kumar</td>\n",
       "      <td>10000000000.0000</td>\n",
       "    </tr>\n",
       "  </tbody>\n",
       "</table>\n",
       "</div>"
      ],
      "text/plain": [
       "        name           salary\n",
       "0     laxman        1000.0000\n",
       "1   santhosh        2000.0000\n",
       "2      ashok        3000.0000\n",
       "3     rajesk        2000.0000\n",
       "4  prashanth        2000.0000\n",
       "5      kumar 10000000000.0000"
      ]
     },
     "execution_count": 8,
     "metadata": {},
     "output_type": "execute_result"
    }
   ],
   "source": [
    "df['salary'].fillna(value=median_value, inplace=True)\n",
    "df"
   ]
  },
  {
   "cell_type": "markdown",
   "id": "b831f760",
   "metadata": {
    "papermill": {
     "duration": 0.017439,
     "end_time": "2022-02-12T13:33:46.630070",
     "exception": false,
     "start_time": "2022-02-12T13:33:46.612631",
     "status": "completed"
    },
    "tags": []
   },
   "source": [
    "Rajesh salary updated with median"
   ]
  },
  {
   "cell_type": "markdown",
   "id": "d8805a35",
   "metadata": {
    "papermill": {
     "duration": 0.0165,
     "end_time": "2022-02-12T13:33:46.663515",
     "exception": false,
     "start_time": "2022-02-12T13:33:46.647015",
     "status": "completed"
    },
    "tags": []
   },
   "source": [
    "# Mode"
   ]
  },
  {
   "cell_type": "markdown",
   "id": "cbaeac7d",
   "metadata": {
    "papermill": {
     "duration": 0.016534,
     "end_time": "2022-02-12T13:33:46.696714",
     "exception": false,
     "start_time": "2022-02-12T13:33:46.680180",
     "status": "completed"
    },
    "tags": []
   },
   "source": [
    "The mode is the value that appears most often in a set of data values."
   ]
  },
  {
   "cell_type": "code",
   "execution_count": 9,
   "id": "52353780",
   "metadata": {
    "execution": {
     "iopub.execute_input": "2022-02-12T13:33:46.733779Z",
     "iopub.status.busy": "2022-02-12T13:33:46.733261Z",
     "iopub.status.idle": "2022-02-12T13:33:47.019111Z",
     "shell.execute_reply": "2022-02-12T13:33:47.019569Z",
     "shell.execute_reply.started": "2022-01-29T22:09:00.952564Z"
    },
    "papermill": {
     "duration": 0.306508,
     "end_time": "2022-02-12T13:33:47.019727",
     "exception": false,
     "start_time": "2022-02-12T13:33:46.713219",
     "status": "completed"
    },
    "tags": []
   },
   "outputs": [
    {
     "data": {
      "text/html": [
       "<div>\n",
       "<style scoped>\n",
       "    .dataframe tbody tr th:only-of-type {\n",
       "        vertical-align: middle;\n",
       "    }\n",
       "\n",
       "    .dataframe tbody tr th {\n",
       "        vertical-align: top;\n",
       "    }\n",
       "\n",
       "    .dataframe thead th {\n",
       "        text-align: right;\n",
       "    }\n",
       "</style>\n",
       "<table border=\"1\" class=\"dataframe\">\n",
       "  <thead>\n",
       "    <tr style=\"text-align: right;\">\n",
       "      <th></th>\n",
       "      <th>name</th>\n",
       "      <th>color</th>\n",
       "    </tr>\n",
       "  </thead>\n",
       "  <tbody>\n",
       "    <tr>\n",
       "      <th>0</th>\n",
       "      <td>laxman</td>\n",
       "      <td>brown</td>\n",
       "    </tr>\n",
       "    <tr>\n",
       "      <th>1</th>\n",
       "      <td>rajesh</td>\n",
       "      <td>brown</td>\n",
       "    </tr>\n",
       "    <tr>\n",
       "      <th>2</th>\n",
       "      <td>kumar</td>\n",
       "      <td>brown</td>\n",
       "    </tr>\n",
       "    <tr>\n",
       "      <th>3</th>\n",
       "      <td>bob</td>\n",
       "      <td>white</td>\n",
       "    </tr>\n",
       "    <tr>\n",
       "      <th>4</th>\n",
       "      <td>prashanth</td>\n",
       "      <td>brown</td>\n",
       "    </tr>\n",
       "    <tr>\n",
       "      <th>5</th>\n",
       "      <td>santhosh</td>\n",
       "      <td>NaN</td>\n",
       "    </tr>\n",
       "    <tr>\n",
       "      <th>6</th>\n",
       "      <td>ashok</td>\n",
       "      <td>brown</td>\n",
       "    </tr>\n",
       "  </tbody>\n",
       "</table>\n",
       "</div>"
      ],
      "text/plain": [
       "        name  color\n",
       "0     laxman  brown\n",
       "1     rajesh  brown\n",
       "2      kumar  brown\n",
       "3        bob  white\n",
       "4  prashanth  brown\n",
       "5   santhosh    NaN\n",
       "6      ashok  brown"
      ]
     },
     "execution_count": 9,
     "metadata": {},
     "output_type": "execute_result"
    }
   ],
   "source": [
    "df = pd.read_csv(\"https://raw.githubusercontent.com/laxmankusuma/Data-Science-series/main/Mathematics%20and%20Statistics%20for%20Data%20Science/mode\",sep=',')\n",
    "df"
   ]
  },
  {
   "cell_type": "code",
   "execution_count": 10,
   "id": "26576f2f",
   "metadata": {
    "execution": {
     "iopub.execute_input": "2022-02-12T13:33:47.071017Z",
     "iopub.status.busy": "2022-02-12T13:33:47.070229Z",
     "iopub.status.idle": "2022-02-12T13:33:47.073334Z",
     "shell.execute_reply": "2022-02-12T13:33:47.073817Z",
     "shell.execute_reply.started": "2022-01-29T22:09:01.203839Z"
    },
    "papermill": {
     "duration": 0.034638,
     "end_time": "2022-02-12T13:33:47.073971",
     "exception": false,
     "start_time": "2022-02-12T13:33:47.039333",
     "status": "completed"
    },
    "tags": []
   },
   "outputs": [
    {
     "data": {
      "text/plain": [
       "'brown'"
      ]
     },
     "execution_count": 10,
     "metadata": {},
     "output_type": "execute_result"
    }
   ],
   "source": [
    "mode_value = df['color'].mode()[0]\n",
    "mode_value"
   ]
  },
  {
   "cell_type": "code",
   "execution_count": 11,
   "id": "95c48889",
   "metadata": {
    "execution": {
     "iopub.execute_input": "2022-02-12T13:33:47.120038Z",
     "iopub.status.busy": "2022-02-12T13:33:47.119377Z",
     "iopub.status.idle": "2022-02-12T13:33:47.122024Z",
     "shell.execute_reply": "2022-02-12T13:33:47.122545Z",
     "shell.execute_reply.started": "2022-01-29T22:09:01.214801Z"
    },
    "papermill": {
     "duration": 0.029476,
     "end_time": "2022-02-12T13:33:47.122682",
     "exception": false,
     "start_time": "2022-02-12T13:33:47.093206",
     "status": "completed"
    },
    "tags": []
   },
   "outputs": [
    {
     "data": {
      "text/html": [
       "<div>\n",
       "<style scoped>\n",
       "    .dataframe tbody tr th:only-of-type {\n",
       "        vertical-align: middle;\n",
       "    }\n",
       "\n",
       "    .dataframe tbody tr th {\n",
       "        vertical-align: top;\n",
       "    }\n",
       "\n",
       "    .dataframe thead th {\n",
       "        text-align: right;\n",
       "    }\n",
       "</style>\n",
       "<table border=\"1\" class=\"dataframe\">\n",
       "  <thead>\n",
       "    <tr style=\"text-align: right;\">\n",
       "      <th></th>\n",
       "      <th>name</th>\n",
       "      <th>color</th>\n",
       "    </tr>\n",
       "  </thead>\n",
       "  <tbody>\n",
       "    <tr>\n",
       "      <th>0</th>\n",
       "      <td>laxman</td>\n",
       "      <td>brown</td>\n",
       "    </tr>\n",
       "    <tr>\n",
       "      <th>1</th>\n",
       "      <td>rajesh</td>\n",
       "      <td>brown</td>\n",
       "    </tr>\n",
       "    <tr>\n",
       "      <th>2</th>\n",
       "      <td>kumar</td>\n",
       "      <td>brown</td>\n",
       "    </tr>\n",
       "    <tr>\n",
       "      <th>3</th>\n",
       "      <td>bob</td>\n",
       "      <td>white</td>\n",
       "    </tr>\n",
       "    <tr>\n",
       "      <th>4</th>\n",
       "      <td>prashanth</td>\n",
       "      <td>brown</td>\n",
       "    </tr>\n",
       "    <tr>\n",
       "      <th>5</th>\n",
       "      <td>santhosh</td>\n",
       "      <td>brown</td>\n",
       "    </tr>\n",
       "    <tr>\n",
       "      <th>6</th>\n",
       "      <td>ashok</td>\n",
       "      <td>brown</td>\n",
       "    </tr>\n",
       "  </tbody>\n",
       "</table>\n",
       "</div>"
      ],
      "text/plain": [
       "        name  color\n",
       "0     laxman  brown\n",
       "1     rajesh  brown\n",
       "2      kumar  brown\n",
       "3        bob  white\n",
       "4  prashanth  brown\n",
       "5   santhosh  brown\n",
       "6      ashok  brown"
      ]
     },
     "execution_count": 11,
     "metadata": {},
     "output_type": "execute_result"
    }
   ],
   "source": [
    "df['color'].fillna(value=mode_value, inplace=True)\n",
    "df"
   ]
  },
  {
   "cell_type": "markdown",
   "id": "18d7816b",
   "metadata": {
    "papermill": {
     "duration": 0.017341,
     "end_time": "2022-02-12T13:33:47.158034",
     "exception": false,
     "start_time": "2022-02-12T13:33:47.140693",
     "status": "completed"
    },
    "tags": []
   },
   "source": [
    "santhosh color updated with brown color."
   ]
  },
  {
   "cell_type": "markdown",
   "id": "3c47d409",
   "metadata": {
    "papermill": {
     "duration": 0.017259,
     "end_time": "2022-02-12T13:33:47.193060",
     "exception": false,
     "start_time": "2022-02-12T13:33:47.175801",
     "status": "completed"
    },
    "tags": []
   },
   "source": [
    "# Percentile"
   ]
  },
  {
   "cell_type": "markdown",
   "id": "a41b57da",
   "metadata": {
    "papermill": {
     "duration": 0.017223,
     "end_time": "2022-02-12T13:33:47.227724",
     "exception": false,
     "start_time": "2022-02-12T13:33:47.210501",
     "status": "completed"
    },
    "tags": []
   },
   "source": [
    "A percentile is based on the rank of numbers.\n",
    "\n",
    "we can remove outliers using percentile"
   ]
  },
  {
   "cell_type": "code",
   "execution_count": 12,
   "id": "39029983",
   "metadata": {
    "execution": {
     "iopub.execute_input": "2022-02-12T13:33:47.265678Z",
     "iopub.status.busy": "2022-02-12T13:33:47.264845Z",
     "iopub.status.idle": "2022-02-12T13:33:47.546165Z",
     "shell.execute_reply": "2022-02-12T13:33:47.545731Z",
     "shell.execute_reply.started": "2022-01-29T22:09:01.233049Z"
    },
    "papermill": {
     "duration": 0.301181,
     "end_time": "2022-02-12T13:33:47.546320",
     "exception": false,
     "start_time": "2022-02-12T13:33:47.245139",
     "status": "completed"
    },
    "tags": []
   },
   "outputs": [
    {
     "data": {
      "text/html": [
       "<div>\n",
       "<style scoped>\n",
       "    .dataframe tbody tr th:only-of-type {\n",
       "        vertical-align: middle;\n",
       "    }\n",
       "\n",
       "    .dataframe tbody tr th {\n",
       "        vertical-align: top;\n",
       "    }\n",
       "\n",
       "    .dataframe thead th {\n",
       "        text-align: right;\n",
       "    }\n",
       "</style>\n",
       "<table border=\"1\" class=\"dataframe\">\n",
       "  <thead>\n",
       "    <tr style=\"text-align: right;\">\n",
       "      <th></th>\n",
       "      <th>key</th>\n",
       "      <th>value</th>\n",
       "    </tr>\n",
       "  </thead>\n",
       "  <tbody>\n",
       "    <tr>\n",
       "      <th>0</th>\n",
       "      <td>1</td>\n",
       "      <td>1000</td>\n",
       "    </tr>\n",
       "    <tr>\n",
       "      <th>1</th>\n",
       "      <td>2</td>\n",
       "      <td>2000</td>\n",
       "    </tr>\n",
       "    <tr>\n",
       "      <th>2</th>\n",
       "      <td>3</td>\n",
       "      <td>3000</td>\n",
       "    </tr>\n",
       "    <tr>\n",
       "      <th>3</th>\n",
       "      <td>4</td>\n",
       "      <td>500</td>\n",
       "    </tr>\n",
       "    <tr>\n",
       "      <th>4</th>\n",
       "      <td>5</td>\n",
       "      <td>4000</td>\n",
       "    </tr>\n",
       "    <tr>\n",
       "      <th>5</th>\n",
       "      <td>6</td>\n",
       "      <td>1200</td>\n",
       "    </tr>\n",
       "    <tr>\n",
       "      <th>6</th>\n",
       "      <td>7</td>\n",
       "      <td>2900</td>\n",
       "    </tr>\n",
       "    <tr>\n",
       "      <th>7</th>\n",
       "      <td>8</td>\n",
       "      <td>1100</td>\n",
       "    </tr>\n",
       "    <tr>\n",
       "      <th>8</th>\n",
       "      <td>9</td>\n",
       "      <td>5000</td>\n",
       "    </tr>\n",
       "    <tr>\n",
       "      <th>9</th>\n",
       "      <td>10</td>\n",
       "      <td>800</td>\n",
       "    </tr>\n",
       "    <tr>\n",
       "      <th>10</th>\n",
       "      <td>11</td>\n",
       "      <td>900</td>\n",
       "    </tr>\n",
       "    <tr>\n",
       "      <th>11</th>\n",
       "      <td>12</td>\n",
       "      <td>6000</td>\n",
       "    </tr>\n",
       "  </tbody>\n",
       "</table>\n",
       "</div>"
      ],
      "text/plain": [
       "    key  value\n",
       "0     1   1000\n",
       "1     2   2000\n",
       "2     3   3000\n",
       "3     4    500\n",
       "4     5   4000\n",
       "5     6   1200\n",
       "6     7   2900\n",
       "7     8   1100\n",
       "8     9   5000\n",
       "9    10    800\n",
       "10   11    900\n",
       "11   12   6000"
      ]
     },
     "execution_count": 12,
     "metadata": {},
     "output_type": "execute_result"
    }
   ],
   "source": [
    "df = pd.read_csv(\"https://raw.githubusercontent.com/laxmankusuma/Data-Science-series/main/Mathematics%20and%20Statistics%20for%20Data%20Science/Percentile\",sep=',')\n",
    "df"
   ]
  },
  {
   "cell_type": "markdown",
   "id": "022c9d48",
   "metadata": {
    "papermill": {
     "duration": 0.01816,
     "end_time": "2022-02-12T13:33:47.582606",
     "exception": false,
     "start_time": "2022-02-12T13:33:47.564446",
     "status": "completed"
    },
    "tags": []
   },
   "source": [
    "sort all the values\n",
    "\n",
    "500,800, 900, 1000, 1100,1200,2000,2900,3000,4000, 5000,6000\n",
    "\n"
   ]
  },
  {
   "cell_type": "markdown",
   "id": "f4085d52",
   "metadata": {
    "papermill": {
     "duration": 0.017598,
     "end_time": "2022-02-12T13:33:47.618071",
     "exception": false,
     "start_time": "2022-02-12T13:33:47.600473",
     "status": "completed"
    },
    "tags": []
   },
   "source": [
    "borders of the percentile , we call as quantile"
   ]
  },
  {
   "cell_type": "code",
   "execution_count": 13,
   "id": "c5c7ecfc",
   "metadata": {
    "execution": {
     "iopub.execute_input": "2022-02-12T13:33:47.658840Z",
     "iopub.status.busy": "2022-02-12T13:33:47.658210Z",
     "iopub.status.idle": "2022-02-12T13:33:47.663108Z",
     "shell.execute_reply": "2022-02-12T13:33:47.663558Z",
     "shell.execute_reply.started": "2022-01-29T22:09:01.544731Z"
    },
    "papermill": {
     "duration": 0.027684,
     "end_time": "2022-02-12T13:33:47.663709",
     "exception": false,
     "start_time": "2022-02-12T13:33:47.636025",
     "status": "completed"
    },
    "tags": []
   },
   "outputs": [
    {
     "data": {
      "text/plain": [
       "975.0"
      ]
     },
     "execution_count": 13,
     "metadata": {},
     "output_type": "execute_result"
    }
   ],
   "source": [
    "df['value'].quantile(0.25)"
   ]
  },
  {
   "cell_type": "code",
   "execution_count": 14,
   "id": "44ca6bd8",
   "metadata": {
    "execution": {
     "iopub.execute_input": "2022-02-12T13:33:47.719192Z",
     "iopub.status.busy": "2022-02-12T13:33:47.718409Z",
     "iopub.status.idle": "2022-02-12T13:33:47.721581Z",
     "shell.execute_reply": "2022-02-12T13:33:47.722051Z",
     "shell.execute_reply.started": "2022-01-29T22:09:01.555785Z"
    },
    "papermill": {
     "duration": 0.032836,
     "end_time": "2022-02-12T13:33:47.722194",
     "exception": false,
     "start_time": "2022-02-12T13:33:47.689358",
     "status": "completed"
    },
    "tags": []
   },
   "outputs": [
    {
     "data": {
      "text/plain": [
       "1600.0"
      ]
     },
     "execution_count": 14,
     "metadata": {},
     "output_type": "execute_result"
    }
   ],
   "source": [
    "df['value'].quantile(0.50) "
   ]
  },
  {
   "cell_type": "code",
   "execution_count": 15,
   "id": "0ca4e650",
   "metadata": {
    "execution": {
     "iopub.execute_input": "2022-02-12T13:33:47.766998Z",
     "iopub.status.busy": "2022-02-12T13:33:47.766197Z",
     "iopub.status.idle": "2022-02-12T13:33:47.772588Z",
     "shell.execute_reply": "2022-02-12T13:33:47.773083Z",
     "shell.execute_reply.started": "2022-01-29T22:09:01.571777Z"
    },
    "papermill": {
     "duration": 0.03104,
     "end_time": "2022-02-12T13:33:47.773218",
     "exception": false,
     "start_time": "2022-02-12T13:33:47.742178",
     "status": "completed"
    },
    "tags": []
   },
   "outputs": [
    {
     "data": {
      "text/plain": [
       "3250.0"
      ]
     },
     "execution_count": 15,
     "metadata": {},
     "output_type": "execute_result"
    }
   ],
   "source": [
    "df['value'].quantile(0.75) "
   ]
  },
  {
   "cell_type": "code",
   "execution_count": 16,
   "id": "cbe80c95",
   "metadata": {
    "execution": {
     "iopub.execute_input": "2022-02-12T13:33:47.815751Z",
     "iopub.status.busy": "2022-02-12T13:33:47.814914Z",
     "iopub.status.idle": "2022-02-12T13:33:47.820772Z",
     "shell.execute_reply": "2022-02-12T13:33:47.821262Z",
     "shell.execute_reply.started": "2022-01-29T22:09:01.585143Z"
    },
    "papermill": {
     "duration": 0.028344,
     "end_time": "2022-02-12T13:33:47.821438",
     "exception": false,
     "start_time": "2022-02-12T13:33:47.793094",
     "status": "completed"
    },
    "tags": []
   },
   "outputs": [
    {
     "data": {
      "text/plain": [
       "6000.0"
      ]
     },
     "execution_count": 16,
     "metadata": {},
     "output_type": "execute_result"
    }
   ],
   "source": [
    "df['value'].quantile(1) # big value"
   ]
  },
  {
   "cell_type": "code",
   "execution_count": 17,
   "id": "7672ee6a",
   "metadata": {
    "execution": {
     "iopub.execute_input": "2022-02-12T13:33:47.864654Z",
     "iopub.status.busy": "2022-02-12T13:33:47.863796Z",
     "iopub.status.idle": "2022-02-12T13:33:47.869957Z",
     "shell.execute_reply": "2022-02-12T13:33:47.870444Z",
     "shell.execute_reply.started": "2022-01-29T22:09:01.596266Z"
    },
    "papermill": {
     "duration": 0.029051,
     "end_time": "2022-02-12T13:33:47.870579",
     "exception": false,
     "start_time": "2022-02-12T13:33:47.841528",
     "status": "completed"
    },
    "tags": []
   },
   "outputs": [
    {
     "data": {
      "text/plain": [
       "500.0"
      ]
     },
     "execution_count": 17,
     "metadata": {},
     "output_type": "execute_result"
    }
   ],
   "source": [
    "df['value'].quantile(0) #  small value"
   ]
  },
  {
   "cell_type": "code",
   "execution_count": 18,
   "id": "6d96a9cf",
   "metadata": {
    "execution": {
     "iopub.execute_input": "2022-02-12T13:33:47.926641Z",
     "iopub.status.busy": "2022-02-12T13:33:47.921195Z",
     "iopub.status.idle": "2022-02-12T13:33:47.929115Z",
     "shell.execute_reply": "2022-02-12T13:33:47.929627Z",
     "shell.execute_reply.started": "2022-01-29T22:09:01.613469Z"
    },
    "papermill": {
     "duration": 0.038877,
     "end_time": "2022-02-12T13:33:47.929755",
     "exception": false,
     "start_time": "2022-02-12T13:33:47.890878",
     "status": "completed"
    },
    "tags": []
   },
   "outputs": [
    {
     "data": {
      "text/html": [
       "<div>\n",
       "<style scoped>\n",
       "    .dataframe tbody tr th:only-of-type {\n",
       "        vertical-align: middle;\n",
       "    }\n",
       "\n",
       "    .dataframe tbody tr th {\n",
       "        vertical-align: top;\n",
       "    }\n",
       "\n",
       "    .dataframe thead th {\n",
       "        text-align: right;\n",
       "    }\n",
       "</style>\n",
       "<table border=\"1\" class=\"dataframe\">\n",
       "  <thead>\n",
       "    <tr style=\"text-align: right;\">\n",
       "      <th></th>\n",
       "      <th>key</th>\n",
       "      <th>value</th>\n",
       "    </tr>\n",
       "  </thead>\n",
       "  <tbody>\n",
       "    <tr>\n",
       "      <th>count</th>\n",
       "      <td>12.0000</td>\n",
       "      <td>12.0000</td>\n",
       "    </tr>\n",
       "    <tr>\n",
       "      <th>mean</th>\n",
       "      <td>6.5000</td>\n",
       "      <td>2366.6667</td>\n",
       "    </tr>\n",
       "    <tr>\n",
       "      <th>std</th>\n",
       "      <td>3.6056</td>\n",
       "      <td>1822.7518</td>\n",
       "    </tr>\n",
       "    <tr>\n",
       "      <th>min</th>\n",
       "      <td>1.0000</td>\n",
       "      <td>500.0000</td>\n",
       "    </tr>\n",
       "    <tr>\n",
       "      <th>25%</th>\n",
       "      <td>3.7500</td>\n",
       "      <td>975.0000</td>\n",
       "    </tr>\n",
       "    <tr>\n",
       "      <th>50%</th>\n",
       "      <td>6.5000</td>\n",
       "      <td>1600.0000</td>\n",
       "    </tr>\n",
       "    <tr>\n",
       "      <th>75%</th>\n",
       "      <td>9.2500</td>\n",
       "      <td>3250.0000</td>\n",
       "    </tr>\n",
       "    <tr>\n",
       "      <th>max</th>\n",
       "      <td>12.0000</td>\n",
       "      <td>6000.0000</td>\n",
       "    </tr>\n",
       "  </tbody>\n",
       "</table>\n",
       "</div>"
      ],
      "text/plain": [
       "          key     value\n",
       "count 12.0000   12.0000\n",
       "mean   6.5000 2366.6667\n",
       "std    3.6056 1822.7518\n",
       "min    1.0000  500.0000\n",
       "25%    3.7500  975.0000\n",
       "50%    6.5000 1600.0000\n",
       "75%    9.2500 3250.0000\n",
       "max   12.0000 6000.0000"
      ]
     },
     "execution_count": 18,
     "metadata": {},
     "output_type": "execute_result"
    }
   ],
   "source": [
    "df.describe()"
   ]
  },
  {
   "cell_type": "markdown",
   "id": "bdfbb0c7",
   "metadata": {
    "papermill": {
     "duration": 0.019509,
     "end_time": "2022-02-12T13:33:47.968502",
     "exception": false,
     "start_time": "2022-02-12T13:33:47.948993",
     "status": "completed"
    },
    "tags": []
   },
   "source": [
    "* 1st quantile : 25% percentile is 975. that means 25% of the values less than 975.\n",
    "* 2nd quantile : 50% percentile is 1600. that means 50% of the values less than 1600.\n",
    "* 3rd quantile : 75% percentile is 3250. that means 75% of the values greater than 3250."
   ]
  },
  {
   "cell_type": "code",
   "execution_count": null,
   "id": "d323e676",
   "metadata": {
    "papermill": {
     "duration": 0.020551,
     "end_time": "2022-02-12T13:33:48.008302",
     "exception": false,
     "start_time": "2022-02-12T13:33:47.987751",
     "status": "completed"
    },
    "tags": []
   },
   "outputs": [],
   "source": []
  }
 ],
 "metadata": {
  "kernelspec": {
   "display_name": "Python 3",
   "language": "python",
   "name": "python3"
  },
  "language_info": {
   "codemirror_mode": {
    "name": "ipython",
    "version": 3
   },
   "file_extension": ".py",
   "mimetype": "text/x-python",
   "name": "python",
   "nbconvert_exporter": "python",
   "pygments_lexer": "ipython3",
   "version": "3.7.12"
  },
  "papermill": {
   "default_parameters": {},
   "duration": 10.195204,
   "end_time": "2022-02-12T13:33:48.434826",
   "environment_variables": {},
   "exception": null,
   "input_path": "__notebook__.ipynb",
   "output_path": "__notebook__.ipynb",
   "parameters": {},
   "start_time": "2022-02-12T13:33:38.239622",
   "version": "2.3.3"
  }
 },
 "nbformat": 4,
 "nbformat_minor": 5
}
