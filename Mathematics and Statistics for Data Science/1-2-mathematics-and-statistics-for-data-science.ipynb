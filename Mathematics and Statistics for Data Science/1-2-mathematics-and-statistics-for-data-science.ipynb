{
 "cells": [
  {
   "cell_type": "markdown",
   "id": "ab765811",
   "metadata": {
    "papermill": {
     "duration": 0.030161,
     "end_time": "2022-01-29T19:27:03.819649",
     "exception": false,
     "start_time": "2022-01-29T19:27:03.789488",
     "status": "completed"
    },
    "tags": []
   },
   "source": [
    "# Why Standard Deviation(SD) and Mean Absolute Deviation(MAD)?Where we will use?"
   ]
  },
  {
   "cell_type": "markdown",
   "id": "41bb50e8",
   "metadata": {
    "papermill": {
     "duration": 0.027562,
     "end_time": "2022-01-29T19:27:03.875652",
     "exception": false,
     "start_time": "2022-01-29T19:27:03.848090",
     "status": "completed"
    },
    "tags": []
   },
   "source": [
    "**Example1**:"
   ]
  },
  {
   "cell_type": "code",
   "execution_count": 1,
   "id": "d35180e8",
   "metadata": {
    "execution": {
     "iopub.execute_input": "2022-01-29T19:27:03.935965Z",
     "iopub.status.busy": "2022-01-29T19:27:03.934730Z",
     "iopub.status.idle": "2022-01-29T19:27:04.242886Z",
     "shell.execute_reply": "2022-01-29T19:27:04.241980Z",
     "shell.execute_reply.started": "2022-01-29T19:24:17.213452Z"
    },
    "papermill": {
     "duration": 0.339642,
     "end_time": "2022-01-29T19:27:04.243094",
     "exception": false,
     "start_time": "2022-01-29T19:27:03.903452",
     "status": "completed"
    },
    "tags": []
   },
   "outputs": [
    {
     "data": {
      "text/html": [
       "<div>\n",
       "<style scoped>\n",
       "    .dataframe tbody tr th:only-of-type {\n",
       "        vertical-align: middle;\n",
       "    }\n",
       "\n",
       "    .dataframe tbody tr th {\n",
       "        vertical-align: top;\n",
       "    }\n",
       "\n",
       "    .dataframe thead th {\n",
       "        text-align: right;\n",
       "    }\n",
       "</style>\n",
       "<table border=\"1\" class=\"dataframe\">\n",
       "  <thead>\n",
       "    <tr style=\"text-align: right;\">\n",
       "      <th></th>\n",
       "      <th>name</th>\n",
       "      <th>salary</th>\n",
       "    </tr>\n",
       "  </thead>\n",
       "  <tbody>\n",
       "    <tr>\n",
       "      <th>0</th>\n",
       "      <td>laxman</td>\n",
       "      <td>1000</td>\n",
       "    </tr>\n",
       "    <tr>\n",
       "      <th>1</th>\n",
       "      <td>ashok</td>\n",
       "      <td>2000</td>\n",
       "    </tr>\n",
       "    <tr>\n",
       "      <th>2</th>\n",
       "      <td>prashanth</td>\n",
       "      <td>3100</td>\n",
       "    </tr>\n",
       "    <tr>\n",
       "      <th>3</th>\n",
       "      <td>santhosh</td>\n",
       "      <td>1200</td>\n",
       "    </tr>\n",
       "    <tr>\n",
       "      <th>4</th>\n",
       "      <td>sudeep</td>\n",
       "      <td>2300</td>\n",
       "    </tr>\n",
       "    <tr>\n",
       "      <th>5</th>\n",
       "      <td>kumar</td>\n",
       "      <td>1300</td>\n",
       "    </tr>\n",
       "    <tr>\n",
       "      <th>6</th>\n",
       "      <td>goverdhan</td>\n",
       "      <td>1400</td>\n",
       "    </tr>\n",
       "    <tr>\n",
       "      <th>7</th>\n",
       "      <td>rajesh</td>\n",
       "      <td>2900</td>\n",
       "    </tr>\n",
       "  </tbody>\n",
       "</table>\n",
       "</div>"
      ],
      "text/plain": [
       "        name  salary\n",
       "0     laxman    1000\n",
       "1      ashok    2000\n",
       "2  prashanth    3100\n",
       "3   santhosh    1200\n",
       "4     sudeep    2300\n",
       "5      kumar    1300\n",
       "6  goverdhan    1400\n",
       "7     rajesh    2900"
      ]
     },
     "execution_count": 1,
     "metadata": {},
     "output_type": "execute_result"
    }
   ],
   "source": [
    "import pandas as pd\n",
    "df = pd.read_csv(\"https://raw.githubusercontent.com/laxmankusuma/Data-Science-series/main/Mathematics%20and%20Statistics%20for%20Data%20Science/mad.txt\",sep=',')\n",
    "df.tail(df.count()['salary'])"
   ]
  },
  {
   "cell_type": "code",
   "execution_count": 2,
   "id": "35a4390f",
   "metadata": {
    "execution": {
     "iopub.execute_input": "2022-01-29T19:27:04.303286Z",
     "iopub.status.busy": "2022-01-29T19:27:04.302541Z",
     "iopub.status.idle": "2022-01-29T19:27:04.312790Z",
     "shell.execute_reply": "2022-01-29T19:27:04.313537Z",
     "shell.execute_reply.started": "2022-01-29T19:24:17.355645Z"
    },
    "papermill": {
     "duration": 0.04247,
     "end_time": "2022-01-29T19:27:04.313794",
     "exception": false,
     "start_time": "2022-01-29T19:27:04.271324",
     "status": "completed"
    },
    "tags": []
   },
   "outputs": [
    {
     "name": "stdout",
     "output_type": "stream",
     "text": [
      "min : 1000\n",
      "max : 3100\n",
      "average : 1900.0\n",
      "Mean Absolute Deviation : 675.0\n",
      "Standard Deviation : 751.6648189186454\n"
     ]
    }
   ],
   "source": [
    "import numpy as np\n",
    "print(\"min : \"+ str(df['salary'].min()))\n",
    "print(\"max : \"+ str(df['salary'].max()))\n",
    "print(\"average : \"+ str(df['salary'].mean()))\n",
    "print(\"Mean Absolute Deviation : \"+ str(df['salary'].mad()))\n",
    "print(\"Standard Deviation : \"+ str(np.std(df['salary'])))"
   ]
  },
  {
   "cell_type": "markdown",
   "id": "092bd1ac",
   "metadata": {
    "papermill": {
     "duration": 0.029666,
     "end_time": "2022-01-29T19:27:04.373930",
     "exception": false,
     "start_time": "2022-01-29T19:27:04.344264",
     "status": "completed"
    },
    "tags": []
   },
   "source": [
    " Without seeing the data, we can get some insights about the data using MAD or SD.\n",
    " \n",
    " MAD 675 means , most of the data spred in the range of 1900-675 to 1900+675\n",
    " \n",
    " Same SD also infer the meaning that,most of the data spred in the range of 1900-751 to 1900+751"
   ]
  },
  {
   "cell_type": "markdown",
   "id": "6ac2c4df",
   "metadata": {
    "papermill": {
     "duration": 0.029117,
     "end_time": "2022-01-29T19:27:04.434939",
     "exception": false,
     "start_time": "2022-01-29T19:27:04.405822",
     "status": "completed"
    },
    "tags": []
   },
   "source": [
    "## Calculation of Mean Absolute Deviation"
   ]
  },
  {
   "cell_type": "code",
   "execution_count": 3,
   "id": "7a35376a",
   "metadata": {
    "execution": {
     "iopub.execute_input": "2022-01-29T19:27:04.502471Z",
     "iopub.status.busy": "2022-01-29T19:27:04.501414Z",
     "iopub.status.idle": "2022-01-29T19:27:04.516215Z",
     "shell.execute_reply": "2022-01-29T19:27:04.516764Z",
     "shell.execute_reply.started": "2022-01-29T19:24:17.366153Z"
    },
    "papermill": {
     "duration": 0.051471,
     "end_time": "2022-01-29T19:27:04.516967",
     "exception": false,
     "start_time": "2022-01-29T19:27:04.465496",
     "status": "completed"
    },
    "tags": []
   },
   "outputs": [
    {
     "data": {
      "text/html": [
       "<div>\n",
       "<style scoped>\n",
       "    .dataframe tbody tr th:only-of-type {\n",
       "        vertical-align: middle;\n",
       "    }\n",
       "\n",
       "    .dataframe tbody tr th {\n",
       "        vertical-align: top;\n",
       "    }\n",
       "\n",
       "    .dataframe thead th {\n",
       "        text-align: right;\n",
       "    }\n",
       "</style>\n",
       "<table border=\"1\" class=\"dataframe\">\n",
       "  <thead>\n",
       "    <tr style=\"text-align: right;\">\n",
       "      <th></th>\n",
       "      <th>name</th>\n",
       "      <th>salary</th>\n",
       "      <th>Absolute Deviation</th>\n",
       "    </tr>\n",
       "  </thead>\n",
       "  <tbody>\n",
       "    <tr>\n",
       "      <th>0</th>\n",
       "      <td>laxman</td>\n",
       "      <td>1000</td>\n",
       "      <td>900</td>\n",
       "    </tr>\n",
       "    <tr>\n",
       "      <th>1</th>\n",
       "      <td>ashok</td>\n",
       "      <td>2000</td>\n",
       "      <td>100</td>\n",
       "    </tr>\n",
       "    <tr>\n",
       "      <th>2</th>\n",
       "      <td>prashanth</td>\n",
       "      <td>3100</td>\n",
       "      <td>1200</td>\n",
       "    </tr>\n",
       "    <tr>\n",
       "      <th>3</th>\n",
       "      <td>santhosh</td>\n",
       "      <td>1200</td>\n",
       "      <td>700</td>\n",
       "    </tr>\n",
       "    <tr>\n",
       "      <th>4</th>\n",
       "      <td>sudeep</td>\n",
       "      <td>2300</td>\n",
       "      <td>400</td>\n",
       "    </tr>\n",
       "    <tr>\n",
       "      <th>5</th>\n",
       "      <td>kumar</td>\n",
       "      <td>1300</td>\n",
       "      <td>600</td>\n",
       "    </tr>\n",
       "    <tr>\n",
       "      <th>6</th>\n",
       "      <td>goverdhan</td>\n",
       "      <td>1400</td>\n",
       "      <td>500</td>\n",
       "    </tr>\n",
       "    <tr>\n",
       "      <th>7</th>\n",
       "      <td>rajesh</td>\n",
       "      <td>2900</td>\n",
       "      <td>1000</td>\n",
       "    </tr>\n",
       "  </tbody>\n",
       "</table>\n",
       "</div>"
      ],
      "text/plain": [
       "        name  salary  Absolute Deviation\n",
       "0     laxman    1000                 900\n",
       "1      ashok    2000                 100\n",
       "2  prashanth    3100                1200\n",
       "3   santhosh    1200                 700\n",
       "4     sudeep    2300                 400\n",
       "5      kumar    1300                 600\n",
       "6  goverdhan    1400                 500\n",
       "7     rajesh    2900                1000"
      ]
     },
     "execution_count": 3,
     "metadata": {},
     "output_type": "execute_result"
    }
   ],
   "source": [
    "df['Absolute Deviation'] = (df['salary'] - 1900).abs()\n",
    "df.tail(df.count()['salary'])"
   ]
  },
  {
   "cell_type": "code",
   "execution_count": 4,
   "id": "64eb21c1",
   "metadata": {
    "execution": {
     "iopub.execute_input": "2022-01-29T19:27:04.582210Z",
     "iopub.status.busy": "2022-01-29T19:27:04.581187Z",
     "iopub.status.idle": "2022-01-29T19:27:04.584352Z",
     "shell.execute_reply": "2022-01-29T19:27:04.584880Z",
     "shell.execute_reply.started": "2022-01-29T19:24:17.389815Z"
    },
    "papermill": {
     "duration": 0.039259,
     "end_time": "2022-01-29T19:27:04.585072",
     "exception": false,
     "start_time": "2022-01-29T19:27:04.545813",
     "status": "completed"
    },
    "tags": []
   },
   "outputs": [
    {
     "name": "stdout",
     "output_type": "stream",
     "text": [
      "Mean Absolute Deviation : 675.0\n"
     ]
    }
   ],
   "source": [
    "print(\"Mean Absolute Deviation : \"+ str(df['Absolute Deviation'].mean()))"
   ]
  },
  {
   "cell_type": "markdown",
   "id": "64b34387",
   "metadata": {
    "papermill": {
     "duration": 0.028632,
     "end_time": "2022-01-29T19:27:04.642699",
     "exception": false,
     "start_time": "2022-01-29T19:27:04.614067",
     "status": "completed"
    },
    "tags": []
   },
   "source": [
    "## Calculation of Standard Deviation"
   ]
  },
  {
   "cell_type": "code",
   "execution_count": 5,
   "id": "21d81aee",
   "metadata": {
    "execution": {
     "iopub.execute_input": "2022-01-29T19:27:04.706171Z",
     "iopub.status.busy": "2022-01-29T19:27:04.705350Z",
     "iopub.status.idle": "2022-01-29T19:27:04.723858Z",
     "shell.execute_reply": "2022-01-29T19:27:04.723278Z",
     "shell.execute_reply.started": "2022-01-29T19:24:17.398814Z"
    },
    "papermill": {
     "duration": 0.052037,
     "end_time": "2022-01-29T19:27:04.724018",
     "exception": false,
     "start_time": "2022-01-29T19:27:04.671981",
     "status": "completed"
    },
    "tags": []
   },
   "outputs": [
    {
     "data": {
      "text/html": [
       "<div>\n",
       "<style scoped>\n",
       "    .dataframe tbody tr th:only-of-type {\n",
       "        vertical-align: middle;\n",
       "    }\n",
       "\n",
       "    .dataframe tbody tr th {\n",
       "        vertical-align: top;\n",
       "    }\n",
       "\n",
       "    .dataframe thead th {\n",
       "        text-align: right;\n",
       "    }\n",
       "</style>\n",
       "<table border=\"1\" class=\"dataframe\">\n",
       "  <thead>\n",
       "    <tr style=\"text-align: right;\">\n",
       "      <th></th>\n",
       "      <th>name</th>\n",
       "      <th>salary</th>\n",
       "      <th>Absolute Deviation</th>\n",
       "      <th>Deviation</th>\n",
       "      <th>Square Deviation</th>\n",
       "    </tr>\n",
       "  </thead>\n",
       "  <tbody>\n",
       "    <tr>\n",
       "      <th>0</th>\n",
       "      <td>laxman</td>\n",
       "      <td>1000</td>\n",
       "      <td>900</td>\n",
       "      <td>-900</td>\n",
       "      <td>810000</td>\n",
       "    </tr>\n",
       "    <tr>\n",
       "      <th>1</th>\n",
       "      <td>ashok</td>\n",
       "      <td>2000</td>\n",
       "      <td>100</td>\n",
       "      <td>100</td>\n",
       "      <td>10000</td>\n",
       "    </tr>\n",
       "    <tr>\n",
       "      <th>2</th>\n",
       "      <td>prashanth</td>\n",
       "      <td>3100</td>\n",
       "      <td>1200</td>\n",
       "      <td>1200</td>\n",
       "      <td>1440000</td>\n",
       "    </tr>\n",
       "    <tr>\n",
       "      <th>3</th>\n",
       "      <td>santhosh</td>\n",
       "      <td>1200</td>\n",
       "      <td>700</td>\n",
       "      <td>-700</td>\n",
       "      <td>490000</td>\n",
       "    </tr>\n",
       "    <tr>\n",
       "      <th>4</th>\n",
       "      <td>sudeep</td>\n",
       "      <td>2300</td>\n",
       "      <td>400</td>\n",
       "      <td>400</td>\n",
       "      <td>160000</td>\n",
       "    </tr>\n",
       "    <tr>\n",
       "      <th>5</th>\n",
       "      <td>kumar</td>\n",
       "      <td>1300</td>\n",
       "      <td>600</td>\n",
       "      <td>-600</td>\n",
       "      <td>360000</td>\n",
       "    </tr>\n",
       "    <tr>\n",
       "      <th>6</th>\n",
       "      <td>goverdhan</td>\n",
       "      <td>1400</td>\n",
       "      <td>500</td>\n",
       "      <td>-500</td>\n",
       "      <td>250000</td>\n",
       "    </tr>\n",
       "    <tr>\n",
       "      <th>7</th>\n",
       "      <td>rajesh</td>\n",
       "      <td>2900</td>\n",
       "      <td>1000</td>\n",
       "      <td>1000</td>\n",
       "      <td>1000000</td>\n",
       "    </tr>\n",
       "  </tbody>\n",
       "</table>\n",
       "</div>"
      ],
      "text/plain": [
       "        name  salary  Absolute Deviation  Deviation  Square Deviation\n",
       "0     laxman    1000                 900       -900            810000\n",
       "1      ashok    2000                 100        100             10000\n",
       "2  prashanth    3100                1200       1200           1440000\n",
       "3   santhosh    1200                 700       -700            490000\n",
       "4     sudeep    2300                 400        400            160000\n",
       "5      kumar    1300                 600       -600            360000\n",
       "6  goverdhan    1400                 500       -500            250000\n",
       "7     rajesh    2900                1000       1000           1000000"
      ]
     },
     "execution_count": 5,
     "metadata": {},
     "output_type": "execute_result"
    }
   ],
   "source": [
    "df['Deviation'] = (df['salary'] - 1900)\n",
    "df['Square Deviation'] = df['Deviation']**2\n",
    "df.tail(df.count()['salary'])"
   ]
  },
  {
   "cell_type": "code",
   "execution_count": 6,
   "id": "12536ab7",
   "metadata": {
    "execution": {
     "iopub.execute_input": "2022-01-29T19:27:04.787888Z",
     "iopub.status.busy": "2022-01-29T19:27:04.786802Z",
     "iopub.status.idle": "2022-01-29T19:27:04.794757Z",
     "shell.execute_reply": "2022-01-29T19:27:04.795535Z",
     "shell.execute_reply.started": "2022-01-29T19:24:17.423488Z"
    },
    "papermill": {
     "duration": 0.042095,
     "end_time": "2022-01-29T19:27:04.795795",
     "exception": false,
     "start_time": "2022-01-29T19:27:04.753700",
     "status": "completed"
    },
    "tags": []
   },
   "outputs": [
    {
     "name": "stdout",
     "output_type": "stream",
     "text": [
      "Averageof Square Deviation : 565000.0\n",
      "Standard Deviation : 751.6648189186454\n"
     ]
    }
   ],
   "source": [
    "import math\n",
    "print(\"Averageof Square Deviation : \"+ str(df['Square Deviation'].mean()))\n",
    "print(\"Standard Deviation : \"+ str(math.sqrt(df['Square Deviation'].mean())))"
   ]
  },
  {
   "cell_type": "markdown",
   "id": "c6e5ae4c",
   "metadata": {
    "papermill": {
     "duration": 0.031094,
     "end_time": "2022-01-29T19:27:04.859527",
     "exception": false,
     "start_time": "2022-01-29T19:27:04.828433",
     "status": "completed"
    },
    "tags": []
   },
   "source": [
    "**Example2**:"
   ]
  },
  {
   "cell_type": "code",
   "execution_count": 7,
   "id": "c19bc2d0",
   "metadata": {
    "execution": {
     "iopub.execute_input": "2022-01-29T19:27:04.926570Z",
     "iopub.status.busy": "2022-01-29T19:27:04.923495Z",
     "iopub.status.idle": "2022-01-29T19:27:05.154548Z",
     "shell.execute_reply": "2022-01-29T19:27:05.155060Z",
     "shell.execute_reply.started": "2022-01-29T19:24:17.432603Z"
    },
    "papermill": {
     "duration": 0.265516,
     "end_time": "2022-01-29T19:27:05.155268",
     "exception": false,
     "start_time": "2022-01-29T19:27:04.889752",
     "status": "completed"
    },
    "tags": []
   },
   "outputs": [
    {
     "data": {
      "text/html": [
       "<div>\n",
       "<style scoped>\n",
       "    .dataframe tbody tr th:only-of-type {\n",
       "        vertical-align: middle;\n",
       "    }\n",
       "\n",
       "    .dataframe tbody tr th {\n",
       "        vertical-align: top;\n",
       "    }\n",
       "\n",
       "    .dataframe thead th {\n",
       "        text-align: right;\n",
       "    }\n",
       "</style>\n",
       "<table border=\"1\" class=\"dataframe\">\n",
       "  <thead>\n",
       "    <tr style=\"text-align: right;\">\n",
       "      <th></th>\n",
       "      <th>name</th>\n",
       "      <th>salary</th>\n",
       "    </tr>\n",
       "  </thead>\n",
       "  <tbody>\n",
       "    <tr>\n",
       "      <th>0</th>\n",
       "      <td>laxman</td>\n",
       "      <td>1000</td>\n",
       "    </tr>\n",
       "    <tr>\n",
       "      <th>1</th>\n",
       "      <td>ashok</td>\n",
       "      <td>2000</td>\n",
       "    </tr>\n",
       "    <tr>\n",
       "      <th>2</th>\n",
       "      <td>prashanth</td>\n",
       "      <td>3100</td>\n",
       "    </tr>\n",
       "    <tr>\n",
       "      <th>3</th>\n",
       "      <td>santhosh</td>\n",
       "      <td>1200</td>\n",
       "    </tr>\n",
       "    <tr>\n",
       "      <th>4</th>\n",
       "      <td>sudeep</td>\n",
       "      <td>2300</td>\n",
       "    </tr>\n",
       "    <tr>\n",
       "      <th>5</th>\n",
       "      <td>kumar</td>\n",
       "      <td>1300</td>\n",
       "    </tr>\n",
       "    <tr>\n",
       "      <th>6</th>\n",
       "      <td>goverdhan</td>\n",
       "      <td>1400</td>\n",
       "    </tr>\n",
       "    <tr>\n",
       "      <th>7</th>\n",
       "      <td>rajesh</td>\n",
       "      <td>2900</td>\n",
       "    </tr>\n",
       "    <tr>\n",
       "      <th>8</th>\n",
       "      <td>pullayya</td>\n",
       "      <td>100</td>\n",
       "    </tr>\n",
       "    <tr>\n",
       "      <th>9</th>\n",
       "      <td>mallayya</td>\n",
       "      <td>10000</td>\n",
       "    </tr>\n",
       "  </tbody>\n",
       "</table>\n",
       "</div>"
      ],
      "text/plain": [
       "        name  salary\n",
       "0     laxman    1000\n",
       "1      ashok    2000\n",
       "2  prashanth    3100\n",
       "3   santhosh    1200\n",
       "4     sudeep    2300\n",
       "5      kumar    1300\n",
       "6  goverdhan    1400\n",
       "7     rajesh    2900\n",
       "8   pullayya     100\n",
       "9   mallayya   10000"
      ]
     },
     "execution_count": 7,
     "metadata": {},
     "output_type": "execute_result"
    }
   ],
   "source": [
    "df = pd.read_csv(\"https://raw.githubusercontent.com/laxmankusuma/Data-Science-series/main/Mathematics%20and%20Statistics%20for%20Data%20Science/mad2.txt\",sep=',')\n",
    "df.tail(df.count()['salary'])"
   ]
  },
  {
   "cell_type": "code",
   "execution_count": 8,
   "id": "23cab50c",
   "metadata": {
    "execution": {
     "iopub.execute_input": "2022-01-29T19:27:05.220888Z",
     "iopub.status.busy": "2022-01-29T19:27:05.219829Z",
     "iopub.status.idle": "2022-01-29T19:27:05.230776Z",
     "shell.execute_reply": "2022-01-29T19:27:05.231319Z",
     "shell.execute_reply.started": "2022-01-29T19:24:17.578733Z"
    },
    "papermill": {
     "duration": 0.045811,
     "end_time": "2022-01-29T19:27:05.231549",
     "exception": false,
     "start_time": "2022-01-29T19:27:05.185738",
     "status": "completed"
    },
    "tags": []
   },
   "outputs": [
    {
     "name": "stdout",
     "output_type": "stream",
     "text": [
      "min : 100\n",
      "max : 10000\n",
      "average : 2530.0\n",
      "Mean Absolute Deviation : 1682.0\n",
      "Standard Deviation : 2634.4069541359777\n"
     ]
    }
   ],
   "source": [
    "print(\"min : \"+ str(df['salary'].min()))\n",
    "print(\"max : \"+ str(df['salary'].max()))\n",
    "print(\"average : \"+ str(df['salary'].mean()))\n",
    "print(\"Mean Absolute Deviation : \"+ str(df['salary'].mad()))\n",
    "print(\"Standard Deviation : \"+ str(np.std(df['salary'])))"
   ]
  },
  {
   "cell_type": "markdown",
   "id": "bbabe2eb",
   "metadata": {
    "papermill": {
     "duration": 0.031066,
     "end_time": "2022-01-29T19:27:05.294113",
     "exception": false,
     "start_time": "2022-01-29T19:27:05.263047",
     "status": "completed"
    },
    "tags": []
   },
   "source": [
    "Without seeing the data, we can get some insights about the data using MAD or SD.\n",
    "\n",
    " MAD 1682 means , most of the data spred in the range of 2530-1682 to 2530+1682\n",
    " \n",
    " Same SD also infer the meaning that,most of the data spred in the range of 2530-2634 to 2530+2634"
   ]
  },
  {
   "cell_type": "markdown",
   "id": "0f8d9dcf",
   "metadata": {
    "papermill": {
     "duration": 0.031935,
     "end_time": "2022-01-29T19:27:05.357280",
     "exception": false,
     "start_time": "2022-01-29T19:27:05.325345",
     "status": "completed"
    },
    "tags": []
   },
   "source": [
    "**Note** : Use numpy standard diviation instead of pandas becuase its giving different value, check below code"
   ]
  },
  {
   "cell_type": "code",
   "execution_count": 9,
   "id": "341c6fb4",
   "metadata": {
    "execution": {
     "iopub.execute_input": "2022-01-29T19:27:05.428457Z",
     "iopub.status.busy": "2022-01-29T19:27:05.425586Z",
     "iopub.status.idle": "2022-01-29T19:27:05.432831Z",
     "shell.execute_reply": "2022-01-29T19:27:05.433383Z",
     "shell.execute_reply.started": "2022-01-29T19:24:17.590908Z"
    },
    "papermill": {
     "duration": 0.043679,
     "end_time": "2022-01-29T19:27:05.433586",
     "exception": false,
     "start_time": "2022-01-29T19:27:05.389907",
     "status": "completed"
    },
    "tags": []
   },
   "outputs": [
    {
     "name": "stdout",
     "output_type": "stream",
     "text": [
      "Standard Deviation using numpy: 2634.4069541359777\n",
      "Standard Deviation using pandas : 2776.908752952142\n"
     ]
    }
   ],
   "source": [
    "print(\"Standard Deviation using numpy: \"+ str(np.std(df['salary'])))\n",
    "print(\"Standard Deviation using pandas : \"+ str(df['salary'].std()))"
   ]
  },
  {
   "cell_type": "markdown",
   "id": "8d504616",
   "metadata": {
    "papermill": {
     "duration": 0.032128,
     "end_time": "2022-01-29T19:27:05.497529",
     "exception": false,
     "start_time": "2022-01-29T19:27:05.465401",
     "status": "completed"
    },
    "tags": []
   },
   "source": [
    "# What is Normal distribution and Real time usage of Standard Deviation and Z score"
   ]
  },
  {
   "cell_type": "markdown",
   "id": "135a57bc",
   "metadata": {
    "papermill": {
     "duration": 0.032245,
     "end_time": "2022-01-29T19:27:05.562897",
     "exception": false,
     "start_time": "2022-01-29T19:27:05.530652",
     "status": "completed"
    },
    "tags": []
   },
   "source": [
    "## normal distribution\n",
    "a function that represents the distribution of many random variables as a symmetrical bell-shaped graph."
   ]
  },
  {
   "cell_type": "code",
   "execution_count": 10,
   "id": "132071a4",
   "metadata": {
    "execution": {
     "iopub.execute_input": "2022-01-29T19:27:05.636021Z",
     "iopub.status.busy": "2022-01-29T19:27:05.634814Z",
     "iopub.status.idle": "2022-01-29T19:27:06.113457Z",
     "shell.execute_reply": "2022-01-29T19:27:06.114075Z",
     "shell.execute_reply.started": "2022-01-29T19:24:17.605087Z"
    },
    "papermill": {
     "duration": 0.516536,
     "end_time": "2022-01-29T19:27:06.114311",
     "exception": false,
     "start_time": "2022-01-29T19:27:05.597775",
     "status": "completed"
    },
    "tags": []
   },
   "outputs": [
    {
     "data": {
      "text/plain": [
       "0    208500\n",
       "1    181500\n",
       "2    223500\n",
       "3    140000\n",
       "4    250000\n",
       "Name: SalePrice, dtype: int64"
      ]
     },
     "execution_count": 10,
     "metadata": {},
     "output_type": "execute_result"
    }
   ],
   "source": [
    "df = pd.read_csv(\"https://raw.githubusercontent.com/laxmankusuma/Data-Science-series/main/Mathematics%20and%20Statistics%20for%20Data%20Science/House%20Prices_kaggle.csv\",sep=',')\n",
    "# df = df[\"SalePrice\"]\n",
    "df['SalePrice'].head()"
   ]
  },
  {
   "cell_type": "code",
   "execution_count": 11,
   "id": "9b9d10b5",
   "metadata": {
    "execution": {
     "iopub.execute_input": "2022-01-29T19:27:06.184190Z",
     "iopub.status.busy": "2022-01-29T19:27:06.183335Z",
     "iopub.status.idle": "2022-01-29T19:27:06.198111Z",
     "shell.execute_reply": "2022-01-29T19:27:06.197501Z",
     "shell.execute_reply.started": "2022-01-29T19:24:17.783277Z"
    },
    "papermill": {
     "duration": 0.0507,
     "end_time": "2022-01-29T19:27:06.198296",
     "exception": false,
     "start_time": "2022-01-29T19:27:06.147596",
     "status": "completed"
    },
    "tags": []
   },
   "outputs": [
    {
     "data": {
      "text/plain": [
       "count      1460.000000\n",
       "mean     180921.195890\n",
       "std       79442.502883\n",
       "min       34900.000000\n",
       "25%      129975.000000\n",
       "50%      163000.000000\n",
       "75%      214000.000000\n",
       "max      755000.000000\n",
       "Name: SalePrice, dtype: float64"
      ]
     },
     "execution_count": 11,
     "metadata": {},
     "output_type": "execute_result"
    }
   ],
   "source": [
    "df['SalePrice'].describe()"
   ]
  },
  {
   "cell_type": "code",
   "execution_count": 12,
   "id": "7aa18e4a",
   "metadata": {
    "execution": {
     "iopub.execute_input": "2022-01-29T19:27:06.269969Z",
     "iopub.status.busy": "2022-01-29T19:27:06.269059Z",
     "iopub.status.idle": "2022-01-29T19:27:07.775900Z",
     "shell.execute_reply": "2022-01-29T19:27:07.776534Z",
     "shell.execute_reply.started": "2022-01-29T19:24:17.794972Z"
    },
    "papermill": {
     "duration": 1.546271,
     "end_time": "2022-01-29T19:27:07.776767",
     "exception": false,
     "start_time": "2022-01-29T19:27:06.230496",
     "status": "completed"
    },
    "tags": []
   },
   "outputs": [
    {
     "data": {
      "image/png": "[encoded data removed]",
      "text/plain": [
       "<Figure size 432x288 with 1 Axes>"
      ]
     },
     "metadata": {
      "needs_background": "light"
     },
     "output_type": "display_data"
    }
   ],
   "source": [
    "# importing libraries\n",
    "import seaborn as sns\n",
    "import matplotlib.pyplot as plt\n",
    " \n",
    "# plotting histogram and density\n",
    "sns.histplot(df['SalePrice'], label=\"100% Equities\", kde=True, linewidth=0)\n",
    "\n",
    "# visualizing plot using matplotlib.pyplot library\n",
    "plt.show()"
   ]
  },
  {
   "cell_type": "markdown",
   "id": "9ede9988",
   "metadata": {
    "papermill": {
     "duration": 0.032869,
     "end_time": "2022-01-29T19:27:07.843654",
     "exception": false,
     "start_time": "2022-01-29T19:27:07.810785",
     "status": "completed"
    },
    "tags": []
   },
   "source": []
  },
  {
   "cell_type": "markdown",
   "id": "005527f2",
   "metadata": {
    "papermill": {
     "duration": 0.033621,
     "end_time": "2022-01-29T19:27:07.910157",
     "exception": false,
     "start_time": "2022-01-29T19:27:07.876536",
     "status": "completed"
    },
    "tags": []
   },
   "source": [
    "above curve is nomally distributed(bell curve).We are assuming that below 100000 and above 400000 are outliers.so we will confirm same with standard deviation and remove the outliers with z-curve."
   ]
  },
  {
   "cell_type": "markdown",
   "id": "f718bbe1",
   "metadata": {
    "papermill": {
     "duration": 0.032364,
     "end_time": "2022-01-29T19:27:07.975396",
     "exception": false,
     "start_time": "2022-01-29T19:27:07.943032",
     "status": "completed"
    },
    "tags": []
   },
   "source": [
    "Gneneral guildline is out of this range -(MEAN+3SD) and (MEAN+3SD) treatedas outliers.\n",
    "* (MEAN-3SD) and (MEAN+3SD) is 97.7%\n",
    "* (MEAN-2SD) and (MEAN+2SD) is 95%\n",
    "* (MEAN-SD) and (MEAN+SD) is 68%"
   ]
  },
  {
   "cell_type": "code",
   "execution_count": 13,
   "id": "693c4e0c",
   "metadata": {
    "execution": {
     "iopub.execute_input": "2022-01-29T19:27:08.052831Z",
     "iopub.status.busy": "2022-01-29T19:27:08.052046Z",
     "iopub.status.idle": "2022-01-29T19:27:08.056132Z",
     "shell.execute_reply": "2022-01-29T19:27:08.055561Z",
     "shell.execute_reply.started": "2022-01-29T19:24:18.116322Z"
    },
    "papermill": {
     "duration": 0.047307,
     "end_time": "2022-01-29T19:27:08.056285",
     "exception": false,
     "start_time": "2022-01-29T19:27:08.008978",
     "status": "completed"
    },
    "tags": []
   },
   "outputs": [
    {
     "data": {
      "text/plain": [
       "180921.19589041095"
      ]
     },
     "execution_count": 13,
     "metadata": {},
     "output_type": "execute_result"
    }
   ],
   "source": [
    "mean = df['SalePrice'].mean()\n",
    "mean"
   ]
  },
  {
   "cell_type": "code",
   "execution_count": 14,
   "id": "4b8e261d",
   "metadata": {
    "execution": {
     "iopub.execute_input": "2022-01-29T19:27:08.129077Z",
     "iopub.status.busy": "2022-01-29T19:27:08.128295Z",
     "iopub.status.idle": "2022-01-29T19:27:08.134394Z",
     "shell.execute_reply": "2022-01-29T19:27:08.134901Z",
     "shell.execute_reply.started": "2022-01-29T19:24:18.126791Z"
    },
    "papermill": {
     "duration": 0.043975,
     "end_time": "2022-01-29T19:27:08.135110",
     "exception": false,
     "start_time": "2022-01-29T19:27:08.091135",
     "status": "completed"
    },
    "tags": []
   },
   "outputs": [
    {
     "data": {
      "text/plain": [
       "79442.50288288663"
      ]
     },
     "execution_count": 14,
     "metadata": {},
     "output_type": "execute_result"
    }
   ],
   "source": [
    "std=df['SalePrice'].std()\n",
    "std"
   ]
  },
  {
   "cell_type": "code",
   "execution_count": 15,
   "id": "315dbf48",
   "metadata": {
    "execution": {
     "iopub.execute_input": "2022-01-29T19:27:08.207956Z",
     "iopub.status.busy": "2022-01-29T19:27:08.207229Z",
     "iopub.status.idle": "2022-01-29T19:27:08.211978Z",
     "shell.execute_reply": "2022-01-29T19:27:08.212535Z",
     "shell.execute_reply.started": "2022-01-29T19:24:18.142266Z"
    },
    "papermill": {
     "duration": 0.043707,
     "end_time": "2022-01-29T19:27:08.212734",
     "exception": false,
     "start_time": "2022-01-29T19:27:08.169027",
     "status": "completed"
    },
    "tags": []
   },
   "outputs": [
    {
     "data": {
      "text/plain": [
       "-57406.31275824897"
      ]
     },
     "execution_count": 15,
     "metadata": {},
     "output_type": "execute_result"
    }
   ],
   "source": [
    "mean - 3*std"
   ]
  },
  {
   "cell_type": "code",
   "execution_count": 16,
   "id": "59c6fac5",
   "metadata": {
    "execution": {
     "iopub.execute_input": "2022-01-29T19:27:08.287464Z",
     "iopub.status.busy": "2022-01-29T19:27:08.286717Z",
     "iopub.status.idle": "2022-01-29T19:27:08.291023Z",
     "shell.execute_reply": "2022-01-29T19:27:08.290506Z",
     "shell.execute_reply.started": "2022-01-29T19:24:18.155044Z"
    },
    "papermill": {
     "duration": 0.044647,
     "end_time": "2022-01-29T19:27:08.291182",
     "exception": false,
     "start_time": "2022-01-29T19:27:08.246535",
     "status": "completed"
    },
    "tags": []
   },
   "outputs": [
    {
     "data": {
      "text/plain": [
       "419248.70453907084"
      ]
     },
     "execution_count": 16,
     "metadata": {},
     "output_type": "execute_result"
    }
   ],
   "source": [
    "mean + 3*std"
   ]
  },
  {
   "cell_type": "code",
   "execution_count": 17,
   "id": "918c8271",
   "metadata": {
    "execution": {
     "iopub.execute_input": "2022-01-29T19:27:08.362907Z",
     "iopub.status.busy": "2022-01-29T19:27:08.362193Z",
     "iopub.status.idle": "2022-01-29T19:27:08.399407Z",
     "shell.execute_reply": "2022-01-29T19:27:08.399915Z",
     "shell.execute_reply.started": "2022-01-29T19:24:18.167043Z"
    },
    "papermill": {
     "duration": 0.07487,
     "end_time": "2022-01-29T19:27:08.400118",
     "exception": false,
     "start_time": "2022-01-29T19:27:08.325248",
     "status": "completed"
    },
    "tags": []
   },
   "outputs": [
    {
     "data": {
      "text/html": [
       "<div>\n",
       "<style scoped>\n",
       "    .dataframe tbody tr th:only-of-type {\n",
       "        vertical-align: middle;\n",
       "    }\n",
       "\n",
       "    .dataframe tbody tr th {\n",
       "        vertical-align: top;\n",
       "    }\n",
       "\n",
       "    .dataframe thead th {\n",
       "        text-align: right;\n",
       "    }\n",
       "</style>\n",
       "<table border=\"1\" class=\"dataframe\">\n",
       "  <thead>\n",
       "    <tr style=\"text-align: right;\">\n",
       "      <th></th>\n",
       "      <th>Id</th>\n",
       "      <th>MSSubClass</th>\n",
       "      <th>MSZoning</th>\n",
       "      <th>LotFrontage</th>\n",
       "      <th>LotArea</th>\n",
       "      <th>Street</th>\n",
       "      <th>Alley</th>\n",
       "      <th>LotShape</th>\n",
       "      <th>LandContour</th>\n",
       "      <th>Utilities</th>\n",
       "      <th>...</th>\n",
       "      <th>PoolArea</th>\n",
       "      <th>PoolQC</th>\n",
       "      <th>Fence</th>\n",
       "      <th>MiscFeature</th>\n",
       "      <th>MiscVal</th>\n",
       "      <th>MoSold</th>\n",
       "      <th>YrSold</th>\n",
       "      <th>SaleType</th>\n",
       "      <th>SaleCondition</th>\n",
       "      <th>SalePrice</th>\n",
       "    </tr>\n",
       "  </thead>\n",
       "  <tbody>\n",
       "    <tr>\n",
       "      <th>58</th>\n",
       "      <td>59</td>\n",
       "      <td>60</td>\n",
       "      <td>RL</td>\n",
       "      <td>66.0</td>\n",
       "      <td>13682</td>\n",
       "      <td>Pave</td>\n",
       "      <td>NaN</td>\n",
       "      <td>IR2</td>\n",
       "      <td>HLS</td>\n",
       "      <td>AllPub</td>\n",
       "      <td>...</td>\n",
       "      <td>0</td>\n",
       "      <td>NaN</td>\n",
       "      <td>NaN</td>\n",
       "      <td>NaN</td>\n",
       "      <td>0</td>\n",
       "      <td>10</td>\n",
       "      <td>2006</td>\n",
       "      <td>New</td>\n",
       "      <td>Partial</td>\n",
       "      <td>438780</td>\n",
       "    </tr>\n",
       "    <tr>\n",
       "      <th>178</th>\n",
       "      <td>179</td>\n",
       "      <td>20</td>\n",
       "      <td>RL</td>\n",
       "      <td>63.0</td>\n",
       "      <td>17423</td>\n",
       "      <td>Pave</td>\n",
       "      <td>NaN</td>\n",
       "      <td>IR1</td>\n",
       "      <td>Lvl</td>\n",
       "      <td>AllPub</td>\n",
       "      <td>...</td>\n",
       "      <td>0</td>\n",
       "      <td>NaN</td>\n",
       "      <td>NaN</td>\n",
       "      <td>NaN</td>\n",
       "      <td>0</td>\n",
       "      <td>7</td>\n",
       "      <td>2009</td>\n",
       "      <td>New</td>\n",
       "      <td>Partial</td>\n",
       "      <td>501837</td>\n",
       "    </tr>\n",
       "    <tr>\n",
       "      <th>185</th>\n",
       "      <td>186</td>\n",
       "      <td>75</td>\n",
       "      <td>RM</td>\n",
       "      <td>90.0</td>\n",
       "      <td>22950</td>\n",
       "      <td>Pave</td>\n",
       "      <td>NaN</td>\n",
       "      <td>IR2</td>\n",
       "      <td>Lvl</td>\n",
       "      <td>AllPub</td>\n",
       "      <td>...</td>\n",
       "      <td>0</td>\n",
       "      <td>NaN</td>\n",
       "      <td>GdPrv</td>\n",
       "      <td>NaN</td>\n",
       "      <td>0</td>\n",
       "      <td>6</td>\n",
       "      <td>2006</td>\n",
       "      <td>WD</td>\n",
       "      <td>Normal</td>\n",
       "      <td>475000</td>\n",
       "    </tr>\n",
       "    <tr>\n",
       "      <th>349</th>\n",
       "      <td>350</td>\n",
       "      <td>60</td>\n",
       "      <td>RL</td>\n",
       "      <td>56.0</td>\n",
       "      <td>20431</td>\n",
       "      <td>Pave</td>\n",
       "      <td>NaN</td>\n",
       "      <td>IR2</td>\n",
       "      <td>Lvl</td>\n",
       "      <td>AllPub</td>\n",
       "      <td>...</td>\n",
       "      <td>0</td>\n",
       "      <td>NaN</td>\n",
       "      <td>NaN</td>\n",
       "      <td>NaN</td>\n",
       "      <td>0</td>\n",
       "      <td>4</td>\n",
       "      <td>2006</td>\n",
       "      <td>New</td>\n",
       "      <td>Partial</td>\n",
       "      <td>437154</td>\n",
       "    </tr>\n",
       "    <tr>\n",
       "      <th>389</th>\n",
       "      <td>390</td>\n",
       "      <td>60</td>\n",
       "      <td>RL</td>\n",
       "      <td>96.0</td>\n",
       "      <td>12474</td>\n",
       "      <td>Pave</td>\n",
       "      <td>NaN</td>\n",
       "      <td>Reg</td>\n",
       "      <td>Lvl</td>\n",
       "      <td>AllPub</td>\n",
       "      <td>...</td>\n",
       "      <td>0</td>\n",
       "      <td>NaN</td>\n",
       "      <td>NaN</td>\n",
       "      <td>NaN</td>\n",
       "      <td>0</td>\n",
       "      <td>8</td>\n",
       "      <td>2008</td>\n",
       "      <td>New</td>\n",
       "      <td>Partial</td>\n",
       "      <td>426000</td>\n",
       "    </tr>\n",
       "    <tr>\n",
       "      <th>440</th>\n",
       "      <td>441</td>\n",
       "      <td>20</td>\n",
       "      <td>RL</td>\n",
       "      <td>105.0</td>\n",
       "      <td>15431</td>\n",
       "      <td>Pave</td>\n",
       "      <td>NaN</td>\n",
       "      <td>Reg</td>\n",
       "      <td>Lvl</td>\n",
       "      <td>AllPub</td>\n",
       "      <td>...</td>\n",
       "      <td>0</td>\n",
       "      <td>NaN</td>\n",
       "      <td>NaN</td>\n",
       "      <td>NaN</td>\n",
       "      <td>0</td>\n",
       "      <td>4</td>\n",
       "      <td>2009</td>\n",
       "      <td>WD</td>\n",
       "      <td>Normal</td>\n",
       "      <td>555000</td>\n",
       "    </tr>\n",
       "    <tr>\n",
       "      <th>473</th>\n",
       "      <td>474</td>\n",
       "      <td>20</td>\n",
       "      <td>RL</td>\n",
       "      <td>110.0</td>\n",
       "      <td>14977</td>\n",
       "      <td>Pave</td>\n",
       "      <td>NaN</td>\n",
       "      <td>IR1</td>\n",
       "      <td>Lvl</td>\n",
       "      <td>AllPub</td>\n",
       "      <td>...</td>\n",
       "      <td>0</td>\n",
       "      <td>NaN</td>\n",
       "      <td>NaN</td>\n",
       "      <td>NaN</td>\n",
       "      <td>0</td>\n",
       "      <td>7</td>\n",
       "      <td>2007</td>\n",
       "      <td>New</td>\n",
       "      <td>Partial</td>\n",
       "      <td>440000</td>\n",
       "    </tr>\n",
       "    <tr>\n",
       "      <th>496</th>\n",
       "      <td>497</td>\n",
       "      <td>20</td>\n",
       "      <td>RL</td>\n",
       "      <td>NaN</td>\n",
       "      <td>12692</td>\n",
       "      <td>Pave</td>\n",
       "      <td>NaN</td>\n",
       "      <td>IR1</td>\n",
       "      <td>Lvl</td>\n",
       "      <td>AllPub</td>\n",
       "      <td>...</td>\n",
       "      <td>0</td>\n",
       "      <td>NaN</td>\n",
       "      <td>NaN</td>\n",
       "      <td>NaN</td>\n",
       "      <td>0</td>\n",
       "      <td>5</td>\n",
       "      <td>2007</td>\n",
       "      <td>WD</td>\n",
       "      <td>Normal</td>\n",
       "      <td>430000</td>\n",
       "    </tr>\n",
       "    <tr>\n",
       "      <th>527</th>\n",
       "      <td>528</td>\n",
       "      <td>60</td>\n",
       "      <td>RL</td>\n",
       "      <td>67.0</td>\n",
       "      <td>14948</td>\n",
       "      <td>Pave</td>\n",
       "      <td>NaN</td>\n",
       "      <td>IR1</td>\n",
       "      <td>Lvl</td>\n",
       "      <td>AllPub</td>\n",
       "      <td>...</td>\n",
       "      <td>0</td>\n",
       "      <td>NaN</td>\n",
       "      <td>NaN</td>\n",
       "      <td>NaN</td>\n",
       "      <td>0</td>\n",
       "      <td>11</td>\n",
       "      <td>2008</td>\n",
       "      <td>New</td>\n",
       "      <td>Partial</td>\n",
       "      <td>446261</td>\n",
       "    </tr>\n",
       "    <tr>\n",
       "      <th>591</th>\n",
       "      <td>592</td>\n",
       "      <td>60</td>\n",
       "      <td>RL</td>\n",
       "      <td>97.0</td>\n",
       "      <td>13478</td>\n",
       "      <td>Pave</td>\n",
       "      <td>NaN</td>\n",
       "      <td>IR1</td>\n",
       "      <td>Lvl</td>\n",
       "      <td>AllPub</td>\n",
       "      <td>...</td>\n",
       "      <td>0</td>\n",
       "      <td>NaN</td>\n",
       "      <td>NaN</td>\n",
       "      <td>NaN</td>\n",
       "      <td>0</td>\n",
       "      <td>6</td>\n",
       "      <td>2009</td>\n",
       "      <td>ConLI</td>\n",
       "      <td>Normal</td>\n",
       "      <td>451950</td>\n",
       "    </tr>\n",
       "    <tr>\n",
       "      <th>664</th>\n",
       "      <td>665</td>\n",
       "      <td>20</td>\n",
       "      <td>RL</td>\n",
       "      <td>49.0</td>\n",
       "      <td>20896</td>\n",
       "      <td>Pave</td>\n",
       "      <td>NaN</td>\n",
       "      <td>IR2</td>\n",
       "      <td>Lvl</td>\n",
       "      <td>AllPub</td>\n",
       "      <td>...</td>\n",
       "      <td>0</td>\n",
       "      <td>NaN</td>\n",
       "      <td>NaN</td>\n",
       "      <td>NaN</td>\n",
       "      <td>0</td>\n",
       "      <td>1</td>\n",
       "      <td>2006</td>\n",
       "      <td>New</td>\n",
       "      <td>Partial</td>\n",
       "      <td>423000</td>\n",
       "    </tr>\n",
       "    <tr>\n",
       "      <th>691</th>\n",
       "      <td>692</td>\n",
       "      <td>60</td>\n",
       "      <td>RL</td>\n",
       "      <td>104.0</td>\n",
       "      <td>21535</td>\n",
       "      <td>Pave</td>\n",
       "      <td>NaN</td>\n",
       "      <td>IR1</td>\n",
       "      <td>Lvl</td>\n",
       "      <td>AllPub</td>\n",
       "      <td>...</td>\n",
       "      <td>0</td>\n",
       "      <td>NaN</td>\n",
       "      <td>NaN</td>\n",
       "      <td>NaN</td>\n",
       "      <td>0</td>\n",
       "      <td>1</td>\n",
       "      <td>2007</td>\n",
       "      <td>WD</td>\n",
       "      <td>Normal</td>\n",
       "      <td>755000</td>\n",
       "    </tr>\n",
       "    <tr>\n",
       "      <th>769</th>\n",
       "      <td>770</td>\n",
       "      <td>60</td>\n",
       "      <td>RL</td>\n",
       "      <td>47.0</td>\n",
       "      <td>53504</td>\n",
       "      <td>Pave</td>\n",
       "      <td>NaN</td>\n",
       "      <td>IR2</td>\n",
       "      <td>HLS</td>\n",
       "      <td>AllPub</td>\n",
       "      <td>...</td>\n",
       "      <td>0</td>\n",
       "      <td>NaN</td>\n",
       "      <td>NaN</td>\n",
       "      <td>NaN</td>\n",
       "      <td>0</td>\n",
       "      <td>6</td>\n",
       "      <td>2010</td>\n",
       "      <td>WD</td>\n",
       "      <td>Normal</td>\n",
       "      <td>538000</td>\n",
       "    </tr>\n",
       "    <tr>\n",
       "      <th>798</th>\n",
       "      <td>799</td>\n",
       "      <td>60</td>\n",
       "      <td>RL</td>\n",
       "      <td>104.0</td>\n",
       "      <td>13518</td>\n",
       "      <td>Pave</td>\n",
       "      <td>NaN</td>\n",
       "      <td>Reg</td>\n",
       "      <td>Lvl</td>\n",
       "      <td>AllPub</td>\n",
       "      <td>...</td>\n",
       "      <td>0</td>\n",
       "      <td>NaN</td>\n",
       "      <td>NaN</td>\n",
       "      <td>NaN</td>\n",
       "      <td>0</td>\n",
       "      <td>7</td>\n",
       "      <td>2009</td>\n",
       "      <td>New</td>\n",
       "      <td>Partial</td>\n",
       "      <td>485000</td>\n",
       "    </tr>\n",
       "    <tr>\n",
       "      <th>803</th>\n",
       "      <td>804</td>\n",
       "      <td>60</td>\n",
       "      <td>RL</td>\n",
       "      <td>107.0</td>\n",
       "      <td>13891</td>\n",
       "      <td>Pave</td>\n",
       "      <td>NaN</td>\n",
       "      <td>Reg</td>\n",
       "      <td>Lvl</td>\n",
       "      <td>AllPub</td>\n",
       "      <td>...</td>\n",
       "      <td>0</td>\n",
       "      <td>NaN</td>\n",
       "      <td>NaN</td>\n",
       "      <td>NaN</td>\n",
       "      <td>0</td>\n",
       "      <td>1</td>\n",
       "      <td>2009</td>\n",
       "      <td>New</td>\n",
       "      <td>Partial</td>\n",
       "      <td>582933</td>\n",
       "    </tr>\n",
       "    <tr>\n",
       "      <th>898</th>\n",
       "      <td>899</td>\n",
       "      <td>20</td>\n",
       "      <td>RL</td>\n",
       "      <td>100.0</td>\n",
       "      <td>12919</td>\n",
       "      <td>Pave</td>\n",
       "      <td>NaN</td>\n",
       "      <td>IR1</td>\n",
       "      <td>Lvl</td>\n",
       "      <td>AllPub</td>\n",
       "      <td>...</td>\n",
       "      <td>0</td>\n",
       "      <td>NaN</td>\n",
       "      <td>NaN</td>\n",
       "      <td>NaN</td>\n",
       "      <td>0</td>\n",
       "      <td>3</td>\n",
       "      <td>2010</td>\n",
       "      <td>New</td>\n",
       "      <td>Partial</td>\n",
       "      <td>611657</td>\n",
       "    </tr>\n",
       "    <tr>\n",
       "      <th>1046</th>\n",
       "      <td>1047</td>\n",
       "      <td>60</td>\n",
       "      <td>RL</td>\n",
       "      <td>85.0</td>\n",
       "      <td>16056</td>\n",
       "      <td>Pave</td>\n",
       "      <td>NaN</td>\n",
       "      <td>IR1</td>\n",
       "      <td>Lvl</td>\n",
       "      <td>AllPub</td>\n",
       "      <td>...</td>\n",
       "      <td>0</td>\n",
       "      <td>NaN</td>\n",
       "      <td>NaN</td>\n",
       "      <td>NaN</td>\n",
       "      <td>0</td>\n",
       "      <td>7</td>\n",
       "      <td>2006</td>\n",
       "      <td>New</td>\n",
       "      <td>Partial</td>\n",
       "      <td>556581</td>\n",
       "    </tr>\n",
       "    <tr>\n",
       "      <th>1142</th>\n",
       "      <td>1143</td>\n",
       "      <td>60</td>\n",
       "      <td>RL</td>\n",
       "      <td>77.0</td>\n",
       "      <td>9965</td>\n",
       "      <td>Pave</td>\n",
       "      <td>NaN</td>\n",
       "      <td>Reg</td>\n",
       "      <td>Lvl</td>\n",
       "      <td>AllPub</td>\n",
       "      <td>...</td>\n",
       "      <td>0</td>\n",
       "      <td>NaN</td>\n",
       "      <td>NaN</td>\n",
       "      <td>NaN</td>\n",
       "      <td>0</td>\n",
       "      <td>4</td>\n",
       "      <td>2007</td>\n",
       "      <td>New</td>\n",
       "      <td>Partial</td>\n",
       "      <td>424870</td>\n",
       "    </tr>\n",
       "    <tr>\n",
       "      <th>1169</th>\n",
       "      <td>1170</td>\n",
       "      <td>60</td>\n",
       "      <td>RL</td>\n",
       "      <td>118.0</td>\n",
       "      <td>35760</td>\n",
       "      <td>Pave</td>\n",
       "      <td>NaN</td>\n",
       "      <td>IR1</td>\n",
       "      <td>Lvl</td>\n",
       "      <td>AllPub</td>\n",
       "      <td>...</td>\n",
       "      <td>0</td>\n",
       "      <td>NaN</td>\n",
       "      <td>NaN</td>\n",
       "      <td>NaN</td>\n",
       "      <td>0</td>\n",
       "      <td>7</td>\n",
       "      <td>2006</td>\n",
       "      <td>WD</td>\n",
       "      <td>Normal</td>\n",
       "      <td>625000</td>\n",
       "    </tr>\n",
       "    <tr>\n",
       "      <th>1182</th>\n",
       "      <td>1183</td>\n",
       "      <td>60</td>\n",
       "      <td>RL</td>\n",
       "      <td>160.0</td>\n",
       "      <td>15623</td>\n",
       "      <td>Pave</td>\n",
       "      <td>NaN</td>\n",
       "      <td>IR1</td>\n",
       "      <td>Lvl</td>\n",
       "      <td>AllPub</td>\n",
       "      <td>...</td>\n",
       "      <td>555</td>\n",
       "      <td>Ex</td>\n",
       "      <td>MnPrv</td>\n",
       "      <td>NaN</td>\n",
       "      <td>0</td>\n",
       "      <td>7</td>\n",
       "      <td>2007</td>\n",
       "      <td>WD</td>\n",
       "      <td>Abnorml</td>\n",
       "      <td>745000</td>\n",
       "    </tr>\n",
       "    <tr>\n",
       "      <th>1243</th>\n",
       "      <td>1244</td>\n",
       "      <td>20</td>\n",
       "      <td>RL</td>\n",
       "      <td>107.0</td>\n",
       "      <td>13891</td>\n",
       "      <td>Pave</td>\n",
       "      <td>NaN</td>\n",
       "      <td>Reg</td>\n",
       "      <td>Lvl</td>\n",
       "      <td>AllPub</td>\n",
       "      <td>...</td>\n",
       "      <td>0</td>\n",
       "      <td>NaN</td>\n",
       "      <td>NaN</td>\n",
       "      <td>NaN</td>\n",
       "      <td>0</td>\n",
       "      <td>9</td>\n",
       "      <td>2006</td>\n",
       "      <td>New</td>\n",
       "      <td>Partial</td>\n",
       "      <td>465000</td>\n",
       "    </tr>\n",
       "    <tr>\n",
       "      <th>1373</th>\n",
       "      <td>1374</td>\n",
       "      <td>20</td>\n",
       "      <td>RL</td>\n",
       "      <td>NaN</td>\n",
       "      <td>11400</td>\n",
       "      <td>Pave</td>\n",
       "      <td>NaN</td>\n",
       "      <td>Reg</td>\n",
       "      <td>Lvl</td>\n",
       "      <td>AllPub</td>\n",
       "      <td>...</td>\n",
       "      <td>0</td>\n",
       "      <td>NaN</td>\n",
       "      <td>NaN</td>\n",
       "      <td>NaN</td>\n",
       "      <td>0</td>\n",
       "      <td>3</td>\n",
       "      <td>2007</td>\n",
       "      <td>WD</td>\n",
       "      <td>Normal</td>\n",
       "      <td>466500</td>\n",
       "    </tr>\n",
       "  </tbody>\n",
       "</table>\n",
       "<p>22 rows × 81 columns</p>\n",
       "</div>"
      ],
      "text/plain": [
       "        Id  MSSubClass MSZoning  LotFrontage  LotArea Street Alley LotShape  \\\n",
       "58      59          60       RL         66.0    13682   Pave   NaN      IR2   \n",
       "178    179          20       RL         63.0    17423   Pave   NaN      IR1   \n",
       "185    186          75       RM         90.0    22950   Pave   NaN      IR2   \n",
       "349    350          60       RL         56.0    20431   Pave   NaN      IR2   \n",
       "389    390          60       RL         96.0    12474   Pave   NaN      Reg   \n",
       "440    441          20       RL        105.0    15431   Pave   NaN      Reg   \n",
       "473    474          20       RL        110.0    14977   Pave   NaN      IR1   \n",
       "496    497          20       RL          NaN    12692   Pave   NaN      IR1   \n",
       "527    528          60       RL         67.0    14948   Pave   NaN      IR1   \n",
       "591    592          60       RL         97.0    13478   Pave   NaN      IR1   \n",
       "664    665          20       RL         49.0    20896   Pave   NaN      IR2   \n",
       "691    692          60       RL        104.0    21535   Pave   NaN      IR1   \n",
       "769    770          60       RL         47.0    53504   Pave   NaN      IR2   \n",
       "798    799          60       RL        104.0    13518   Pave   NaN      Reg   \n",
       "803    804          60       RL        107.0    13891   Pave   NaN      Reg   \n",
       "898    899          20       RL        100.0    12919   Pave   NaN      IR1   \n",
       "1046  1047          60       RL         85.0    16056   Pave   NaN      IR1   \n",
       "1142  1143          60       RL         77.0     9965   Pave   NaN      Reg   \n",
       "1169  1170          60       RL        118.0    35760   Pave   NaN      IR1   \n",
       "1182  1183          60       RL        160.0    15623   Pave   NaN      IR1   \n",
       "1243  1244          20       RL        107.0    13891   Pave   NaN      Reg   \n",
       "1373  1374          20       RL          NaN    11400   Pave   NaN      Reg   \n",
       "\n",
       "     LandContour Utilities  ... PoolArea PoolQC  Fence MiscFeature MiscVal  \\\n",
       "58           HLS    AllPub  ...        0    NaN    NaN         NaN       0   \n",
       "178          Lvl    AllPub  ...        0    NaN    NaN         NaN       0   \n",
       "185          Lvl    AllPub  ...        0    NaN  GdPrv         NaN       0   \n",
       "349          Lvl    AllPub  ...        0    NaN    NaN         NaN       0   \n",
       "389          Lvl    AllPub  ...        0    NaN    NaN         NaN       0   \n",
       "440          Lvl    AllPub  ...        0    NaN    NaN         NaN       0   \n",
       "473          Lvl    AllPub  ...        0    NaN    NaN         NaN       0   \n",
       "496          Lvl    AllPub  ...        0    NaN    NaN         NaN       0   \n",
       "527          Lvl    AllPub  ...        0    NaN    NaN         NaN       0   \n",
       "591          Lvl    AllPub  ...        0    NaN    NaN         NaN       0   \n",
       "664          Lvl    AllPub  ...        0    NaN    NaN         NaN       0   \n",
       "691          Lvl    AllPub  ...        0    NaN    NaN         NaN       0   \n",
       "769          HLS    AllPub  ...        0    NaN    NaN         NaN       0   \n",
       "798          Lvl    AllPub  ...        0    NaN    NaN         NaN       0   \n",
       "803          Lvl    AllPub  ...        0    NaN    NaN         NaN       0   \n",
       "898          Lvl    AllPub  ...        0    NaN    NaN         NaN       0   \n",
       "1046         Lvl    AllPub  ...        0    NaN    NaN         NaN       0   \n",
       "1142         Lvl    AllPub  ...        0    NaN    NaN         NaN       0   \n",
       "1169         Lvl    AllPub  ...        0    NaN    NaN         NaN       0   \n",
       "1182         Lvl    AllPub  ...      555     Ex  MnPrv         NaN       0   \n",
       "1243         Lvl    AllPub  ...        0    NaN    NaN         NaN       0   \n",
       "1373         Lvl    AllPub  ...        0    NaN    NaN         NaN       0   \n",
       "\n",
       "     MoSold YrSold  SaleType  SaleCondition  SalePrice  \n",
       "58       10   2006       New        Partial     438780  \n",
       "178       7   2009       New        Partial     501837  \n",
       "185       6   2006        WD         Normal     475000  \n",
       "349       4   2006       New        Partial     437154  \n",
       "389       8   2008       New        Partial     426000  \n",
       "440       4   2009        WD         Normal     555000  \n",
       "473       7   2007       New        Partial     440000  \n",
       "496       5   2007        WD         Normal     430000  \n",
       "527      11   2008       New        Partial     446261  \n",
       "591       6   2009     ConLI         Normal     451950  \n",
       "664       1   2006       New        Partial     423000  \n",
       "691       1   2007        WD         Normal     755000  \n",
       "769       6   2010        WD         Normal     538000  \n",
       "798       7   2009       New        Partial     485000  \n",
       "803       1   2009       New        Partial     582933  \n",
       "898       3   2010       New        Partial     611657  \n",
       "1046      7   2006       New        Partial     556581  \n",
       "1142      4   2007       New        Partial     424870  \n",
       "1169      7   2006        WD         Normal     625000  \n",
       "1182      7   2007        WD        Abnorml     745000  \n",
       "1243      9   2006       New        Partial     465000  \n",
       "1373      3   2007        WD         Normal     466500  \n",
       "\n",
       "[22 rows x 81 columns]"
      ]
     },
     "execution_count": 17,
     "metadata": {},
     "output_type": "execute_result"
    }
   ],
   "source": [
    "df[((df['SalePrice']<-57406)|(df['SalePrice']>419248))]"
   ]
  },
  {
   "cell_type": "markdown",
   "id": "bd06f8a9",
   "metadata": {
    "papermill": {
     "duration": 0.034937,
     "end_time": "2022-01-29T19:27:08.470421",
     "exception": false,
     "start_time": "2022-01-29T19:27:08.435484",
     "status": "completed"
    },
    "tags": []
   },
   "source": [
    "above 22 rows are outliers.remove those records."
   ]
  },
  {
   "cell_type": "code",
   "execution_count": 18,
   "id": "30537a26",
   "metadata": {
    "execution": {
     "iopub.execute_input": "2022-01-29T19:27:08.544559Z",
     "iopub.status.busy": "2022-01-29T19:27:08.543861Z",
     "iopub.status.idle": "2022-01-29T19:27:08.549577Z",
     "shell.execute_reply": "2022-01-29T19:27:08.550083Z",
     "shell.execute_reply.started": "2022-01-29T19:24:18.209785Z"
    },
    "papermill": {
     "duration": 0.044624,
     "end_time": "2022-01-29T19:27:08.550279",
     "exception": false,
     "start_time": "2022-01-29T19:27:08.505655",
     "status": "completed"
    },
    "tags": []
   },
   "outputs": [
    {
     "data": {
      "text/plain": [
       "(1460, 81)"
      ]
     },
     "execution_count": 18,
     "metadata": {},
     "output_type": "execute_result"
    }
   ],
   "source": [
    "df.shape"
   ]
  },
  {
   "cell_type": "code",
   "execution_count": 19,
   "id": "ffa6b703",
   "metadata": {
    "execution": {
     "iopub.execute_input": "2022-01-29T19:27:08.626216Z",
     "iopub.status.busy": "2022-01-29T19:27:08.625491Z",
     "iopub.status.idle": "2022-01-29T19:27:08.633497Z",
     "shell.execute_reply": "2022-01-29T19:27:08.634083Z",
     "shell.execute_reply.started": "2022-01-29T19:24:18.218427Z"
    },
    "papermill": {
     "duration": 0.047713,
     "end_time": "2022-01-29T19:27:08.634265",
     "exception": false,
     "start_time": "2022-01-29T19:27:08.586552",
     "status": "completed"
    },
    "tags": []
   },
   "outputs": [
    {
     "data": {
      "text/plain": [
       "(1438, 81)"
      ]
     },
     "execution_count": 19,
     "metadata": {},
     "output_type": "execute_result"
    }
   ],
   "source": [
    "No_outliers = df[((df['SalePrice']>-57406)&(df['SalePrice']<419248))]\n",
    "No_outliers.shape"
   ]
  },
  {
   "cell_type": "markdown",
   "id": "c5719b3c",
   "metadata": {
    "papermill": {
     "duration": 0.035731,
     "end_time": "2022-01-29T19:27:08.706286",
     "exception": false,
     "start_time": "2022-01-29T19:27:08.670555",
     "status": "completed"
    },
    "tags": []
   },
   "source": [
    "In the above dataframe outliers are removed."
   ]
  },
  {
   "cell_type": "markdown",
   "id": "f66ac5d3",
   "metadata": {
    "papermill": {
     "duration": 0.035839,
     "end_time": "2022-01-29T19:27:08.777927",
     "exception": false,
     "start_time": "2022-01-29T19:27:08.742088",
     "status": "completed"
    },
    "tags": []
   },
   "source": [
    "# Z score"
   ]
  },
  {
   "cell_type": "markdown",
   "id": "39bc5f16",
   "metadata": {
    "papermill": {
     "duration": 0.0357,
     "end_time": "2022-01-29T19:27:08.849443",
     "exception": false,
     "start_time": "2022-01-29T19:27:08.813743",
     "status": "completed"
    },
    "tags": []
   },
   "source": [
    "we can use z score to remove outliers."
   ]
  },
  {
   "cell_type": "code",
   "execution_count": 20,
   "id": "8e19e63a",
   "metadata": {
    "execution": {
     "iopub.execute_input": "2022-01-29T19:27:08.927023Z",
     "iopub.status.busy": "2022-01-29T19:27:08.926301Z",
     "iopub.status.idle": "2022-01-29T19:27:08.932452Z",
     "shell.execute_reply": "2022-01-29T19:27:08.933031Z",
     "shell.execute_reply.started": "2022-01-29T19:24:18.233967Z"
    },
    "papermill": {
     "duration": 0.046206,
     "end_time": "2022-01-29T19:27:08.933231",
     "exception": false,
     "start_time": "2022-01-29T19:27:08.887025",
     "status": "completed"
    },
    "tags": []
   },
   "outputs": [],
   "source": [
    "# No_outliers['zscore']=(No_outliers['SalePrice']-No_outliers['SalePrice'].mean())/No_outliers['SalePrice'].std()\n",
    "# No_outliers.iloc[1, 'zscore'] = 100\n",
    "df.loc[:,'zscore'] = (df['SalePrice']-df['SalePrice'].mean())/df['SalePrice'].std()\n",
    "\n",
    "# No_outliers['SalePrice','zscore'].head()"
   ]
  },
  {
   "cell_type": "code",
   "execution_count": 21,
   "id": "b77e1c2e",
   "metadata": {
    "execution": {
     "iopub.execute_input": "2022-01-29T19:27:09.012624Z",
     "iopub.status.busy": "2022-01-29T19:27:09.011865Z",
     "iopub.status.idle": "2022-01-29T19:27:09.023441Z",
     "shell.execute_reply": "2022-01-29T19:27:09.024032Z",
     "shell.execute_reply.started": "2022-01-29T19:24:18.245892Z"
    },
    "papermill": {
     "duration": 0.054956,
     "end_time": "2022-01-29T19:27:09.024240",
     "exception": false,
     "start_time": "2022-01-29T19:27:08.969284",
     "status": "completed"
    },
    "tags": []
   },
   "outputs": [
    {
     "data": {
      "text/html": [
       "<div>\n",
       "<style scoped>\n",
       "    .dataframe tbody tr th:only-of-type {\n",
       "        vertical-align: middle;\n",
       "    }\n",
       "\n",
       "    .dataframe tbody tr th {\n",
       "        vertical-align: top;\n",
       "    }\n",
       "\n",
       "    .dataframe thead th {\n",
       "        text-align: right;\n",
       "    }\n",
       "</style>\n",
       "<table border=\"1\" class=\"dataframe\">\n",
       "  <thead>\n",
       "    <tr style=\"text-align: right;\">\n",
       "      <th></th>\n",
       "      <th>SalePrice</th>\n",
       "      <th>zscore</th>\n",
       "    </tr>\n",
       "  </thead>\n",
       "  <tbody>\n",
       "    <tr>\n",
       "      <th>0</th>\n",
       "      <td>208500</td>\n",
       "      <td>0.347154</td>\n",
       "    </tr>\n",
       "    <tr>\n",
       "      <th>1</th>\n",
       "      <td>181500</td>\n",
       "      <td>0.007286</td>\n",
       "    </tr>\n",
       "    <tr>\n",
       "      <th>2</th>\n",
       "      <td>223500</td>\n",
       "      <td>0.535970</td>\n",
       "    </tr>\n",
       "    <tr>\n",
       "      <th>3</th>\n",
       "      <td>140000</td>\n",
       "      <td>-0.515105</td>\n",
       "    </tr>\n",
       "    <tr>\n",
       "      <th>4</th>\n",
       "      <td>250000</td>\n",
       "      <td>0.869545</td>\n",
       "    </tr>\n",
       "    <tr>\n",
       "      <th>...</th>\n",
       "      <td>...</td>\n",
       "      <td>...</td>\n",
       "    </tr>\n",
       "    <tr>\n",
       "      <th>1455</th>\n",
       "      <td>175000</td>\n",
       "      <td>-0.074534</td>\n",
       "    </tr>\n",
       "    <tr>\n",
       "      <th>1456</th>\n",
       "      <td>210000</td>\n",
       "      <td>0.366036</td>\n",
       "    </tr>\n",
       "    <tr>\n",
       "      <th>1457</th>\n",
       "      <td>266500</td>\n",
       "      <td>1.077242</td>\n",
       "    </tr>\n",
       "    <tr>\n",
       "      <th>1458</th>\n",
       "      <td>142125</td>\n",
       "      <td>-0.488356</td>\n",
       "    </tr>\n",
       "    <tr>\n",
       "      <th>1459</th>\n",
       "      <td>147500</td>\n",
       "      <td>-0.420697</td>\n",
       "    </tr>\n",
       "  </tbody>\n",
       "</table>\n",
       "<p>1460 rows × 2 columns</p>\n",
       "</div>"
      ],
      "text/plain": [
       "      SalePrice    zscore\n",
       "0        208500  0.347154\n",
       "1        181500  0.007286\n",
       "2        223500  0.535970\n",
       "3        140000 -0.515105\n",
       "4        250000  0.869545\n",
       "...         ...       ...\n",
       "1455     175000 -0.074534\n",
       "1456     210000  0.366036\n",
       "1457     266500  1.077242\n",
       "1458     142125 -0.488356\n",
       "1459     147500 -0.420697\n",
       "\n",
       "[1460 rows x 2 columns]"
      ]
     },
     "execution_count": 21,
     "metadata": {},
     "output_type": "execute_result"
    }
   ],
   "source": [
    "df[['SalePrice','zscore']]"
   ]
  },
  {
   "cell_type": "code",
   "execution_count": 22,
   "id": "f13c01af",
   "metadata": {
    "execution": {
     "iopub.execute_input": "2022-01-29T19:27:09.104096Z",
     "iopub.status.busy": "2022-01-29T19:27:09.103265Z",
     "iopub.status.idle": "2022-01-29T19:27:09.112308Z",
     "shell.execute_reply": "2022-01-29T19:27:09.113128Z",
     "shell.execute_reply.started": "2022-01-29T19:26:10.632061Z"
    },
    "papermill": {
     "duration": 0.052375,
     "end_time": "2022-01-29T19:27:09.113389",
     "exception": false,
     "start_time": "2022-01-29T19:27:09.061014",
     "status": "completed"
    },
    "tags": []
   },
   "outputs": [
    {
     "data": {
      "text/plain": [
       "(1438, 82)"
      ]
     },
     "execution_count": 22,
     "metadata": {},
     "output_type": "execute_result"
    }
   ],
   "source": [
    "No_outliers = df[((df['zscore']>-3)&(df['zscore']<3))]\n",
    "No_outliers.shape"
   ]
  },
  {
   "cell_type": "markdown",
   "id": "4205cc82",
   "metadata": {
    "papermill": {
     "duration": 0.037562,
     "end_time": "2022-01-29T19:27:09.188414",
     "exception": false,
     "start_time": "2022-01-29T19:27:09.150852",
     "status": "completed"
    },
    "tags": []
   },
   "source": [
    "with zscore also removed same number of 22 outliers"
   ]
  },
  {
   "cell_type": "code",
   "execution_count": null,
   "id": "b1e7f214",
   "metadata": {
    "papermill": {
     "duration": 0.03659,
     "end_time": "2022-01-29T19:27:09.261873",
     "exception": false,
     "start_time": "2022-01-29T19:27:09.225283",
     "status": "completed"
    },
    "tags": []
   },
   "outputs": [],
   "source": []
  }
 ],
 "metadata": {
  "kernelspec": {
   "display_name": "Python 3",
   "language": "python",
   "name": "python3"
  },
  "language_info": {
   "codemirror_mode": {
    "name": "ipython",
    "version": 3
   },
   "file_extension": ".py",
   "mimetype": "text/x-python",
   "name": "python",
   "nbconvert_exporter": "python",
   "pygments_lexer": "ipython3",
   "version": "3.7.12"
  },
  "papermill": {
   "default_parameters": {},
   "duration": 17.554889,
   "end_time": "2022-01-29T19:27:10.312853",
   "environment_variables": {},
   "exception": null,
   "input_path": "__notebook__.ipynb",
   "output_path": "__notebook__.ipynb",
   "parameters": {},
   "start_time": "2022-01-29T19:26:52.757964",
   "version": "2.3.3"
  }
 },
 "nbformat": 4,
 "nbformat_minor": 5
}
