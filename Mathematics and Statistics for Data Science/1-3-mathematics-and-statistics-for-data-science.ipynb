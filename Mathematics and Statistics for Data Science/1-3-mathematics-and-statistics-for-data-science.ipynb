{
 "cells": [
  {
   "cell_type": "markdown",
   "id": "ab1390d9",
   "metadata": {
    "papermill": {
     "duration": 0.023994,
     "end_time": "2022-01-29T22:09:31.463244",
     "exception": false,
     "start_time": "2022-01-29T22:09:31.439250",
     "status": "completed"
    },
    "tags": []
   },
   "source": [
    "# Median, Mean, Mode, Percentile"
   ]
  },
  {
   "cell_type": "markdown",
   "id": "f3fd76e6",
   "metadata": {
    "papermill": {
     "duration": 0.022061,
     "end_time": "2022-01-29T22:09:31.510300",
     "exception": false,
     "start_time": "2022-01-29T22:09:31.488239",
     "status": "completed"
    },
    "tags": []
   },
   "source": [
    "We will use **Median, Mean, Mode** to fill the missing values.**Percentile** used to understand and interpret data."
   ]
  },
  {
   "cell_type": "markdown",
   "id": "b1b0047b",
   "metadata": {
    "papermill": {
     "duration": 0.022038,
     "end_time": "2022-01-29T22:09:31.554756",
     "exception": false,
     "start_time": "2022-01-29T22:09:31.532718",
     "status": "completed"
    },
    "tags": []
   },
   "source": [
    "# Mean"
   ]
  },
  {
   "cell_type": "code",
   "execution_count": 1,
   "id": "6fc54ba0",
   "metadata": {
    "execution": {
     "iopub.execute_input": "2022-01-29T22:09:31.604045Z",
     "iopub.status.busy": "2022-01-29T22:09:31.602862Z",
     "iopub.status.idle": "2022-01-29T22:09:31.750849Z",
     "shell.execute_reply": "2022-01-29T22:09:31.751336Z",
     "shell.execute_reply.started": "2022-01-29T22:09:00.340599Z"
    },
    "papermill": {
     "duration": 0.174352,
     "end_time": "2022-01-29T22:09:31.751621",
     "exception": false,
     "start_time": "2022-01-29T22:09:31.577269",
     "status": "completed"
    },
    "tags": []
   },
   "outputs": [
    {
     "data": {
      "text/html": [
       "<div>\n",
       "<style scoped>\n",
       "    .dataframe tbody tr th:only-of-type {\n",
       "        vertical-align: middle;\n",
       "    }\n",
       "\n",
       "    .dataframe tbody tr th {\n",
       "        vertical-align: top;\n",
       "    }\n",
       "\n",
       "    .dataframe thead th {\n",
       "        text-align: right;\n",
       "    }\n",
       "</style>\n",
       "<table border=\"1\" class=\"dataframe\">\n",
       "  <thead>\n",
       "    <tr style=\"text-align: right;\">\n",
       "      <th></th>\n",
       "      <th>name</th>\n",
       "      <th>salary</th>\n",
       "    </tr>\n",
       "  </thead>\n",
       "  <tbody>\n",
       "    <tr>\n",
       "      <th>0</th>\n",
       "      <td>laxman</td>\n",
       "      <td>1000.0</td>\n",
       "    </tr>\n",
       "    <tr>\n",
       "      <th>1</th>\n",
       "      <td>santhosh</td>\n",
       "      <td>2000.0</td>\n",
       "    </tr>\n",
       "    <tr>\n",
       "      <th>2</th>\n",
       "      <td>ashok</td>\n",
       "      <td>3000.0</td>\n",
       "    </tr>\n",
       "    <tr>\n",
       "      <th>3</th>\n",
       "      <td>rajesk</td>\n",
       "      <td>NaN</td>\n",
       "    </tr>\n",
       "    <tr>\n",
       "      <th>4</th>\n",
       "      <td>prashanth</td>\n",
       "      <td>2000.0</td>\n",
       "    </tr>\n",
       "    <tr>\n",
       "      <th>5</th>\n",
       "      <td>kumar</td>\n",
       "      <td>1000.0</td>\n",
       "    </tr>\n",
       "  </tbody>\n",
       "</table>\n",
       "</div>"
      ],
      "text/plain": [
       "        name  salary\n",
       "0     laxman  1000.0\n",
       "1   santhosh  2000.0\n",
       "2      ashok  3000.0\n",
       "3     rajesk     NaN\n",
       "4  prashanth  2000.0\n",
       "5      kumar  1000.0"
      ]
     },
     "execution_count": 1,
     "metadata": {},
     "output_type": "execute_result"
    }
   ],
   "source": [
    "import pandas as pd\n",
    "df = pd.read_csv(\"https://raw.githubusercontent.com/laxmankusuma/Data-Science-series/main/Mathematics%20and%20Statistics%20for%20Data%20Science/mean\",sep=',')\n",
    "df"
   ]
  },
  {
   "cell_type": "code",
   "execution_count": 2,
   "id": "863dd25d",
   "metadata": {
    "execution": {
     "iopub.execute_input": "2022-01-29T22:09:31.806920Z",
     "iopub.status.busy": "2022-01-29T22:09:31.806058Z",
     "iopub.status.idle": "2022-01-29T22:09:31.809219Z",
     "shell.execute_reply": "2022-01-29T22:09:31.809708Z",
     "shell.execute_reply.started": "2022-01-29T22:09:00.582164Z"
    },
    "papermill": {
     "duration": 0.035004,
     "end_time": "2022-01-29T22:09:31.809906",
     "exception": false,
     "start_time": "2022-01-29T22:09:31.774902",
     "status": "completed"
    },
    "tags": []
   },
   "outputs": [
    {
     "data": {
      "text/plain": [
       "1800.0"
      ]
     },
     "execution_count": 2,
     "metadata": {},
     "output_type": "execute_result"
    }
   ],
   "source": [
    "mean_value = df['salary'].mean()\n",
    "mean_value"
   ]
  },
  {
   "cell_type": "code",
   "execution_count": 3,
   "id": "25c98c18",
   "metadata": {
    "execution": {
     "iopub.execute_input": "2022-01-29T22:09:31.860974Z",
     "iopub.status.busy": "2022-01-29T22:09:31.859951Z",
     "iopub.status.idle": "2022-01-29T22:09:31.864495Z",
     "shell.execute_reply": "2022-01-29T22:09:31.865104Z",
     "shell.execute_reply.started": "2022-01-29T22:09:00.591310Z"
    },
    "papermill": {
     "duration": 0.031779,
     "end_time": "2022-01-29T22:09:31.865274",
     "exception": false,
     "start_time": "2022-01-29T22:09:31.833495",
     "status": "completed"
    },
    "tags": []
   },
   "outputs": [],
   "source": [
    "df['salary'].fillna(value=mean_value, inplace=True)"
   ]
  },
  {
   "cell_type": "code",
   "execution_count": 4,
   "id": "7d603209",
   "metadata": {
    "execution": {
     "iopub.execute_input": "2022-01-29T22:09:31.916120Z",
     "iopub.status.busy": "2022-01-29T22:09:31.915046Z",
     "iopub.status.idle": "2022-01-29T22:09:31.924555Z",
     "shell.execute_reply": "2022-01-29T22:09:31.925065Z",
     "shell.execute_reply.started": "2022-01-29T22:09:00.605096Z"
    },
    "papermill": {
     "duration": 0.037067,
     "end_time": "2022-01-29T22:09:31.925258",
     "exception": false,
     "start_time": "2022-01-29T22:09:31.888191",
     "status": "completed"
    },
    "tags": []
   },
   "outputs": [
    {
     "data": {
      "text/html": [
       "<div>\n",
       "<style scoped>\n",
       "    .dataframe tbody tr th:only-of-type {\n",
       "        vertical-align: middle;\n",
       "    }\n",
       "\n",
       "    .dataframe tbody tr th {\n",
       "        vertical-align: top;\n",
       "    }\n",
       "\n",
       "    .dataframe thead th {\n",
       "        text-align: right;\n",
       "    }\n",
       "</style>\n",
       "<table border=\"1\" class=\"dataframe\">\n",
       "  <thead>\n",
       "    <tr style=\"text-align: right;\">\n",
       "      <th></th>\n",
       "      <th>name</th>\n",
       "      <th>salary</th>\n",
       "    </tr>\n",
       "  </thead>\n",
       "  <tbody>\n",
       "    <tr>\n",
       "      <th>0</th>\n",
       "      <td>laxman</td>\n",
       "      <td>1000.0</td>\n",
       "    </tr>\n",
       "    <tr>\n",
       "      <th>1</th>\n",
       "      <td>santhosh</td>\n",
       "      <td>2000.0</td>\n",
       "    </tr>\n",
       "    <tr>\n",
       "      <th>2</th>\n",
       "      <td>ashok</td>\n",
       "      <td>3000.0</td>\n",
       "    </tr>\n",
       "    <tr>\n",
       "      <th>3</th>\n",
       "      <td>rajesk</td>\n",
       "      <td>1800.0</td>\n",
       "    </tr>\n",
       "    <tr>\n",
       "      <th>4</th>\n",
       "      <td>prashanth</td>\n",
       "      <td>2000.0</td>\n",
       "    </tr>\n",
       "    <tr>\n",
       "      <th>5</th>\n",
       "      <td>kumar</td>\n",
       "      <td>1000.0</td>\n",
       "    </tr>\n",
       "  </tbody>\n",
       "</table>\n",
       "</div>"
      ],
      "text/plain": [
       "        name  salary\n",
       "0     laxman  1000.0\n",
       "1   santhosh  2000.0\n",
       "2      ashok  3000.0\n",
       "3     rajesk  1800.0\n",
       "4  prashanth  2000.0\n",
       "5      kumar  1000.0"
      ]
     },
     "execution_count": 4,
     "metadata": {},
     "output_type": "execute_result"
    }
   ],
   "source": [
    "df"
   ]
  },
  {
   "cell_type": "markdown",
   "id": "a0ead654",
   "metadata": {
    "papermill": {
     "duration": 0.023547,
     "end_time": "2022-01-29T22:09:31.972773",
     "exception": false,
     "start_time": "2022-01-29T22:09:31.949226",
     "status": "completed"
    },
    "tags": []
   },
   "source": [
    "salary of rajesh filled with mean value."
   ]
  },
  {
   "cell_type": "markdown",
   "id": "547b96da",
   "metadata": {
    "papermill": {
     "duration": 0.023357,
     "end_time": "2022-01-29T22:09:32.020748",
     "exception": false,
     "start_time": "2022-01-29T22:09:31.997391",
     "status": "completed"
    },
    "tags": []
   },
   "source": [
    "# Median use"
   ]
  },
  {
   "cell_type": "code",
   "execution_count": 5,
   "id": "7e925b6c",
   "metadata": {
    "execution": {
     "iopub.execute_input": "2022-01-29T22:09:32.081480Z",
     "iopub.status.busy": "2022-01-29T22:09:32.080750Z",
     "iopub.status.idle": "2022-01-29T22:09:32.180081Z",
     "shell.execute_reply": "2022-01-29T22:09:32.179547Z",
     "shell.execute_reply.started": "2022-01-29T22:09:00.623544Z"
    },
    "papermill": {
     "duration": 0.134943,
     "end_time": "2022-01-29T22:09:32.180233",
     "exception": false,
     "start_time": "2022-01-29T22:09:32.045290",
     "status": "completed"
    },
    "tags": []
   },
   "outputs": [
    {
     "data": {
      "text/html": [
       "<div>\n",
       "<style scoped>\n",
       "    .dataframe tbody tr th:only-of-type {\n",
       "        vertical-align: middle;\n",
       "    }\n",
       "\n",
       "    .dataframe tbody tr th {\n",
       "        vertical-align: top;\n",
       "    }\n",
       "\n",
       "    .dataframe thead th {\n",
       "        text-align: right;\n",
       "    }\n",
       "</style>\n",
       "<table border=\"1\" class=\"dataframe\">\n",
       "  <thead>\n",
       "    <tr style=\"text-align: right;\">\n",
       "      <th></th>\n",
       "      <th>name</th>\n",
       "      <th>salary</th>\n",
       "    </tr>\n",
       "  </thead>\n",
       "  <tbody>\n",
       "    <tr>\n",
       "      <th>0</th>\n",
       "      <td>laxman</td>\n",
       "      <td>1000.0000</td>\n",
       "    </tr>\n",
       "    <tr>\n",
       "      <th>1</th>\n",
       "      <td>santhosh</td>\n",
       "      <td>2000.0000</td>\n",
       "    </tr>\n",
       "    <tr>\n",
       "      <th>2</th>\n",
       "      <td>ashok</td>\n",
       "      <td>3000.0000</td>\n",
       "    </tr>\n",
       "    <tr>\n",
       "      <th>3</th>\n",
       "      <td>rajesk</td>\n",
       "      <td>NaN</td>\n",
       "    </tr>\n",
       "    <tr>\n",
       "      <th>4</th>\n",
       "      <td>prashanth</td>\n",
       "      <td>2000.0000</td>\n",
       "    </tr>\n",
       "    <tr>\n",
       "      <th>5</th>\n",
       "      <td>kumar</td>\n",
       "      <td>10000000000.0000</td>\n",
       "    </tr>\n",
       "  </tbody>\n",
       "</table>\n",
       "</div>"
      ],
      "text/plain": [
       "        name           salary\n",
       "0     laxman        1000.0000\n",
       "1   santhosh        2000.0000\n",
       "2      ashok        3000.0000\n",
       "3     rajesk              NaN\n",
       "4  prashanth        2000.0000\n",
       "5      kumar 10000000000.0000"
      ]
     },
     "execution_count": 5,
     "metadata": {},
     "output_type": "execute_result"
    }
   ],
   "source": [
    "df = pd.read_csv(\"https://raw.githubusercontent.com/laxmankusuma/Data-Science-series/main/Mathematics%20and%20Statistics%20for%20Data%20Science/median\",sep=',')\n",
    "pd.set_option('display.float_format', lambda x: '%0.4f' % x)\n",
    "df"
   ]
  },
  {
   "cell_type": "code",
   "execution_count": 6,
   "id": "1465a5be",
   "metadata": {
    "execution": {
     "iopub.execute_input": "2022-01-29T22:09:32.236240Z",
     "iopub.status.busy": "2022-01-29T22:09:32.235327Z",
     "iopub.status.idle": "2022-01-29T22:09:32.239433Z",
     "shell.execute_reply": "2022-01-29T22:09:32.238900Z",
     "shell.execute_reply.started": "2022-01-29T22:09:00.913022Z"
    },
    "papermill": {
     "duration": 0.035212,
     "end_time": "2022-01-29T22:09:32.239579",
     "exception": false,
     "start_time": "2022-01-29T22:09:32.204367",
     "status": "completed"
    },
    "tags": []
   },
   "outputs": [
    {
     "data": {
      "text/plain": [
       "2000001600.0"
      ]
     },
     "execution_count": 6,
     "metadata": {},
     "output_type": "execute_result"
    }
   ],
   "source": [
    "df['salary'].mean()"
   ]
  },
  {
   "cell_type": "markdown",
   "id": "a51c12ca",
   "metadata": {
    "papermill": {
     "duration": 0.024029,
     "end_time": "2022-01-29T22:09:32.288247",
     "exception": false,
     "start_time": "2022-01-29T22:09:32.264218",
     "status": "completed"
    },
    "tags": []
   },
   "source": [
    "In the above case we can not impute with mean, we use median.\n",
    "\n",
    "The median is the middle number in a sorted, ascending or descending, list of numbers\n",
    "\n",
    "if middle numbers are 2 then average it."
   ]
  },
  {
   "cell_type": "code",
   "execution_count": 7,
   "id": "b920e25e",
   "metadata": {
    "execution": {
     "iopub.execute_input": "2022-01-29T22:09:32.342066Z",
     "iopub.status.busy": "2022-01-29T22:09:32.341020Z",
     "iopub.status.idle": "2022-01-29T22:09:32.343755Z",
     "shell.execute_reply": "2022-01-29T22:09:32.343249Z",
     "shell.execute_reply.started": "2022-01-29T22:09:00.922025Z"
    },
    "papermill": {
     "duration": 0.031436,
     "end_time": "2022-01-29T22:09:32.343946",
     "exception": false,
     "start_time": "2022-01-29T22:09:32.312510",
     "status": "completed"
    },
    "tags": []
   },
   "outputs": [],
   "source": [
    "median_value = df['salary'].median()"
   ]
  },
  {
   "cell_type": "code",
   "execution_count": 8,
   "id": "128bdbb8",
   "metadata": {
    "execution": {
     "iopub.execute_input": "2022-01-29T22:09:32.401992Z",
     "iopub.status.busy": "2022-01-29T22:09:32.401287Z",
     "iopub.status.idle": "2022-01-29T22:09:32.404429Z",
     "shell.execute_reply": "2022-01-29T22:09:32.403835Z",
     "shell.execute_reply.started": "2022-01-29T22:09:00.933490Z"
    },
    "papermill": {
     "duration": 0.036318,
     "end_time": "2022-01-29T22:09:32.404571",
     "exception": false,
     "start_time": "2022-01-29T22:09:32.368253",
     "status": "completed"
    },
    "tags": []
   },
   "outputs": [
    {
     "data": {
      "text/html": [
       "<div>\n",
       "<style scoped>\n",
       "    .dataframe tbody tr th:only-of-type {\n",
       "        vertical-align: middle;\n",
       "    }\n",
       "\n",
       "    .dataframe tbody tr th {\n",
       "        vertical-align: top;\n",
       "    }\n",
       "\n",
       "    .dataframe thead th {\n",
       "        text-align: right;\n",
       "    }\n",
       "</style>\n",
       "<table border=\"1\" class=\"dataframe\">\n",
       "  <thead>\n",
       "    <tr style=\"text-align: right;\">\n",
       "      <th></th>\n",
       "      <th>name</th>\n",
       "      <th>salary</th>\n",
       "    </tr>\n",
       "  </thead>\n",
       "  <tbody>\n",
       "    <tr>\n",
       "      <th>0</th>\n",
       "      <td>laxman</td>\n",
       "      <td>1000.0000</td>\n",
       "    </tr>\n",
       "    <tr>\n",
       "      <th>1</th>\n",
       "      <td>santhosh</td>\n",
       "      <td>2000.0000</td>\n",
       "    </tr>\n",
       "    <tr>\n",
       "      <th>2</th>\n",
       "      <td>ashok</td>\n",
       "      <td>3000.0000</td>\n",
       "    </tr>\n",
       "    <tr>\n",
       "      <th>3</th>\n",
       "      <td>rajesk</td>\n",
       "      <td>2000.0000</td>\n",
       "    </tr>\n",
       "    <tr>\n",
       "      <th>4</th>\n",
       "      <td>prashanth</td>\n",
       "      <td>2000.0000</td>\n",
       "    </tr>\n",
       "    <tr>\n",
       "      <th>5</th>\n",
       "      <td>kumar</td>\n",
       "      <td>10000000000.0000</td>\n",
       "    </tr>\n",
       "  </tbody>\n",
       "</table>\n",
       "</div>"
      ],
      "text/plain": [
       "        name           salary\n",
       "0     laxman        1000.0000\n",
       "1   santhosh        2000.0000\n",
       "2      ashok        3000.0000\n",
       "3     rajesk        2000.0000\n",
       "4  prashanth        2000.0000\n",
       "5      kumar 10000000000.0000"
      ]
     },
     "execution_count": 8,
     "metadata": {},
     "output_type": "execute_result"
    }
   ],
   "source": [
    "df['salary'].fillna(value=median_value, inplace=True)\n",
    "df"
   ]
  },
  {
   "cell_type": "markdown",
   "id": "ebc0f5d3",
   "metadata": {
    "papermill": {
     "duration": 0.024348,
     "end_time": "2022-01-29T22:09:32.453600",
     "exception": false,
     "start_time": "2022-01-29T22:09:32.429252",
     "status": "completed"
    },
    "tags": []
   },
   "source": [
    "Rajesh salary updated with median"
   ]
  },
  {
   "cell_type": "markdown",
   "id": "87e92d3f",
   "metadata": {
    "papermill": {
     "duration": 0.024224,
     "end_time": "2022-01-29T22:09:32.502595",
     "exception": false,
     "start_time": "2022-01-29T22:09:32.478371",
     "status": "completed"
    },
    "tags": []
   },
   "source": [
    "# Mode"
   ]
  },
  {
   "cell_type": "markdown",
   "id": "0af36454",
   "metadata": {
    "papermill": {
     "duration": 0.024502,
     "end_time": "2022-01-29T22:09:32.551867",
     "exception": false,
     "start_time": "2022-01-29T22:09:32.527365",
     "status": "completed"
    },
    "tags": []
   },
   "source": [
    "The mode is the value that appears most often in a set of data values."
   ]
  },
  {
   "cell_type": "code",
   "execution_count": 9,
   "id": "e66d5ba2",
   "metadata": {
    "execution": {
     "iopub.execute_input": "2022-01-29T22:09:32.613938Z",
     "iopub.status.busy": "2022-01-29T22:09:32.613197Z",
     "iopub.status.idle": "2022-01-29T22:09:32.709966Z",
     "shell.execute_reply": "2022-01-29T22:09:32.709244Z",
     "shell.execute_reply.started": "2022-01-29T22:09:00.952564Z"
    },
    "papermill": {
     "duration": 0.133399,
     "end_time": "2022-01-29T22:09:32.710111",
     "exception": false,
     "start_time": "2022-01-29T22:09:32.576712",
     "status": "completed"
    },
    "tags": []
   },
   "outputs": [
    {
     "data": {
      "text/html": [
       "<div>\n",
       "<style scoped>\n",
       "    .dataframe tbody tr th:only-of-type {\n",
       "        vertical-align: middle;\n",
       "    }\n",
       "\n",
       "    .dataframe tbody tr th {\n",
       "        vertical-align: top;\n",
       "    }\n",
       "\n",
       "    .dataframe thead th {\n",
       "        text-align: right;\n",
       "    }\n",
       "</style>\n",
       "<table border=\"1\" class=\"dataframe\">\n",
       "  <thead>\n",
       "    <tr style=\"text-align: right;\">\n",
       "      <th></th>\n",
       "      <th>name</th>\n",
       "      <th>color</th>\n",
       "    </tr>\n",
       "  </thead>\n",
       "  <tbody>\n",
       "    <tr>\n",
       "      <th>0</th>\n",
       "      <td>laxman</td>\n",
       "      <td>brown</td>\n",
       "    </tr>\n",
       "    <tr>\n",
       "      <th>1</th>\n",
       "      <td>rajesh</td>\n",
       "      <td>brown</td>\n",
       "    </tr>\n",
       "    <tr>\n",
       "      <th>2</th>\n",
       "      <td>kumar</td>\n",
       "      <td>brown</td>\n",
       "    </tr>\n",
       "    <tr>\n",
       "      <th>3</th>\n",
       "      <td>bob</td>\n",
       "      <td>white</td>\n",
       "    </tr>\n",
       "    <tr>\n",
       "      <th>4</th>\n",
       "      <td>prashanth</td>\n",
       "      <td>brown</td>\n",
       "    </tr>\n",
       "    <tr>\n",
       "      <th>5</th>\n",
       "      <td>santhosh</td>\n",
       "      <td>NaN</td>\n",
       "    </tr>\n",
       "    <tr>\n",
       "      <th>6</th>\n",
       "      <td>ashok</td>\n",
       "      <td>brown</td>\n",
       "    </tr>\n",
       "  </tbody>\n",
       "</table>\n",
       "</div>"
      ],
      "text/plain": [
       "        name  color\n",
       "0     laxman  brown\n",
       "1     rajesh  brown\n",
       "2      kumar  brown\n",
       "3        bob  white\n",
       "4  prashanth  brown\n",
       "5   santhosh    NaN\n",
       "6      ashok  brown"
      ]
     },
     "execution_count": 9,
     "metadata": {},
     "output_type": "execute_result"
    }
   ],
   "source": [
    "df = pd.read_csv(\"https://raw.githubusercontent.com/laxmankusuma/Data-Science-series/main/Mathematics%20and%20Statistics%20for%20Data%20Science/mode\",sep=',')\n",
    "df"
   ]
  },
  {
   "cell_type": "code",
   "execution_count": 10,
   "id": "d7d5f811",
   "metadata": {
    "execution": {
     "iopub.execute_input": "2022-01-29T22:09:32.771758Z",
     "iopub.status.busy": "2022-01-29T22:09:32.771079Z",
     "iopub.status.idle": "2022-01-29T22:09:32.775575Z",
     "shell.execute_reply": "2022-01-29T22:09:32.776173Z",
     "shell.execute_reply.started": "2022-01-29T22:09:01.203839Z"
    },
    "papermill": {
     "duration": 0.040384,
     "end_time": "2022-01-29T22:09:32.776360",
     "exception": false,
     "start_time": "2022-01-29T22:09:32.735976",
     "status": "completed"
    },
    "tags": []
   },
   "outputs": [
    {
     "data": {
      "text/plain": [
       "'brown'"
      ]
     },
     "execution_count": 10,
     "metadata": {},
     "output_type": "execute_result"
    }
   ],
   "source": [
    "mode_value = df['color'].mode()[0]\n",
    "mode_value"
   ]
  },
  {
   "cell_type": "code",
   "execution_count": 11,
   "id": "faebfe06",
   "metadata": {
    "execution": {
     "iopub.execute_input": "2022-01-29T22:09:32.837701Z",
     "iopub.status.busy": "2022-01-29T22:09:32.836008Z",
     "iopub.status.idle": "2022-01-29T22:09:32.840864Z",
     "shell.execute_reply": "2022-01-29T22:09:32.841461Z",
     "shell.execute_reply.started": "2022-01-29T22:09:01.214801Z"
    },
    "papermill": {
     "duration": 0.039227,
     "end_time": "2022-01-29T22:09:32.841633",
     "exception": false,
     "start_time": "2022-01-29T22:09:32.802406",
     "status": "completed"
    },
    "tags": []
   },
   "outputs": [
    {
     "data": {
      "text/html": [
       "<div>\n",
       "<style scoped>\n",
       "    .dataframe tbody tr th:only-of-type {\n",
       "        vertical-align: middle;\n",
       "    }\n",
       "\n",
       "    .dataframe tbody tr th {\n",
       "        vertical-align: top;\n",
       "    }\n",
       "\n",
       "    .dataframe thead th {\n",
       "        text-align: right;\n",
       "    }\n",
       "</style>\n",
       "<table border=\"1\" class=\"dataframe\">\n",
       "  <thead>\n",
       "    <tr style=\"text-align: right;\">\n",
       "      <th></th>\n",
       "      <th>name</th>\n",
       "      <th>color</th>\n",
       "    </tr>\n",
       "  </thead>\n",
       "  <tbody>\n",
       "    <tr>\n",
       "      <th>0</th>\n",
       "      <td>laxman</td>\n",
       "      <td>brown</td>\n",
       "    </tr>\n",
       "    <tr>\n",
       "      <th>1</th>\n",
       "      <td>rajesh</td>\n",
       "      <td>brown</td>\n",
       "    </tr>\n",
       "    <tr>\n",
       "      <th>2</th>\n",
       "      <td>kumar</td>\n",
       "      <td>brown</td>\n",
       "    </tr>\n",
       "    <tr>\n",
       "      <th>3</th>\n",
       "      <td>bob</td>\n",
       "      <td>white</td>\n",
       "    </tr>\n",
       "    <tr>\n",
       "      <th>4</th>\n",
       "      <td>prashanth</td>\n",
       "      <td>brown</td>\n",
       "    </tr>\n",
       "    <tr>\n",
       "      <th>5</th>\n",
       "      <td>santhosh</td>\n",
       "      <td>brown</td>\n",
       "    </tr>\n",
       "    <tr>\n",
       "      <th>6</th>\n",
       "      <td>ashok</td>\n",
       "      <td>brown</td>\n",
       "    </tr>\n",
       "  </tbody>\n",
       "</table>\n",
       "</div>"
      ],
      "text/plain": [
       "        name  color\n",
       "0     laxman  brown\n",
       "1     rajesh  brown\n",
       "2      kumar  brown\n",
       "3        bob  white\n",
       "4  prashanth  brown\n",
       "5   santhosh  brown\n",
       "6      ashok  brown"
      ]
     },
     "execution_count": 11,
     "metadata": {},
     "output_type": "execute_result"
    }
   ],
   "source": [
    "df['color'].fillna(value=mode_value, inplace=True)\n",
    "df"
   ]
  },
  {
   "cell_type": "markdown",
   "id": "55fbc0aa",
   "metadata": {
    "papermill": {
     "duration": 0.025499,
     "end_time": "2022-01-29T22:09:32.893005",
     "exception": false,
     "start_time": "2022-01-29T22:09:32.867506",
     "status": "completed"
    },
    "tags": []
   },
   "source": [
    "santhosh color updated with brown color."
   ]
  },
  {
   "cell_type": "markdown",
   "id": "db80e0af",
   "metadata": {
    "papermill": {
     "duration": 0.025557,
     "end_time": "2022-01-29T22:09:32.945200",
     "exception": false,
     "start_time": "2022-01-29T22:09:32.919643",
     "status": "completed"
    },
    "tags": []
   },
   "source": [
    "# Percentile"
   ]
  },
  {
   "cell_type": "markdown",
   "id": "fb3e4495",
   "metadata": {
    "papermill": {
     "duration": 0.025597,
     "end_time": "2022-01-29T22:09:32.997002",
     "exception": false,
     "start_time": "2022-01-29T22:09:32.971405",
     "status": "completed"
    },
    "tags": []
   },
   "source": [
    "A percentile is based on the rank of numbers.\n",
    "\n",
    "we can remove outliers using percentile"
   ]
  },
  {
   "cell_type": "code",
   "execution_count": 12,
   "id": "12e526d7",
   "metadata": {
    "execution": {
     "iopub.execute_input": "2022-01-29T22:09:33.061104Z",
     "iopub.status.busy": "2022-01-29T22:09:33.060353Z",
     "iopub.status.idle": "2022-01-29T22:09:33.163037Z",
     "shell.execute_reply": "2022-01-29T22:09:33.163617Z",
     "shell.execute_reply.started": "2022-01-29T22:09:01.233049Z"
    },
    "papermill": {
     "duration": 0.140936,
     "end_time": "2022-01-29T22:09:33.163782",
     "exception": false,
     "start_time": "2022-01-29T22:09:33.022846",
     "status": "completed"
    },
    "tags": []
   },
   "outputs": [
    {
     "data": {
      "text/html": [
       "<div>\n",
       "<style scoped>\n",
       "    .dataframe tbody tr th:only-of-type {\n",
       "        vertical-align: middle;\n",
       "    }\n",
       "\n",
       "    .dataframe tbody tr th {\n",
       "        vertical-align: top;\n",
       "    }\n",
       "\n",
       "    .dataframe thead th {\n",
       "        text-align: right;\n",
       "    }\n",
       "</style>\n",
       "<table border=\"1\" class=\"dataframe\">\n",
       "  <thead>\n",
       "    <tr style=\"text-align: right;\">\n",
       "      <th></th>\n",
       "      <th>key</th>\n",
       "      <th>value</th>\n",
       "    </tr>\n",
       "  </thead>\n",
       "  <tbody>\n",
       "    <tr>\n",
       "      <th>0</th>\n",
       "      <td>1</td>\n",
       "      <td>1000</td>\n",
       "    </tr>\n",
       "    <tr>\n",
       "      <th>1</th>\n",
       "      <td>2</td>\n",
       "      <td>2000</td>\n",
       "    </tr>\n",
       "    <tr>\n",
       "      <th>2</th>\n",
       "      <td>3</td>\n",
       "      <td>3000</td>\n",
       "    </tr>\n",
       "    <tr>\n",
       "      <th>3</th>\n",
       "      <td>4</td>\n",
       "      <td>500</td>\n",
       "    </tr>\n",
       "    <tr>\n",
       "      <th>4</th>\n",
       "      <td>5</td>\n",
       "      <td>4000</td>\n",
       "    </tr>\n",
       "    <tr>\n",
       "      <th>5</th>\n",
       "      <td>6</td>\n",
       "      <td>1200</td>\n",
       "    </tr>\n",
       "    <tr>\n",
       "      <th>6</th>\n",
       "      <td>7</td>\n",
       "      <td>2900</td>\n",
       "    </tr>\n",
       "    <tr>\n",
       "      <th>7</th>\n",
       "      <td>8</td>\n",
       "      <td>1100</td>\n",
       "    </tr>\n",
       "    <tr>\n",
       "      <th>8</th>\n",
       "      <td>9</td>\n",
       "      <td>5000</td>\n",
       "    </tr>\n",
       "    <tr>\n",
       "      <th>9</th>\n",
       "      <td>10</td>\n",
       "      <td>800</td>\n",
       "    </tr>\n",
       "    <tr>\n",
       "      <th>10</th>\n",
       "      <td>11</td>\n",
       "      <td>900</td>\n",
       "    </tr>\n",
       "    <tr>\n",
       "      <th>11</th>\n",
       "      <td>12</td>\n",
       "      <td>6000</td>\n",
       "    </tr>\n",
       "  </tbody>\n",
       "</table>\n",
       "</div>"
      ],
      "text/plain": [
       "    key  value\n",
       "0     1   1000\n",
       "1     2   2000\n",
       "2     3   3000\n",
       "3     4    500\n",
       "4     5   4000\n",
       "5     6   1200\n",
       "6     7   2900\n",
       "7     8   1100\n",
       "8     9   5000\n",
       "9    10    800\n",
       "10   11    900\n",
       "11   12   6000"
      ]
     },
     "execution_count": 12,
     "metadata": {},
     "output_type": "execute_result"
    }
   ],
   "source": [
    "df = pd.read_csv(\"https://raw.githubusercontent.com/laxmankusuma/Data-Science-series/main/Mathematics%20and%20Statistics%20for%20Data%20Science/Percentile\",sep=',')\n",
    "df"
   ]
  },
  {
   "cell_type": "markdown",
   "id": "d3c7607d",
   "metadata": {
    "papermill": {
     "duration": 0.026294,
     "end_time": "2022-01-29T22:09:33.216565",
     "exception": false,
     "start_time": "2022-01-29T22:09:33.190271",
     "status": "completed"
    },
    "tags": []
   },
   "source": [
    "sort all the values\n",
    "\n",
    "500,800, 900, 1000, 1100,1200,2000,2900,3000,4000, 5000,6000\n",
    "\n"
   ]
  },
  {
   "cell_type": "markdown",
   "id": "5c722153",
   "metadata": {
    "papermill": {
     "duration": 0.026322,
     "end_time": "2022-01-29T22:09:33.269642",
     "exception": false,
     "start_time": "2022-01-29T22:09:33.243320",
     "status": "completed"
    },
    "tags": []
   },
   "source": [
    "borders of the percentile , we call as quantile"
   ]
  },
  {
   "cell_type": "code",
   "execution_count": 13,
   "id": "f614a2c9",
   "metadata": {
    "execution": {
     "iopub.execute_input": "2022-01-29T22:09:33.325558Z",
     "iopub.status.busy": "2022-01-29T22:09:33.324930Z",
     "iopub.status.idle": "2022-01-29T22:09:33.334879Z",
     "shell.execute_reply": "2022-01-29T22:09:33.334368Z",
     "shell.execute_reply.started": "2022-01-29T22:09:01.544731Z"
    },
    "papermill": {
     "duration": 0.038812,
     "end_time": "2022-01-29T22:09:33.335027",
     "exception": false,
     "start_time": "2022-01-29T22:09:33.296215",
     "status": "completed"
    },
    "tags": []
   },
   "outputs": [
    {
     "data": {
      "text/plain": [
       "975.0"
      ]
     },
     "execution_count": 13,
     "metadata": {},
     "output_type": "execute_result"
    }
   ],
   "source": [
    "df['value'].quantile(0.25)"
   ]
  },
  {
   "cell_type": "code",
   "execution_count": 14,
   "id": "2ef59eef",
   "metadata": {
    "execution": {
     "iopub.execute_input": "2022-01-29T22:09:33.397041Z",
     "iopub.status.busy": "2022-01-29T22:09:33.396369Z",
     "iopub.status.idle": "2022-01-29T22:09:33.398899Z",
     "shell.execute_reply": "2022-01-29T22:09:33.399381Z",
     "shell.execute_reply.started": "2022-01-29T22:09:01.555785Z"
    },
    "papermill": {
     "duration": 0.037273,
     "end_time": "2022-01-29T22:09:33.399547",
     "exception": false,
     "start_time": "2022-01-29T22:09:33.362274",
     "status": "completed"
    },
    "tags": []
   },
   "outputs": [
    {
     "data": {
      "text/plain": [
       "1600.0"
      ]
     },
     "execution_count": 14,
     "metadata": {},
     "output_type": "execute_result"
    }
   ],
   "source": [
    "df['value'].quantile(0.50) "
   ]
  },
  {
   "cell_type": "code",
   "execution_count": 15,
   "id": "2185593c",
   "metadata": {
    "execution": {
     "iopub.execute_input": "2022-01-29T22:09:33.461358Z",
     "iopub.status.busy": "2022-01-29T22:09:33.460689Z",
     "iopub.status.idle": "2022-01-29T22:09:33.463082Z",
     "shell.execute_reply": "2022-01-29T22:09:33.463552Z",
     "shell.execute_reply.started": "2022-01-29T22:09:01.571777Z"
    },
    "papermill": {
     "duration": 0.036954,
     "end_time": "2022-01-29T22:09:33.463721",
     "exception": false,
     "start_time": "2022-01-29T22:09:33.426767",
     "status": "completed"
    },
    "tags": []
   },
   "outputs": [
    {
     "data": {
      "text/plain": [
       "3250.0"
      ]
     },
     "execution_count": 15,
     "metadata": {},
     "output_type": "execute_result"
    }
   ],
   "source": [
    "df['value'].quantile(0.75) "
   ]
  },
  {
   "cell_type": "code",
   "execution_count": 16,
   "id": "f6e6e200",
   "metadata": {
    "execution": {
     "iopub.execute_input": "2022-01-29T22:09:33.522354Z",
     "iopub.status.busy": "2022-01-29T22:09:33.521686Z",
     "iopub.status.idle": "2022-01-29T22:09:33.528107Z",
     "shell.execute_reply": "2022-01-29T22:09:33.528582Z",
     "shell.execute_reply.started": "2022-01-29T22:09:01.585143Z"
    },
    "papermill": {
     "duration": 0.037449,
     "end_time": "2022-01-29T22:09:33.528749",
     "exception": false,
     "start_time": "2022-01-29T22:09:33.491300",
     "status": "completed"
    },
    "tags": []
   },
   "outputs": [
    {
     "data": {
      "text/plain": [
       "6000.0"
      ]
     },
     "execution_count": 16,
     "metadata": {},
     "output_type": "execute_result"
    }
   ],
   "source": [
    "df['value'].quantile(1) # big value"
   ]
  },
  {
   "cell_type": "code",
   "execution_count": 17,
   "id": "1449e2f6",
   "metadata": {
    "execution": {
     "iopub.execute_input": "2022-01-29T22:09:33.587963Z",
     "iopub.status.busy": "2022-01-29T22:09:33.587288Z",
     "iopub.status.idle": "2022-01-29T22:09:33.593215Z",
     "shell.execute_reply": "2022-01-29T22:09:33.593664Z",
     "shell.execute_reply.started": "2022-01-29T22:09:01.596266Z"
    },
    "papermill": {
     "duration": 0.037316,
     "end_time": "2022-01-29T22:09:33.593846",
     "exception": false,
     "start_time": "2022-01-29T22:09:33.556530",
     "status": "completed"
    },
    "tags": []
   },
   "outputs": [
    {
     "data": {
      "text/plain": [
       "500.0"
      ]
     },
     "execution_count": 17,
     "metadata": {},
     "output_type": "execute_result"
    }
   ],
   "source": [
    "df['value'].quantile(0) #  small value"
   ]
  },
  {
   "cell_type": "code",
   "execution_count": 18,
   "id": "a519947e",
   "metadata": {
    "execution": {
     "iopub.execute_input": "2022-01-29T22:09:33.653069Z",
     "iopub.status.busy": "2022-01-29T22:09:33.652450Z",
     "iopub.status.idle": "2022-01-29T22:09:33.670622Z",
     "shell.execute_reply": "2022-01-29T22:09:33.671115Z",
     "shell.execute_reply.started": "2022-01-29T22:09:01.613469Z"
    },
    "papermill": {
     "duration": 0.049309,
     "end_time": "2022-01-29T22:09:33.671299",
     "exception": false,
     "start_time": "2022-01-29T22:09:33.621990",
     "status": "completed"
    },
    "tags": []
   },
   "outputs": [
    {
     "data": {
      "text/html": [
       "<div>\n",
       "<style scoped>\n",
       "    .dataframe tbody tr th:only-of-type {\n",
       "        vertical-align: middle;\n",
       "    }\n",
       "\n",
       "    .dataframe tbody tr th {\n",
       "        vertical-align: top;\n",
       "    }\n",
       "\n",
       "    .dataframe thead th {\n",
       "        text-align: right;\n",
       "    }\n",
       "</style>\n",
       "<table border=\"1\" class=\"dataframe\">\n",
       "  <thead>\n",
       "    <tr style=\"text-align: right;\">\n",
       "      <th></th>\n",
       "      <th>key</th>\n",
       "      <th>value</th>\n",
       "    </tr>\n",
       "  </thead>\n",
       "  <tbody>\n",
       "    <tr>\n",
       "      <th>count</th>\n",
       "      <td>12.0000</td>\n",
       "      <td>12.0000</td>\n",
       "    </tr>\n",
       "    <tr>\n",
       "      <th>mean</th>\n",
       "      <td>6.5000</td>\n",
       "      <td>2366.6667</td>\n",
       "    </tr>\n",
       "    <tr>\n",
       "      <th>std</th>\n",
       "      <td>3.6056</td>\n",
       "      <td>1822.7518</td>\n",
       "    </tr>\n",
       "    <tr>\n",
       "      <th>min</th>\n",
       "      <td>1.0000</td>\n",
       "      <td>500.0000</td>\n",
       "    </tr>\n",
       "    <tr>\n",
       "      <th>25%</th>\n",
       "      <td>3.7500</td>\n",
       "      <td>975.0000</td>\n",
       "    </tr>\n",
       "    <tr>\n",
       "      <th>50%</th>\n",
       "      <td>6.5000</td>\n",
       "      <td>1600.0000</td>\n",
       "    </tr>\n",
       "    <tr>\n",
       "      <th>75%</th>\n",
       "      <td>9.2500</td>\n",
       "      <td>3250.0000</td>\n",
       "    </tr>\n",
       "    <tr>\n",
       "      <th>max</th>\n",
       "      <td>12.0000</td>\n",
       "      <td>6000.0000</td>\n",
       "    </tr>\n",
       "  </tbody>\n",
       "</table>\n",
       "</div>"
      ],
      "text/plain": [
       "          key     value\n",
       "count 12.0000   12.0000\n",
       "mean   6.5000 2366.6667\n",
       "std    3.6056 1822.7518\n",
       "min    1.0000  500.0000\n",
       "25%    3.7500  975.0000\n",
       "50%    6.5000 1600.0000\n",
       "75%    9.2500 3250.0000\n",
       "max   12.0000 6000.0000"
      ]
     },
     "execution_count": 18,
     "metadata": {},
     "output_type": "execute_result"
    }
   ],
   "source": [
    "df.describe()"
   ]
  },
  {
   "cell_type": "markdown",
   "id": "ff45b504",
   "metadata": {
    "papermill": {
     "duration": 0.028707,
     "end_time": "2022-01-29T22:09:33.728573",
     "exception": false,
     "start_time": "2022-01-29T22:09:33.699866",
     "status": "completed"
    },
    "tags": []
   },
   "source": [
    "* 1st quantile : 25% percentile is 975. that means 25% of the values less than 975.\n",
    "* 2nd quantile : 50% percentile is 1600. that means 50% of the values less than 1600.\n",
    "* 3rd quantile : 75% percentile is 3250. that means 75% of the values greater than 3250."
   ]
  },
  {
   "cell_type": "code",
   "execution_count": null,
   "id": "1ed71fc7",
   "metadata": {
    "papermill": {
     "duration": 0.028,
     "end_time": "2022-01-29T22:09:33.784972",
     "exception": false,
     "start_time": "2022-01-29T22:09:33.756972",
     "status": "completed"
    },
    "tags": []
   },
   "outputs": [],
   "source": []
  }
 ],
 "metadata": {
  "kernelspec": {
   "display_name": "Python 3",
   "language": "python",
   "name": "python3"
  },
  "language_info": {
   "codemirror_mode": {
    "name": "ipython",
    "version": 3
   },
   "file_extension": ".py",
   "mimetype": "text/x-python",
   "name": "python",
   "nbconvert_exporter": "python",
   "pygments_lexer": "ipython3",
   "version": "3.7.12"
  },
  "papermill": {
   "default_parameters": {},
   "duration": 13.14308,
   "end_time": "2022-01-29T22:09:34.422657",
   "environment_variables": {},
   "exception": null,
   "input_path": "__notebook__.ipynb",
   "output_path": "__notebook__.ipynb",
   "parameters": {},
   "start_time": "2022-01-29T22:09:21.279577",
   "version": "2.3.3"
  }
 },
 "nbformat": 4,
 "nbformat_minor": 5
}
