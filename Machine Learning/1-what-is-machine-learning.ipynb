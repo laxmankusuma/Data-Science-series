{
 "cells": [
  {
   "cell_type": "markdown",
   "id": "07a957d9",
   "metadata": {
    "papermill": {
     "duration": 0.004518,
     "end_time": "2022-02-12T13:33:33.931869",
     "exception": false,
     "start_time": "2022-02-12T13:33:33.927351",
     "status": "completed"
    },
    "tags": []
   },
   "source": [
    "# What is Machine learning (ML)."
   ]
  },
  {
   "cell_type": "markdown",
   "id": "1a11d812",
   "metadata": {
    "papermill": {
     "duration": 0.002793,
     "end_time": "2022-02-12T13:33:33.938583",
     "exception": false,
     "start_time": "2022-02-12T13:33:33.935790",
     "status": "completed"
    },
    "tags": []
   },
   "source": [
    "**Machine learning (ML)** is the study of computer algorithms that can improve automatically through experience and by the use of data\""
   ]
  },
  {
   "cell_type": "code",
   "execution_count": null,
   "id": "25d74d70",
   "metadata": {
    "papermill": {
     "duration": 0.002616,
     "end_time": "2022-02-12T13:33:33.944216",
     "exception": false,
     "start_time": "2022-02-12T13:33:33.941600",
     "status": "completed"
    },
    "tags": []
   },
   "outputs": [],
   "source": []
  }
 ],
 "metadata": {
  "kernelspec": {
   "display_name": "Python 3",
   "language": "python",
   "name": "python3"
  },
  "language_info": {
   "codemirror_mode": {
    "name": "ipython",
    "version": 3
   },
   "file_extension": ".py",
   "mimetype": "text/x-python",
   "name": "python",
   "nbconvert_exporter": "python",
   "pygments_lexer": "ipython3",
   "version": "3.7.12"
  },
  "papermill": {
   "default_parameters": {},
   "duration": 12.112773,
   "end_time": "2022-02-12T13:33:34.561021",
   "environment_variables": {},
   "exception": null,
   "input_path": "__notebook__.ipynb",
   "output_path": "__notebook__.ipynb",
   "parameters": {},
   "start_time": "2022-02-12T13:33:22.448248",
   "version": "2.3.3"
  }
 },
 "nbformat": 4,
 "nbformat_minor": 5
}
