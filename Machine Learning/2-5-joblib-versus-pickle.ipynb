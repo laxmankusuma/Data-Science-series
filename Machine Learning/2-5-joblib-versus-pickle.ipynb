{
 "cells": [
  {
   "cell_type": "markdown",
   "id": "16d77387",
   "metadata": {
    "papermill": {
     "duration": 0.014272,
     "end_time": "2022-02-06T18:17:22.756414",
     "exception": false,
     "start_time": "2022-02-06T18:17:22.742142",
     "status": "completed"
    },
    "tags": []
   },
   "source": [
    "# joblib versus pickle"
   ]
  },
  {
   "cell_type": "markdown",
   "id": "ab8428e1",
   "metadata": {
    "papermill": {
     "duration": 0.012965,
     "end_time": "2022-02-06T18:17:22.782336",
     "exception": false,
     "start_time": "2022-02-06T18:17:22.769371",
     "status": "completed"
    },
    "tags": []
   },
   "source": [
    "**joblib** is usually significantly faster on large numpy arrays over **pickle** and **cpickle**"
   ]
  },
  {
   "cell_type": "code",
   "execution_count": 1,
   "id": "df22eeb8",
   "metadata": {
    "execution": {
     "iopub.execute_input": "2022-02-06T18:17:22.812230Z",
     "iopub.status.busy": "2022-02-06T18:17:22.810945Z",
     "iopub.status.idle": "2022-02-06T18:17:24.191718Z",
     "shell.execute_reply": "2022-02-06T18:17:24.192230Z",
     "shell.execute_reply.started": "2022-02-06T18:16:58.824637Z"
    },
    "papermill": {
     "duration": 1.397677,
     "end_time": "2022-02-06T18:17:24.192510",
     "exception": false,
     "start_time": "2022-02-06T18:17:22.794833",
     "status": "completed"
    },
    "tags": []
   },
   "outputs": [
    {
     "data": {
      "text/plain": [
       "LinearRegression()"
      ]
     },
     "execution_count": 1,
     "metadata": {},
     "output_type": "execute_result"
    }
   ],
   "source": [
    "import pandas as pd\n",
    "from sklearn import linear_model\n",
    "\n",
    "df = pd.read_csv(\"https://raw.githubusercontent.com/laxmankusuma/Data-Science-series/main/Machine%20Learning/Salary_Data.csv\",sep=',')\n",
    "model = linear_model.LinearRegression()\n",
    "model.fit(df[['YearsExperience']],df['Salary'])"
   ]
  },
  {
   "cell_type": "markdown",
   "id": "6d73b3d6",
   "metadata": {
    "papermill": {
     "duration": 0.012478,
     "end_time": "2022-02-06T18:17:24.218169",
     "exception": false,
     "start_time": "2022-02-06T18:17:24.205691",
     "status": "completed"
    },
    "tags": []
   },
   "source": [
    "# pickle"
   ]
  },
  {
   "cell_type": "code",
   "execution_count": 2,
   "id": "20bb1700",
   "metadata": {
    "execution": {
     "iopub.execute_input": "2022-02-06T18:17:24.249251Z",
     "iopub.status.busy": "2022-02-06T18:17:24.248569Z",
     "iopub.status.idle": "2022-02-06T18:17:24.251055Z",
     "shell.execute_reply": "2022-02-06T18:17:24.251589Z",
     "shell.execute_reply.started": "2022-02-06T18:16:58.942083Z"
    },
    "papermill": {
     "duration": 0.020888,
     "end_time": "2022-02-06T18:17:24.251759",
     "exception": false,
     "start_time": "2022-02-06T18:17:24.230871",
     "status": "completed"
    },
    "tags": []
   },
   "outputs": [],
   "source": [
    "import pickle"
   ]
  },
  {
   "cell_type": "code",
   "execution_count": 3,
   "id": "0c42ad5c",
   "metadata": {
    "execution": {
     "iopub.execute_input": "2022-02-06T18:17:24.282303Z",
     "iopub.status.busy": "2022-02-06T18:17:24.281049Z",
     "iopub.status.idle": "2022-02-06T18:17:24.284691Z",
     "shell.execute_reply": "2022-02-06T18:17:24.285176Z",
     "shell.execute_reply.started": "2022-02-06T18:16:58.947739Z"
    },
    "papermill": {
     "duration": 0.020578,
     "end_time": "2022-02-06T18:17:24.285365",
     "exception": false,
     "start_time": "2022-02-06T18:17:24.264787",
     "status": "completed"
    },
    "tags": []
   },
   "outputs": [],
   "source": [
    "with open('model_pickle','wb') as f:\n",
    "    pickle.dump(model,f)"
   ]
  },
  {
   "cell_type": "code",
   "execution_count": 4,
   "id": "a2cc42cc",
   "metadata": {
    "execution": {
     "iopub.execute_input": "2022-02-06T18:17:24.314671Z",
     "iopub.status.busy": "2022-02-06T18:17:24.313934Z",
     "iopub.status.idle": "2022-02-06T18:17:24.318123Z",
     "shell.execute_reply": "2022-02-06T18:17:24.318667Z",
     "shell.execute_reply.started": "2022-02-06T18:16:58.960561Z"
    },
    "papermill": {
     "duration": 0.020454,
     "end_time": "2022-02-06T18:17:24.318833",
     "exception": false,
     "start_time": "2022-02-06T18:17:24.298379",
     "status": "completed"
    },
    "tags": []
   },
   "outputs": [],
   "source": [
    "with open('model_pickle','rb') as f:\n",
    "    mp = pickle.load(f)"
   ]
  },
  {
   "cell_type": "code",
   "execution_count": 5,
   "id": "39ecbdf4",
   "metadata": {
    "execution": {
     "iopub.execute_input": "2022-02-06T18:17:24.348343Z",
     "iopub.status.busy": "2022-02-06T18:17:24.347662Z",
     "iopub.status.idle": "2022-02-06T18:17:24.353180Z",
     "shell.execute_reply": "2022-02-06T18:17:24.353692Z",
     "shell.execute_reply.started": "2022-02-06T18:16:58.972001Z"
    },
    "papermill": {
     "duration": 0.021872,
     "end_time": "2022-02-06T18:17:24.353879",
     "exception": false,
     "start_time": "2022-02-06T18:17:24.332007",
     "status": "completed"
    },
    "tags": []
   },
   "outputs": [
    {
     "data": {
      "text/plain": [
       "array([9475754.52165375])"
      ]
     },
     "execution_count": 5,
     "metadata": {},
     "output_type": "execute_result"
    }
   ],
   "source": [
    "model.predict([[1000]])"
   ]
  },
  {
   "cell_type": "code",
   "execution_count": 6,
   "id": "603023a6",
   "metadata": {
    "execution": {
     "iopub.execute_input": "2022-02-06T18:17:24.386392Z",
     "iopub.status.busy": "2022-02-06T18:17:24.385695Z",
     "iopub.status.idle": "2022-02-06T18:17:24.389800Z",
     "shell.execute_reply": "2022-02-06T18:17:24.390281Z",
     "shell.execute_reply.started": "2022-02-06T18:16:58.984235Z"
    },
    "papermill": {
     "duration": 0.023346,
     "end_time": "2022-02-06T18:17:24.390460",
     "exception": false,
     "start_time": "2022-02-06T18:17:24.367114",
     "status": "completed"
    },
    "tags": []
   },
   "outputs": [
    {
     "data": {
      "text/plain": [
       "array([9475754.52165375])"
      ]
     },
     "execution_count": 6,
     "metadata": {},
     "output_type": "execute_result"
    }
   ],
   "source": [
    "mp.predict([[1000]])"
   ]
  },
  {
   "cell_type": "markdown",
   "id": "94e6a1dc",
   "metadata": {
    "papermill": {
     "duration": 0.013513,
     "end_time": "2022-02-06T18:17:24.417916",
     "exception": false,
     "start_time": "2022-02-06T18:17:24.404403",
     "status": "completed"
    },
    "tags": []
   },
   "source": [
    "# joblib"
   ]
  },
  {
   "cell_type": "code",
   "execution_count": 7,
   "id": "811797cc",
   "metadata": {
    "execution": {
     "iopub.execute_input": "2022-02-06T18:17:24.451010Z",
     "iopub.status.busy": "2022-02-06T18:17:24.450312Z",
     "iopub.status.idle": "2022-02-06T18:17:24.452142Z",
     "shell.execute_reply": "2022-02-06T18:17:24.452665Z",
     "shell.execute_reply.started": "2022-02-06T18:16:58.995120Z"
    },
    "papermill": {
     "duration": 0.021152,
     "end_time": "2022-02-06T18:17:24.452835",
     "exception": false,
     "start_time": "2022-02-06T18:17:24.431683",
     "status": "completed"
    },
    "tags": []
   },
   "outputs": [],
   "source": [
    "import joblib"
   ]
  },
  {
   "cell_type": "code",
   "execution_count": 8,
   "id": "61313ad1",
   "metadata": {
    "execution": {
     "iopub.execute_input": "2022-02-06T18:17:24.485136Z",
     "iopub.status.busy": "2022-02-06T18:17:24.484432Z",
     "iopub.status.idle": "2022-02-06T18:17:24.489188Z",
     "shell.execute_reply": "2022-02-06T18:17:24.489820Z",
     "shell.execute_reply.started": "2022-02-06T18:16:59.008947Z"
    },
    "papermill": {
     "duration": 0.023547,
     "end_time": "2022-02-06T18:17:24.489989",
     "exception": false,
     "start_time": "2022-02-06T18:17:24.466442",
     "status": "completed"
    },
    "tags": []
   },
   "outputs": [
    {
     "data": {
      "text/plain": [
       "['model_joblib']"
      ]
     },
     "execution_count": 8,
     "metadata": {},
     "output_type": "execute_result"
    }
   ],
   "source": [
    "joblib.dump(model, 'model_joblib')"
   ]
  },
  {
   "cell_type": "code",
   "execution_count": 9,
   "id": "06729d25",
   "metadata": {
    "execution": {
     "iopub.execute_input": "2022-02-06T18:17:24.521302Z",
     "iopub.status.busy": "2022-02-06T18:17:24.520445Z",
     "iopub.status.idle": "2022-02-06T18:17:24.524601Z",
     "shell.execute_reply": "2022-02-06T18:17:24.525150Z",
     "shell.execute_reply.started": "2022-02-06T18:16:59.025241Z"
    },
    "papermill": {
     "duration": 0.021334,
     "end_time": "2022-02-06T18:17:24.525335",
     "exception": false,
     "start_time": "2022-02-06T18:17:24.504001",
     "status": "completed"
    },
    "tags": []
   },
   "outputs": [],
   "source": [
    "mj = joblib.load('model_joblib')"
   ]
  },
  {
   "cell_type": "code",
   "execution_count": 10,
   "id": "e5edbdb2",
   "metadata": {
    "execution": {
     "iopub.execute_input": "2022-02-06T18:17:24.558730Z",
     "iopub.status.busy": "2022-02-06T18:17:24.558064Z",
     "iopub.status.idle": "2022-02-06T18:17:24.563164Z",
     "shell.execute_reply": "2022-02-06T18:17:24.563683Z",
     "shell.execute_reply.started": "2022-02-06T18:16:59.036894Z"
    },
    "papermill": {
     "duration": 0.024154,
     "end_time": "2022-02-06T18:17:24.563849",
     "exception": false,
     "start_time": "2022-02-06T18:17:24.539695",
     "status": "completed"
    },
    "tags": []
   },
   "outputs": [
    {
     "data": {
      "text/plain": [
       "array([9475754.52165375])"
      ]
     },
     "execution_count": 10,
     "metadata": {},
     "output_type": "execute_result"
    }
   ],
   "source": [
    "model.predict([[1000]])"
   ]
  },
  {
   "cell_type": "code",
   "execution_count": 11,
   "id": "5441bf37",
   "metadata": {
    "execution": {
     "iopub.execute_input": "2022-02-06T18:17:24.596110Z",
     "iopub.status.busy": "2022-02-06T18:17:24.595428Z",
     "iopub.status.idle": "2022-02-06T18:17:24.600697Z",
     "shell.execute_reply": "2022-02-06T18:17:24.601263Z",
     "shell.execute_reply.started": "2022-02-06T18:16:59.051764Z"
    },
    "papermill": {
     "duration": 0.022956,
     "end_time": "2022-02-06T18:17:24.601441",
     "exception": false,
     "start_time": "2022-02-06T18:17:24.578485",
     "status": "completed"
    },
    "tags": []
   },
   "outputs": [
    {
     "data": {
      "text/plain": [
       "array([9475754.52165375])"
      ]
     },
     "execution_count": 11,
     "metadata": {},
     "output_type": "execute_result"
    }
   ],
   "source": [
    "mj.predict([[1000]])"
   ]
  },
  {
   "cell_type": "code",
   "execution_count": null,
   "id": "edf66ad4",
   "metadata": {
    "papermill": {
     "duration": 0.015249,
     "end_time": "2022-02-06T18:17:24.631547",
     "exception": false,
     "start_time": "2022-02-06T18:17:24.616298",
     "status": "completed"
    },
    "tags": []
   },
   "outputs": [],
   "source": []
  }
 ],
 "metadata": {
  "kernelspec": {
   "display_name": "Python 3",
   "language": "python",
   "name": "python3"
  },
  "language_info": {
   "codemirror_mode": {
    "name": "ipython",
    "version": 3
   },
   "file_extension": ".py",
   "mimetype": "text/x-python",
   "name": "python",
   "nbconvert_exporter": "python",
   "pygments_lexer": "ipython3",
   "version": "3.7.12"
  },
  "papermill": {
   "default_parameters": {},
   "duration": 12.961435,
   "end_time": "2022-02-06T18:17:25.355891",
   "environment_variables": {},
   "exception": null,
   "input_path": "__notebook__.ipynb",
   "output_path": "__notebook__.ipynb",
   "parameters": {},
   "start_time": "2022-02-06T18:17:12.394456",
   "version": "2.3.3"
  }
 },
 "nbformat": 4,
 "nbformat_minor": 5
}
