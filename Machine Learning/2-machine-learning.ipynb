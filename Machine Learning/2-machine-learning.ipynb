{
 "cells": [
  {
   "cell_type": "markdown",
   "id": "1118ec7a",
   "metadata": {
    "papermill": {
     "duration": 0.013818,
     "end_time": "2022-02-05T17:25:22.998098",
     "exception": false,
     "start_time": "2022-02-05T17:25:22.984280",
     "status": "completed"
    },
    "tags": []
   },
   "source": [
    "# Linear Regression Single Variable"
   ]
  },
  {
   "cell_type": "markdown",
   "id": "06b72bad",
   "metadata": {
    "papermill": {
     "duration": 0.012469,
     "end_time": "2022-02-05T17:25:23.024177",
     "exception": false,
     "start_time": "2022-02-05T17:25:23.011708",
     "status": "completed"
    },
    "tags": []
   },
   "source": [
    "**Regression** a measure of the relation between the mean value of one variable (e.g. output) and corresponding values of other variables (e.g. time and cost)"
   ]
  },
  {
   "cell_type": "markdown",
   "id": "d0ebe30c",
   "metadata": {
    "papermill": {
     "duration": 0.012331,
     "end_time": "2022-02-05T17:25:23.049052",
     "exception": false,
     "start_time": "2022-02-05T17:25:23.036721",
     "status": "completed"
    },
    "tags": []
   },
   "source": [
    "**Linear** arranged in or extending along a straight or nearly **straight line**."
   ]
  },
  {
   "cell_type": "code",
   "execution_count": 1,
   "id": "719bc709",
   "metadata": {
    "execution": {
     "iopub.execute_input": "2022-02-05T17:25:23.080624Z",
     "iopub.status.busy": "2022-02-05T17:25:23.078878Z",
     "iopub.status.idle": "2022-02-05T17:25:24.216935Z",
     "shell.execute_reply": "2022-02-05T17:25:24.216107Z",
     "shell.execute_reply.started": "2022-02-05T17:09:33.294776Z"
    },
    "papermill": {
     "duration": 1.155237,
     "end_time": "2022-02-05T17:25:24.217124",
     "exception": false,
     "start_time": "2022-02-05T17:25:23.061887",
     "status": "completed"
    },
    "tags": []
   },
   "outputs": [],
   "source": [
    "import pandas as pd\n",
    "import numpy as np\n",
    "import matplotlib.pyplot as plt\n",
    "from sklearn import linear_model\n"
   ]
  },
  {
   "cell_type": "code",
   "execution_count": 2,
   "id": "b46d4504",
   "metadata": {
    "execution": {
     "iopub.execute_input": "2022-02-05T17:25:24.255825Z",
     "iopub.status.busy": "2022-02-05T17:25:24.248476Z",
     "iopub.status.idle": "2022-02-05T17:25:24.819541Z",
     "shell.execute_reply": "2022-02-05T17:25:24.818927Z",
     "shell.execute_reply.started": "2022-02-05T17:09:33.349821Z"
    },
    "papermill": {
     "duration": 0.589899,
     "end_time": "2022-02-05T17:25:24.819675",
     "exception": false,
     "start_time": "2022-02-05T17:25:24.229776",
     "status": "completed"
    },
    "tags": []
   },
   "outputs": [
    {
     "data": {
      "text/html": [
       "<div>\n",
       "<style scoped>\n",
       "    .dataframe tbody tr th:only-of-type {\n",
       "        vertical-align: middle;\n",
       "    }\n",
       "\n",
       "    .dataframe tbody tr th {\n",
       "        vertical-align: top;\n",
       "    }\n",
       "\n",
       "    .dataframe thead th {\n",
       "        text-align: right;\n",
       "    }\n",
       "</style>\n",
       "<table border=\"1\" class=\"dataframe\">\n",
       "  <thead>\n",
       "    <tr style=\"text-align: right;\">\n",
       "      <th></th>\n",
       "      <th>YearsExperience</th>\n",
       "      <th>Salary</th>\n",
       "    </tr>\n",
       "  </thead>\n",
       "  <tbody>\n",
       "    <tr>\n",
       "      <th>0</th>\n",
       "      <td>1.1</td>\n",
       "      <td>39343.0</td>\n",
       "    </tr>\n",
       "    <tr>\n",
       "      <th>1</th>\n",
       "      <td>1.3</td>\n",
       "      <td>46205.0</td>\n",
       "    </tr>\n",
       "    <tr>\n",
       "      <th>2</th>\n",
       "      <td>1.5</td>\n",
       "      <td>37731.0</td>\n",
       "    </tr>\n",
       "    <tr>\n",
       "      <th>3</th>\n",
       "      <td>2.0</td>\n",
       "      <td>43525.0</td>\n",
       "    </tr>\n",
       "    <tr>\n",
       "      <th>4</th>\n",
       "      <td>2.2</td>\n",
       "      <td>39891.0</td>\n",
       "    </tr>\n",
       "  </tbody>\n",
       "</table>\n",
       "</div>"
      ],
      "text/plain": [
       "   YearsExperience   Salary\n",
       "0              1.1  39343.0\n",
       "1              1.3  46205.0\n",
       "2              1.5  37731.0\n",
       "3              2.0  43525.0\n",
       "4              2.2  39891.0"
      ]
     },
     "execution_count": 2,
     "metadata": {},
     "output_type": "execute_result"
    }
   ],
   "source": [
    "\n",
    "df = pd.read_csv(\"https://raw.githubusercontent.com/laxmankusuma/Data-Science-series/main/Machine%20Learning/Salary_Data.csv\",sep=',')\n",
    "df.head()\n",
    "    "
   ]
  },
  {
   "cell_type": "code",
   "execution_count": 3,
   "id": "effdf790",
   "metadata": {
    "execution": {
     "iopub.execute_input": "2022-02-05T17:25:24.855252Z",
     "iopub.status.busy": "2022-02-05T17:25:24.854583Z",
     "iopub.status.idle": "2022-02-05T17:25:25.076430Z",
     "shell.execute_reply": "2022-02-05T17:25:25.075716Z",
     "shell.execute_reply.started": "2022-02-05T17:09:33.600420Z"
    },
    "papermill": {
     "duration": 0.243293,
     "end_time": "2022-02-05T17:25:25.076573",
     "exception": false,
     "start_time": "2022-02-05T17:25:24.833280",
     "status": "completed"
    },
    "tags": []
   },
   "outputs": [
    {
     "data": {
      "text/plain": [
       "<matplotlib.collections.PathCollection at 0x7f991c8341d0>"
      ]
     },
     "execution_count": 3,
     "metadata": {},
     "output_type": "execute_result"
    },
    {
     "data": {
      "image/png": "[encoded data removed]",
      "text/plain": [
       "<Figure size 432x288 with 1 Axes>"
      ]
     },
     "metadata": {
      "needs_background": "light"
     },
     "output_type": "display_data"
    }
   ],
   "source": [
    "%matplotlib inline\n",
    "import matplotlib.pyplot as plt\n",
    "plt.xlabel(\"YearsExperience\")\n",
    "plt.ylabel(\"Salary\")\n",
    "plt.scatter(df['YearsExperience'],df['Salary'], color='red', marker='+')"
   ]
  },
  {
   "cell_type": "code",
   "execution_count": 4,
   "id": "7dff5d9d",
   "metadata": {
    "execution": {
     "iopub.execute_input": "2022-02-05T17:25:25.126999Z",
     "iopub.status.busy": "2022-02-05T17:25:25.106977Z",
     "iopub.status.idle": "2022-02-05T17:25:25.301904Z",
     "shell.execute_reply": "2022-02-05T17:25:25.301358Z",
     "shell.execute_reply.started": "2022-02-05T17:09:33.793669Z"
    },
    "papermill": {
     "duration": 0.211216,
     "end_time": "2022-02-05T17:25:25.302066",
     "exception": false,
     "start_time": "2022-02-05T17:25:25.090850",
     "status": "completed"
    },
    "tags": []
   },
   "outputs": [
    {
     "data": {
      "text/plain": [
       "[<matplotlib.lines.Line2D at 0x7f991d6e8690>]"
      ]
     },
     "execution_count": 4,
     "metadata": {},
     "output_type": "execute_result"
    },
    {
     "data": {
      "image/png": "[encoded data removed]",
      "text/plain": [
       "<Figure size 432x288 with 1 Axes>"
      ]
     },
     "metadata": {
      "needs_background": "light"
     },
     "output_type": "display_data"
    }
   ],
   "source": [
    "%matplotlib inline\n",
    "plt.xlabel(\"YearsExperience\")\n",
    "plt.ylabel(\"Salary\")\n",
    "plt.scatter(df['YearsExperience'],df['Salary'], color='red', marker='+')\n",
    "plt.plot(df['YearsExperience'],df['Salary'],color='blue')"
   ]
  },
  {
   "cell_type": "code",
   "execution_count": 5,
   "id": "a48d941e",
   "metadata": {
    "execution": {
     "iopub.execute_input": "2022-02-05T17:25:25.336282Z",
     "iopub.status.busy": "2022-02-05T17:25:25.335646Z",
     "iopub.status.idle": "2022-02-05T17:25:25.363670Z",
     "shell.execute_reply": "2022-02-05T17:25:25.363121Z",
     "shell.execute_reply.started": "2022-02-05T17:09:33.945501Z"
    },
    "papermill": {
     "duration": 0.046237,
     "end_time": "2022-02-05T17:25:25.363834",
     "exception": false,
     "start_time": "2022-02-05T17:25:25.317597",
     "status": "completed"
    },
    "tags": []
   },
   "outputs": [
    {
     "data": {
      "text/plain": [
       "LinearRegression()"
      ]
     },
     "execution_count": 5,
     "metadata": {},
     "output_type": "execute_result"
    }
   ],
   "source": [
    "reg = linear_model.LinearRegression()\n",
    "reg.fit(df[['YearsExperience']],df['Salary'])"
   ]
  },
  {
   "cell_type": "code",
   "execution_count": 6,
   "id": "d6b48733",
   "metadata": {
    "execution": {
     "iopub.execute_input": "2022-02-05T17:25:25.401995Z",
     "iopub.status.busy": "2022-02-05T17:25:25.401337Z",
     "iopub.status.idle": "2022-02-05T17:25:25.404488Z",
     "shell.execute_reply": "2022-02-05T17:25:25.404949Z",
     "shell.execute_reply.started": "2022-02-05T17:09:33.957166Z"
    },
    "papermill": {
     "duration": 0.024972,
     "end_time": "2022-02-05T17:25:25.405131",
     "exception": false,
     "start_time": "2022-02-05T17:25:25.380159",
     "status": "completed"
    },
    "tags": []
   },
   "outputs": [
    {
     "data": {
      "text/plain": [
       "array([139191.74805613])"
      ]
     },
     "execution_count": 6,
     "metadata": {},
     "output_type": "execute_result"
    }
   ],
   "source": [
    "reg.predict([[12.0]])"
   ]
  },
  {
   "cell_type": "code",
   "execution_count": 7,
   "id": "8f49eced",
   "metadata": {
    "execution": {
     "iopub.execute_input": "2022-02-05T17:25:25.442983Z",
     "iopub.status.busy": "2022-02-05T17:25:25.442325Z",
     "iopub.status.idle": "2022-02-05T17:25:25.444626Z",
     "shell.execute_reply": "2022-02-05T17:25:25.445201Z",
     "shell.execute_reply.started": "2022-02-05T17:09:33.969642Z"
    },
    "papermill": {
     "duration": 0.024287,
     "end_time": "2022-02-05T17:25:25.445358",
     "exception": false,
     "start_time": "2022-02-05T17:25:25.421071",
     "status": "completed"
    },
    "tags": []
   },
   "outputs": [
    {
     "data": {
      "text/plain": [
       "array([9449.96232146])"
      ]
     },
     "execution_count": 7,
     "metadata": {},
     "output_type": "execute_result"
    }
   ],
   "source": [
    "reg.coef_ "
   ]
  },
  {
   "cell_type": "code",
   "execution_count": 8,
   "id": "5b566328",
   "metadata": {
    "execution": {
     "iopub.execute_input": "2022-02-05T17:25:25.481429Z",
     "iopub.status.busy": "2022-02-05T17:25:25.480802Z",
     "iopub.status.idle": "2022-02-05T17:25:25.485343Z",
     "shell.execute_reply": "2022-02-05T17:25:25.485935Z",
     "shell.execute_reply.started": "2022-02-05T17:09:33.982084Z"
    },
    "papermill": {
     "duration": 0.024374,
     "end_time": "2022-02-05T17:25:25.486115",
     "exception": false,
     "start_time": "2022-02-05T17:25:25.461741",
     "status": "completed"
    },
    "tags": []
   },
   "outputs": [
    {
     "data": {
      "text/plain": [
       "25792.200198668696"
      ]
     },
     "execution_count": 8,
     "metadata": {},
     "output_type": "execute_result"
    }
   ],
   "source": [
    "reg.intercept_  "
   ]
  },
  {
   "cell_type": "markdown",
   "id": "f1813514",
   "metadata": {
    "papermill": {
     "duration": 0.016312,
     "end_time": "2022-02-05T17:25:25.518646",
     "exception": false,
     "start_time": "2022-02-05T17:25:25.502334",
     "status": "completed"
    },
    "tags": []
   },
   "source": [
    "= m * value + b\n",
    "\n",
    "m is called the slope of the line and b is the y-intercept of a line.\n",
    "\n",
    "= coef * value + intercept\n",
    "\n",
    "**intercept** is to stop, seize, or interrupt in progress or course or before arrival\n",
    "\n",
    "**coef** is a numerical or constant quantity placed before and multiplying the variable in an algebraic expression"
   ]
  },
  {
   "cell_type": "code",
   "execution_count": 9,
   "id": "1d589edf",
   "metadata": {
    "execution": {
     "iopub.execute_input": "2022-02-05T17:25:25.555087Z",
     "iopub.status.busy": "2022-02-05T17:25:25.554434Z",
     "iopub.status.idle": "2022-02-05T17:25:25.559690Z",
     "shell.execute_reply": "2022-02-05T17:25:25.560254Z",
     "shell.execute_reply.started": "2022-02-05T17:09:33.993774Z"
    },
    "papermill": {
     "duration": 0.02499,
     "end_time": "2022-02-05T17:25:25.560404",
     "exception": false,
     "start_time": "2022-02-05T17:25:25.535414",
     "status": "completed"
    },
    "tags": []
   },
   "outputs": [
    {
     "data": {
      "text/plain": [
       "139191.7480561887"
      ]
     },
     "execution_count": 9,
     "metadata": {},
     "output_type": "execute_result"
    }
   ],
   "source": [
    "12 * 9449.96232146 + 25792.200198668696"
   ]
  },
  {
   "cell_type": "code",
   "execution_count": 10,
   "id": "b84ed8b3",
   "metadata": {
    "execution": {
     "iopub.execute_input": "2022-02-05T17:25:25.604311Z",
     "iopub.status.busy": "2022-02-05T17:25:25.596863Z",
     "iopub.status.idle": "2022-02-05T17:25:25.606798Z",
     "shell.execute_reply": "2022-02-05T17:25:25.607386Z",
     "shell.execute_reply.started": "2022-02-05T17:09:34.006076Z"
    },
    "papermill": {
     "duration": 0.030114,
     "end_time": "2022-02-05T17:25:25.607558",
     "exception": false,
     "start_time": "2022-02-05T17:25:25.577444",
     "status": "completed"
    },
    "tags": []
   },
   "outputs": [
    {
     "data": {
      "text/html": [
       "<div>\n",
       "<style scoped>\n",
       "    .dataframe tbody tr th:only-of-type {\n",
       "        vertical-align: middle;\n",
       "    }\n",
       "\n",
       "    .dataframe tbody tr th {\n",
       "        vertical-align: top;\n",
       "    }\n",
       "\n",
       "    .dataframe thead th {\n",
       "        text-align: right;\n",
       "    }\n",
       "</style>\n",
       "<table border=\"1\" class=\"dataframe\">\n",
       "  <thead>\n",
       "    <tr style=\"text-align: right;\">\n",
       "      <th></th>\n",
       "      <th>YearsExperience</th>\n",
       "    </tr>\n",
       "  </thead>\n",
       "  <tbody>\n",
       "    <tr>\n",
       "      <th>0</th>\n",
       "      <td>0</td>\n",
       "    </tr>\n",
       "    <tr>\n",
       "      <th>1</th>\n",
       "      <td>2</td>\n",
       "    </tr>\n",
       "    <tr>\n",
       "      <th>2</th>\n",
       "      <td>3</td>\n",
       "    </tr>\n",
       "    <tr>\n",
       "      <th>3</th>\n",
       "      <td>4</td>\n",
       "    </tr>\n",
       "    <tr>\n",
       "      <th>4</th>\n",
       "      <td>5</td>\n",
       "    </tr>\n",
       "    <tr>\n",
       "      <th>5</th>\n",
       "      <td>6</td>\n",
       "    </tr>\n",
       "    <tr>\n",
       "      <th>6</th>\n",
       "      <td>8</td>\n",
       "    </tr>\n",
       "    <tr>\n",
       "      <th>7</th>\n",
       "      <td>12</td>\n",
       "    </tr>\n",
       "  </tbody>\n",
       "</table>\n",
       "</div>"
      ],
      "text/plain": [
       "   YearsExperience\n",
       "0                0\n",
       "1                2\n",
       "2                3\n",
       "3                4\n",
       "4                5\n",
       "5                6\n",
       "6                8\n",
       "7               12"
      ]
     },
     "execution_count": 10,
     "metadata": {},
     "output_type": "execute_result"
    }
   ],
   "source": [
    "# Import pandas library\n",
    "import pandas as pd\n",
    " \n",
    "# initialize list of lists\n",
    "data = [[0], [2], [3], [4], [5], [6], [8], [12]]\n",
    " \n",
    "# Create the pandas DataFrame\n",
    "gf = pd.DataFrame(data, columns = ['YearsExperience'])\n",
    " \n",
    "# print dataframe.\n",
    "gf"
   ]
  },
  {
   "cell_type": "code",
   "execution_count": 11,
   "id": "aafe514d",
   "metadata": {
    "execution": {
     "iopub.execute_input": "2022-02-05T17:25:25.644948Z",
     "iopub.status.busy": "2022-02-05T17:25:25.644345Z",
     "iopub.status.idle": "2022-02-05T17:25:25.864924Z",
     "shell.execute_reply": "2022-02-05T17:25:25.865495Z",
     "shell.execute_reply.started": "2022-02-05T17:09:34.027270Z"
    },
    "papermill": {
     "duration": 0.240736,
     "end_time": "2022-02-05T17:25:25.865667",
     "exception": false,
     "start_time": "2022-02-05T17:25:25.624931",
     "status": "completed"
    },
    "tags": []
   },
   "outputs": [
    {
     "data": {
      "text/plain": [
       "[<matplotlib.lines.Line2D at 0x7f991a601fd0>]"
      ]
     },
     "execution_count": 11,
     "metadata": {},
     "output_type": "execute_result"
    },
    {
     "data": {
      "image/png": "[encoded data removed]",
      "text/plain": [
       "<Figure size 432x288 with 1 Axes>"
      ]
     },
     "metadata": {
      "needs_background": "light"
     },
     "output_type": "display_data"
    }
   ],
   "source": [
    "%matplotlib inline\n",
    "plt.xlabel(\"YearsExperience\")\n",
    "plt.ylabel(\"Salary\")\n",
    "plt.scatter(df['YearsExperience'],df['Salary'], color='red', marker='+')\n",
    "plt.plot(gf['YearsExperience'],reg.predict(gf[['YearsExperience']]),color='blue')"
   ]
  },
  {
   "cell_type": "markdown",
   "id": "434e2369",
   "metadata": {
    "papermill": {
     "duration": 0.018337,
     "end_time": "2022-02-05T17:25:25.903076",
     "exception": false,
     "start_time": "2022-02-05T17:25:25.884739",
     "status": "completed"
    },
    "tags": []
   },
   "source": [
    "sklearn Linear regression gave above straight line , but \n",
    "why only this straight line, we can draw may straight lines with slight change in the slope??\n",
    "\n",
    "sklearn gave above straight line because of this line is less error rate.\n",
    "\n",
    "error is sum of distances from dot to line perpendicularly."
   ]
  },
  {
   "cell_type": "code",
   "execution_count": null,
   "id": "eba522e3",
   "metadata": {
    "papermill": {
     "duration": 0.022253,
     "end_time": "2022-02-05T17:25:25.943896",
     "exception": false,
     "start_time": "2022-02-05T17:25:25.921643",
     "status": "completed"
    },
    "tags": []
   },
   "outputs": [],
   "source": []
  }
 ],
 "metadata": {
  "kernelspec": {
   "display_name": "Python 3",
   "language": "python",
   "name": "python3"
  },
  "language_info": {
   "codemirror_mode": {
    "name": "ipython",
    "version": 3
   },
   "file_extension": ".py",
   "mimetype": "text/x-python",
   "name": "python",
   "nbconvert_exporter": "python",
   "pygments_lexer": "ipython3",
   "version": "3.7.12"
  },
  "papermill": {
   "default_parameters": {},
   "duration": 13.472828,
   "end_time": "2022-02-05T17:25:26.677983",
   "environment_variables": {},
   "exception": null,
   "input_path": "__notebook__.ipynb",
   "output_path": "__notebook__.ipynb",
   "parameters": {},
   "start_time": "2022-02-05T17:25:13.205155",
   "version": "2.3.3"
  }
 },
 "nbformat": 4,
 "nbformat_minor": 5
}
