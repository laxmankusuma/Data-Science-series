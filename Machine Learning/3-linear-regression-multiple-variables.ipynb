{
 "cells": [
  {
   "cell_type": "markdown",
   "id": "e797538d",
   "metadata": {
    "papermill": {
     "duration": 0.011244,
     "end_time": "2022-02-12T13:33:47.752446",
     "exception": false,
     "start_time": "2022-02-12T13:33:47.741202",
     "status": "completed"
    },
    "tags": []
   },
   "source": [
    "# Linear Regression Multiple Variables"
   ]
  },
  {
   "cell_type": "code",
   "execution_count": 1,
   "id": "cb58b22e",
   "metadata": {
    "execution": {
     "iopub.execute_input": "2022-02-12T13:33:47.782855Z",
     "iopub.status.busy": "2022-02-12T13:33:47.781008Z",
     "iopub.status.idle": "2022-02-12T13:33:49.113418Z",
     "shell.execute_reply": "2022-02-12T13:33:49.114046Z",
     "shell.execute_reply.started": "2022-02-05T19:10:03.203106Z"
    },
    "papermill": {
     "duration": 1.349352,
     "end_time": "2022-02-12T13:33:49.114464",
     "exception": false,
     "start_time": "2022-02-12T13:33:47.765112",
     "status": "completed"
    },
    "tags": []
   },
   "outputs": [],
   "source": [
    "import pandas as pd\n",
    "import numpy as np\n",
    "import matplotlib.pyplot as plt\n",
    "from sklearn import linear_model"
   ]
  },
  {
   "cell_type": "code",
   "execution_count": 2,
   "id": "fb97e497",
   "metadata": {
    "execution": {
     "iopub.execute_input": "2022-02-12T13:33:49.141289Z",
     "iopub.status.busy": "2022-02-12T13:33:49.140124Z",
     "iopub.status.idle": "2022-02-12T13:33:49.167590Z",
     "shell.execute_reply": "2022-02-12T13:33:49.168158Z",
     "shell.execute_reply.started": "2022-02-05T19:10:04.349005Z"
    },
    "papermill": {
     "duration": 0.042941,
     "end_time": "2022-02-12T13:33:49.168385",
     "exception": false,
     "start_time": "2022-02-12T13:33:49.125444",
     "status": "completed"
    },
    "tags": []
   },
   "outputs": [
    {
     "data": {
      "text/html": [
       "<div>\n",
       "<style scoped>\n",
       "    .dataframe tbody tr th:only-of-type {\n",
       "        vertical-align: middle;\n",
       "    }\n",
       "\n",
       "    .dataframe tbody tr th {\n",
       "        vertical-align: top;\n",
       "    }\n",
       "\n",
       "    .dataframe thead th {\n",
       "        text-align: right;\n",
       "    }\n",
       "</style>\n",
       "<table border=\"1\" class=\"dataframe\">\n",
       "  <thead>\n",
       "    <tr style=\"text-align: right;\">\n",
       "      <th></th>\n",
       "      <th>area</th>\n",
       "      <th>bedrooms</th>\n",
       "      <th>age</th>\n",
       "      <th>price</th>\n",
       "    </tr>\n",
       "  </thead>\n",
       "  <tbody>\n",
       "    <tr>\n",
       "      <th>0</th>\n",
       "      <td>2600</td>\n",
       "      <td>2</td>\n",
       "      <td>20</td>\n",
       "      <td>550000</td>\n",
       "    </tr>\n",
       "    <tr>\n",
       "      <th>1</th>\n",
       "      <td>2800</td>\n",
       "      <td>2</td>\n",
       "      <td>20</td>\n",
       "      <td>560000</td>\n",
       "    </tr>\n",
       "    <tr>\n",
       "      <th>2</th>\n",
       "      <td>3000</td>\n",
       "      <td>3</td>\n",
       "      <td>19</td>\n",
       "      <td>570000</td>\n",
       "    </tr>\n",
       "    <tr>\n",
       "      <th>3</th>\n",
       "      <td>3600</td>\n",
       "      <td>3</td>\n",
       "      <td>18</td>\n",
       "      <td>650000</td>\n",
       "    </tr>\n",
       "    <tr>\n",
       "      <th>4</th>\n",
       "      <td>4000</td>\n",
       "      <td>4</td>\n",
       "      <td>17</td>\n",
       "      <td>750000</td>\n",
       "    </tr>\n",
       "  </tbody>\n",
       "</table>\n",
       "</div>"
      ],
      "text/plain": [
       "   area  bedrooms  age   price\n",
       "0  2600         2   20  550000\n",
       "1  2800         2   20  560000\n",
       "2  3000         3   19  570000\n",
       "3  3600         3   18  650000\n",
       "4  4000         4   17  750000"
      ]
     },
     "execution_count": 2,
     "metadata": {},
     "output_type": "execute_result"
    }
   ],
   "source": [
    "# Import pandas library\n",
    "import pandas as pd\n",
    " \n",
    "# initialize list of lists\n",
    "data = [[2600,2,20,550000], [2800,2,20,560000], [3000,3,19,570000], [3600,3,18,650000], [4000,4,17,750000]]\n",
    " \n",
    "# Create the pandas DataFrame\n",
    "df = pd.DataFrame(data, columns = ['area','bedrooms','age','price'])\n",
    " \n",
    "# print dataframe.\n",
    "df"
   ]
  },
  {
   "cell_type": "code",
   "execution_count": 3,
   "id": "af20f105",
   "metadata": {
    "execution": {
     "iopub.execute_input": "2022-02-12T13:33:49.208923Z",
     "iopub.status.busy": "2022-02-12T13:33:49.207746Z",
     "iopub.status.idle": "2022-02-12T13:33:49.496353Z",
     "shell.execute_reply": "2022-02-12T13:33:49.495653Z",
     "shell.execute_reply.started": "2022-02-05T19:10:04.375963Z"
    },
    "papermill": {
     "duration": 0.316218,
     "end_time": "2022-02-12T13:33:49.496511",
     "exception": false,
     "start_time": "2022-02-12T13:33:49.180293",
     "status": "completed"
    },
    "tags": []
   },
   "outputs": [
    {
     "data": {
      "text/plain": [
       "<matplotlib.collections.PathCollection at 0x7f561dedbe50>"
      ]
     },
     "execution_count": 3,
     "metadata": {},
     "output_type": "execute_result"
    },
    {
     "data": {
      "image/png": "[encoded data removed]",
      "text/plain": [
       "<Figure size 432x288 with 1 Axes>"
      ]
     },
     "metadata": {
      "needs_background": "light"
     },
     "output_type": "display_data"
    }
   ],
   "source": [
    "%matplotlib inline\n",
    "import matplotlib.pyplot as plt\n",
    "plt.xlabel(\"YearsExperience\")\n",
    "plt.ylabel(\"Salary\")\n",
    "plt.scatter(df['area'],df['price'], color='red', marker='+')\n",
    "plt.scatter(df['bedrooms'],df['price'], color='green', marker='*')\n",
    "plt.scatter(df['age'],df['price'], color='yellow', marker='+')"
   ]
  },
  {
   "cell_type": "code",
   "execution_count": 4,
   "id": "854d8940",
   "metadata": {
    "execution": {
     "iopub.execute_input": "2022-02-12T13:33:49.529198Z",
     "iopub.status.busy": "2022-02-12T13:33:49.528541Z",
     "iopub.status.idle": "2022-02-12T13:33:49.555194Z",
     "shell.execute_reply": "2022-02-12T13:33:49.554662Z",
     "shell.execute_reply.started": "2022-02-05T19:10:04.593069Z"
    },
    "papermill": {
     "duration": 0.047345,
     "end_time": "2022-02-12T13:33:49.555385",
     "exception": false,
     "start_time": "2022-02-12T13:33:49.508040",
     "status": "completed"
    },
    "tags": []
   },
   "outputs": [
    {
     "data": {
      "text/plain": [
       "LinearRegression()"
      ]
     },
     "execution_count": 4,
     "metadata": {},
     "output_type": "execute_result"
    }
   ],
   "source": [
    "reg = linear_model.LinearRegression()\n",
    "reg.fit(df[['area','bedrooms','age']],df['price'])"
   ]
  },
  {
   "cell_type": "code",
   "execution_count": 5,
   "id": "aab4b0ab",
   "metadata": {
    "execution": {
     "iopub.execute_input": "2022-02-12T13:33:49.586138Z",
     "iopub.status.busy": "2022-02-12T13:33:49.585266Z",
     "iopub.status.idle": "2022-02-12T13:33:49.588537Z",
     "shell.execute_reply": "2022-02-12T13:33:49.589038Z",
     "shell.execute_reply.started": "2022-02-05T19:10:04.623539Z"
    },
    "papermill": {
     "duration": 0.02203,
     "end_time": "2022-02-12T13:33:49.589206",
     "exception": false,
     "start_time": "2022-02-12T13:33:49.567176",
     "status": "completed"
    },
    "tags": []
   },
   "outputs": [
    {
     "data": {
      "text/plain": [
       "array([  150., 10000., 10000.])"
      ]
     },
     "execution_count": 5,
     "metadata": {},
     "output_type": "execute_result"
    }
   ],
   "source": [
    "reg.coef_"
   ]
  },
  {
   "cell_type": "code",
   "execution_count": 6,
   "id": "45ae50ed",
   "metadata": {
    "execution": {
     "iopub.execute_input": "2022-02-12T13:33:49.617947Z",
     "iopub.status.busy": "2022-02-12T13:33:49.616934Z",
     "iopub.status.idle": "2022-02-12T13:33:49.622464Z",
     "shell.execute_reply": "2022-02-12T13:33:49.623075Z",
     "shell.execute_reply.started": "2022-02-05T19:10:04.635895Z"
    },
    "papermill": {
     "duration": 0.021408,
     "end_time": "2022-02-12T13:33:49.623248",
     "exception": false,
     "start_time": "2022-02-12T13:33:49.601840",
     "status": "completed"
    },
    "tags": []
   },
   "outputs": [
    {
     "data": {
      "text/plain": [
       "-79999.99999999942"
      ]
     },
     "execution_count": 6,
     "metadata": {},
     "output_type": "execute_result"
    }
   ],
   "source": [
    "reg.intercept_"
   ]
  },
  {
   "cell_type": "code",
   "execution_count": 7,
   "id": "a9199283",
   "metadata": {
    "execution": {
     "iopub.execute_input": "2022-02-12T13:33:49.652619Z",
     "iopub.status.busy": "2022-02-12T13:33:49.651614Z",
     "iopub.status.idle": "2022-02-12T13:33:49.657588Z",
     "shell.execute_reply": "2022-02-12T13:33:49.658154Z",
     "shell.execute_reply.started": "2022-02-05T19:10:39.439307Z"
    },
    "papermill": {
     "duration": 0.02184,
     "end_time": "2022-02-12T13:33:49.658336",
     "exception": false,
     "start_time": "2022-02-12T13:33:49.636496",
     "status": "completed"
    },
    "tags": []
   },
   "outputs": [
    {
     "data": {
      "text/plain": [
       "array([1020000.])"
      ]
     },
     "execution_count": 7,
     "metadata": {},
     "output_type": "execute_result"
    }
   ],
   "source": [
    "reg.predict([[5000,5,30]])"
   ]
  },
  {
   "cell_type": "markdown",
   "id": "3dbf98c6",
   "metadata": {
    "papermill": {
     "duration": 0.012251,
     "end_time": "2022-02-12T13:33:49.683058",
     "exception": false,
     "start_time": "2022-02-12T13:33:49.670807",
     "status": "completed"
    },
    "tags": []
   },
   "source": [
    "price = area * m1 + bedrooms * m2 + age * m3 + b"
   ]
  },
  {
   "cell_type": "code",
   "execution_count": 8,
   "id": "93c2f02b",
   "metadata": {
    "execution": {
     "iopub.execute_input": "2022-02-12T13:33:49.712555Z",
     "iopub.status.busy": "2022-02-12T13:33:49.711518Z",
     "iopub.status.idle": "2022-02-12T13:33:49.717565Z",
     "shell.execute_reply": "2022-02-12T13:33:49.718258Z",
     "shell.execute_reply.started": "2022-02-05T19:11:46.981666Z"
    },
    "papermill": {
     "duration": 0.022749,
     "end_time": "2022-02-12T13:33:49.718456",
     "exception": false,
     "start_time": "2022-02-12T13:33:49.695707",
     "status": "completed"
    },
    "tags": []
   },
   "outputs": [
    {
     "data": {
      "text/plain": [
       "1020000.0000000006"
      ]
     },
     "execution_count": 8,
     "metadata": {},
     "output_type": "execute_result"
    }
   ],
   "source": [
    "5000*150 + 5*10000 + 30 *10000 - 79999.99999999942"
   ]
  },
  {
   "cell_type": "markdown",
   "id": "3871561c",
   "metadata": {
    "papermill": {
     "duration": 0.013133,
     "end_time": "2022-02-12T13:33:49.744944",
     "exception": false,
     "start_time": "2022-02-12T13:33:49.731811",
     "status": "completed"
    },
    "tags": []
   },
   "source": [
    "Theoritical concept is same like single variable linear regression.\n",
    "\n",
    "We can plot this in multi dimension but, multi dimension view can not be understandable line 2D."
   ]
  },
  {
   "cell_type": "code",
   "execution_count": null,
   "id": "28cff2f0",
   "metadata": {
    "papermill": {
     "duration": 0.012833,
     "end_time": "2022-02-12T13:33:49.771066",
     "exception": false,
     "start_time": "2022-02-12T13:33:49.758233",
     "status": "completed"
    },
    "tags": []
   },
   "outputs": [],
   "source": []
  }
 ],
 "metadata": {
  "kernelspec": {
   "display_name": "Python 3",
   "language": "python",
   "name": "python3"
  },
  "language_info": {
   "codemirror_mode": {
    "name": "ipython",
    "version": 3
   },
   "file_extension": ".py",
   "mimetype": "text/x-python",
   "name": "python",
   "nbconvert_exporter": "python",
   "pygments_lexer": "ipython3",
   "version": "3.7.12"
  },
  "papermill": {
   "default_parameters": {},
   "duration": 13.494919,
   "end_time": "2022-02-12T13:33:50.495958",
   "environment_variables": {},
   "exception": null,
   "input_path": "__notebook__.ipynb",
   "output_path": "__notebook__.ipynb",
   "parameters": {},
   "start_time": "2022-02-12T13:33:37.001039",
   "version": "2.3.3"
  }
 },
 "nbformat": 4,
 "nbformat_minor": 5
}
