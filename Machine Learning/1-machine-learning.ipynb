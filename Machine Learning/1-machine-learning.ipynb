{
 "cells": [
  {
   "cell_type": "markdown",
   "id": "f28979bb",
   "metadata": {
    "papermill": {
     "duration": 0.003622,
     "end_time": "2022-02-05T18:13:57.754078",
     "exception": false,
     "start_time": "2022-02-05T18:13:57.750456",
     "status": "completed"
    },
    "tags": []
   },
   "source": [
    "# What is Machine learning (ML)."
   ]
  },
  {
   "cell_type": "markdown",
   "id": "47a6a359",
   "metadata": {
    "papermill": {
     "duration": 0.002428,
     "end_time": "2022-02-05T18:13:57.759585",
     "exception": false,
     "start_time": "2022-02-05T18:13:57.757157",
     "status": "completed"
    },
    "tags": []
   },
   "source": [
    "**Machine learning (ML)** is the study of computer algorithms that can improve automatically through experience and by the use of data\""
   ]
  },
  {
   "cell_type": "code",
   "execution_count": null,
   "id": "091d84ea",
   "metadata": {
    "papermill": {
     "duration": 0.0023,
     "end_time": "2022-02-05T18:13:57.764469",
     "exception": false,
     "start_time": "2022-02-05T18:13:57.762169",
     "status": "completed"
    },
    "tags": []
   },
   "outputs": [],
   "source": []
  }
 ],
 "metadata": {
  "kernelspec": {
   "display_name": "Python 3",
   "language": "python",
   "name": "python3"
  },
  "language_info": {
   "codemirror_mode": {
    "name": "ipython",
    "version": 3
   },
   "file_extension": ".py",
   "mimetype": "text/x-python",
   "name": "python",
   "nbconvert_exporter": "python",
   "pygments_lexer": "ipython3",
   "version": "3.7.12"
  },
  "papermill": {
   "default_parameters": {},
   "duration": 9.599302,
   "end_time": "2022-02-05T18:13:58.378277",
   "environment_variables": {},
   "exception": null,
   "input_path": "__notebook__.ipynb",
   "output_path": "__notebook__.ipynb",
   "parameters": {},
   "start_time": "2022-02-05T18:13:48.778975",
   "version": "2.3.3"
  }
 },
 "nbformat": 4,
 "nbformat_minor": 5
}
