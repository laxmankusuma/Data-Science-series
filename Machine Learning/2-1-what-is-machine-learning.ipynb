{
 "cells": [
  {
   "cell_type": "markdown",
   "id": "9c0269b3",
   "metadata": {
    "papermill": {
     "duration": 0.003387,
     "end_time": "2022-02-11T14:08:31.156200",
     "exception": false,
     "start_time": "2022-02-11T14:08:31.152813",
     "status": "completed"
    },
    "tags": []
   },
   "source": [
    "# What is Machine learning (ML)."
   ]
  },
  {
   "cell_type": "markdown",
   "id": "c3e8f5cb",
   "metadata": {
    "papermill": {
     "duration": 0.002067,
     "end_time": "2022-02-11T14:08:31.161135",
     "exception": false,
     "start_time": "2022-02-11T14:08:31.159068",
     "status": "completed"
    },
    "tags": []
   },
   "source": [
    "**Machine learning (ML)** is the study of computer algorithms that can improve automatically through experience and by the use of data\""
   ]
  },
  {
   "cell_type": "code",
   "execution_count": null,
   "id": "b07288c1",
   "metadata": {
    "papermill": {
     "duration": 0.002428,
     "end_time": "2022-02-11T14:08:31.165835",
     "exception": false,
     "start_time": "2022-02-11T14:08:31.163407",
     "status": "completed"
    },
    "tags": []
   },
   "outputs": [],
   "source": []
  }
 ],
 "metadata": {
  "kernelspec": {
   "display_name": "Python 3",
   "language": "python",
   "name": "python3"
  },
  "language_info": {
   "codemirror_mode": {
    "name": "ipython",
    "version": 3
   },
   "file_extension": ".py",
   "mimetype": "text/x-python",
   "name": "python",
   "nbconvert_exporter": "python",
   "pygments_lexer": "ipython3",
   "version": "3.7.12"
  },
  "papermill": {
   "default_parameters": {},
   "duration": 9.138853,
   "end_time": "2022-02-11T14:08:31.777110",
   "environment_variables": {},
   "exception": null,
   "input_path": "__notebook__.ipynb",
   "output_path": "__notebook__.ipynb",
   "parameters": {},
   "start_time": "2022-02-11T14:08:22.638257",
   "version": "2.3.3"
  }
 },
 "nbformat": 4,
 "nbformat_minor": 5
}
