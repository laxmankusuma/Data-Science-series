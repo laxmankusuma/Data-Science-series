{
 "cells": [
  {
   "cell_type": "code",
   "execution_count": 1,
   "id": "f0fd3966",
   "metadata": {
    "execution": {
     "iopub.execute_input": "2022-02-13T19:16:16.684615Z",
     "iopub.status.busy": "2022-02-13T19:16:16.683352Z",
     "iopub.status.idle": "2022-02-13T19:16:17.940243Z",
     "shell.execute_reply": "2022-02-13T19:16:17.939386Z",
     "shell.execute_reply.started": "2022-02-13T19:15:49.173360Z"
    },
    "papermill": {
     "duration": 1.286949,
     "end_time": "2022-02-13T19:16:17.940429",
     "exception": false,
     "start_time": "2022-02-13T19:16:16.653480",
     "status": "completed"
    },
    "tags": []
   },
   "outputs": [],
   "source": [
    "%matplotlib inline\n",
    "import matplotlib.pyplot as plt\n",
    "\n",
    "from sklearn.datasets import load_digits"
   ]
  },
  {
   "cell_type": "code",
   "execution_count": 2,
   "id": "41bf4515",
   "metadata": {
    "execution": {
     "iopub.execute_input": "2022-02-13T19:16:17.992459Z",
     "iopub.status.busy": "2022-02-13T19:16:17.991761Z",
     "iopub.status.idle": "2022-02-13T19:16:18.094688Z",
     "shell.execute_reply": "2022-02-13T19:16:18.094056Z",
     "shell.execute_reply.started": "2022-02-13T19:15:49.183630Z"
    },
    "papermill": {
     "duration": 0.131201,
     "end_time": "2022-02-13T19:16:18.094877",
     "exception": false,
     "start_time": "2022-02-13T19:16:17.963676",
     "status": "completed"
    },
    "tags": []
   },
   "outputs": [],
   "source": [
    "digits = load_digits()"
   ]
  },
  {
   "cell_type": "code",
   "execution_count": 3,
   "id": "1a9bde4c",
   "metadata": {
    "execution": {
     "iopub.execute_input": "2022-02-13T19:16:18.147531Z",
     "iopub.status.busy": "2022-02-13T19:16:18.146861Z",
     "iopub.status.idle": "2022-02-13T19:16:18.150319Z",
     "shell.execute_reply": "2022-02-13T19:16:18.150823Z",
     "shell.execute_reply.started": "2022-02-13T19:15:49.299716Z"
    },
    "papermill": {
     "duration": 0.033635,
     "end_time": "2022-02-13T19:16:18.151009",
     "exception": false,
     "start_time": "2022-02-13T19:16:18.117374",
     "status": "completed"
    },
    "tags": []
   },
   "outputs": [
    {
     "data": {
      "text/plain": [
       "['DESCR', 'data', 'feature_names', 'frame', 'images', 'target', 'target_names']"
      ]
     },
     "execution_count": 3,
     "metadata": {},
     "output_type": "execute_result"
    }
   ],
   "source": [
    "dir(digits)"
   ]
  },
  {
   "cell_type": "code",
   "execution_count": 4,
   "id": "401718ea",
   "metadata": {
    "execution": {
     "iopub.execute_input": "2022-02-13T19:16:18.204218Z",
     "iopub.status.busy": "2022-02-13T19:16:18.203493Z",
     "iopub.status.idle": "2022-02-13T19:16:18.207128Z",
     "shell.execute_reply": "2022-02-13T19:16:18.207651Z",
     "shell.execute_reply.started": "2022-02-13T19:15:49.308439Z"
    },
    "papermill": {
     "duration": 0.033016,
     "end_time": "2022-02-13T19:16:18.207823",
     "exception": false,
     "start_time": "2022-02-13T19:16:18.174807",
     "status": "completed"
    },
    "tags": []
   },
   "outputs": [
    {
     "data": {
      "text/plain": [
       "array([ 0.,  0.,  5., 13.,  9.,  1.,  0.,  0.,  0.,  0., 13., 15., 10.,\n",
       "       15.,  5.,  0.,  0.,  3., 15.,  2.,  0., 11.,  8.,  0.,  0.,  4.,\n",
       "       12.,  0.,  0.,  8.,  8.,  0.,  0.,  5.,  8.,  0.,  0.,  9.,  8.,\n",
       "        0.,  0.,  4., 11.,  0.,  1., 12.,  7.,  0.,  0.,  2., 14.,  5.,\n",
       "       10., 12.,  0.,  0.,  0.,  0.,  6., 13., 10.,  0.,  0.,  0.])"
      ]
     },
     "execution_count": 4,
     "metadata": {},
     "output_type": "execute_result"
    }
   ],
   "source": [
    "digits.data[0]"
   ]
  },
  {
   "cell_type": "code",
   "execution_count": 5,
   "id": "f3239cf5",
   "metadata": {
    "execution": {
     "iopub.execute_input": "2022-02-13T19:16:18.260096Z",
     "iopub.status.busy": "2022-02-13T19:16:18.259343Z",
     "iopub.status.idle": "2022-02-13T19:16:19.835836Z",
     "shell.execute_reply": "2022-02-13T19:16:19.834705Z",
     "shell.execute_reply.started": "2022-02-13T19:15:49.327096Z"
    },
    "papermill": {
     "duration": 1.603757,
     "end_time": "2022-02-13T19:16:19.836094",
     "exception": false,
     "start_time": "2022-02-13T19:16:18.232337",
     "status": "completed"
    },
    "tags": []
   },
   "outputs": [
    {
     "data": {
      "text/plain": [
       "<Figure size 432x288 with 0 Axes>"
      ]
     },
     "metadata": {},
     "output_type": "display_data"
    },
    {
     "data": {
      "image/png": "[encoded data removed]",
      "text/plain": [
       "<Figure size 288x288 with 1 Axes>"
      ]
     },
     "metadata": {
      "needs_background": "light"
     },
     "output_type": "display_data"
    },
    {
     "data": {
      "image/png": "[encoded data removed]",
      "text/plain": [
       "<Figure size 288x288 with 1 Axes>"
      ]
     },
     "metadata": {
      "needs_background": "light"
     },
     "output_type": "display_data"
    },
    {
     "data": {
      "image/png": "[encoded data removed]",
      "text/plain": [
       "<Figure size 288x288 with 1 Axes>"
      ]
     },
     "metadata": {
      "needs_background": "light"
     },
     "output_type": "display_data"
    },
    {
     "data": {
      "image/png": "[encoded data removed]",
      "text/plain": [
       "<Figure size 288x288 with 1 Axes>"
      ]
     },
     "metadata": {
      "needs_background": "light"
     },
     "output_type": "display_data"
    },
    {
     "data": {
      "image/png": "[encoded data removed]",
      "text/plain": [
       "<Figure size 288x288 with 1 Axes>"
      ]
     },
     "metadata": {
      "needs_background": "light"
     },
     "output_type": "display_data"
    }
   ],
   "source": [
    "plt.gray()\n",
    "for i in range(5):\n",
    "    plt.matshow(digits.images[i])"
   ]
  },
  {
   "cell_type": "code",
   "execution_count": 6,
   "id": "db4364e5",
   "metadata": {
    "execution": {
     "iopub.execute_input": "2022-02-13T19:16:19.915334Z",
     "iopub.status.busy": "2022-02-13T19:16:19.914662Z",
     "iopub.status.idle": "2022-02-13T19:16:19.919958Z",
     "shell.execute_reply": "2022-02-13T19:16:19.920556Z",
     "shell.execute_reply.started": "2022-02-13T19:15:50.974043Z"
    },
    "papermill": {
     "duration": 0.036351,
     "end_time": "2022-02-13T19:16:19.920730",
     "exception": false,
     "start_time": "2022-02-13T19:16:19.884379",
     "status": "completed"
    },
    "tags": []
   },
   "outputs": [
    {
     "data": {
      "text/plain": [
       "array([0, 1, 2, 3, 4])"
      ]
     },
     "execution_count": 6,
     "metadata": {},
     "output_type": "execute_result"
    }
   ],
   "source": [
    "digits.target[0:5]"
   ]
  },
  {
   "cell_type": "code",
   "execution_count": 7,
   "id": "bef2ee2e",
   "metadata": {
    "execution": {
     "iopub.execute_input": "2022-02-13T19:16:19.980055Z",
     "iopub.status.busy": "2022-02-13T19:16:19.979358Z",
     "iopub.status.idle": "2022-02-13T19:16:20.037463Z",
     "shell.execute_reply": "2022-02-13T19:16:20.036758Z",
     "shell.execute_reply.started": "2022-02-13T19:15:50.985675Z"
    },
    "papermill": {
     "duration": 0.088959,
     "end_time": "2022-02-13T19:16:20.037622",
     "exception": false,
     "start_time": "2022-02-13T19:16:19.948663",
     "status": "completed"
    },
    "tags": []
   },
   "outputs": [],
   "source": [
    "from sklearn.model_selection import train_test_split"
   ]
  },
  {
   "cell_type": "code",
   "execution_count": 8,
   "id": "6e5a15c0",
   "metadata": {
    "execution": {
     "iopub.execute_input": "2022-02-13T19:16:20.101008Z",
     "iopub.status.busy": "2022-02-13T19:16:20.100289Z",
     "iopub.status.idle": "2022-02-13T19:16:20.104596Z",
     "shell.execute_reply": "2022-02-13T19:16:20.104087Z",
     "shell.execute_reply.started": "2022-02-13T19:15:51.001353Z"
    },
    "papermill": {
     "duration": 0.038351,
     "end_time": "2022-02-13T19:16:20.104754",
     "exception": false,
     "start_time": "2022-02-13T19:16:20.066403",
     "status": "completed"
    },
    "tags": []
   },
   "outputs": [],
   "source": [
    "X_train, X_test, y_train, y_test = train_test_split(digits['data'], digits['target'], test_size=0.2, random_state=42)"
   ]
  },
  {
   "cell_type": "code",
   "execution_count": 9,
   "id": "8a11817e",
   "metadata": {
    "execution": {
     "iopub.execute_input": "2022-02-13T19:16:20.167323Z",
     "iopub.status.busy": "2022-02-13T19:16:20.166456Z",
     "iopub.status.idle": "2022-02-13T19:16:20.169559Z",
     "shell.execute_reply": "2022-02-13T19:16:20.170139Z",
     "shell.execute_reply.started": "2022-02-13T19:15:51.018356Z"
    },
    "papermill": {
     "duration": 0.037745,
     "end_time": "2022-02-13T19:16:20.170315",
     "exception": false,
     "start_time": "2022-02-13T19:16:20.132570",
     "status": "completed"
    },
    "tags": []
   },
   "outputs": [
    {
     "data": {
      "text/plain": [
       "1437"
      ]
     },
     "execution_count": 9,
     "metadata": {},
     "output_type": "execute_result"
    }
   ],
   "source": [
    "len(X_train)"
   ]
  },
  {
   "cell_type": "code",
   "execution_count": 10,
   "id": "ec5ab9e4",
   "metadata": {
    "execution": {
     "iopub.execute_input": "2022-02-13T19:16:20.232466Z",
     "iopub.status.busy": "2022-02-13T19:16:20.231455Z",
     "iopub.status.idle": "2022-02-13T19:16:20.236841Z",
     "shell.execute_reply": "2022-02-13T19:16:20.237369Z",
     "shell.execute_reply.started": "2022-02-13T19:15:51.031057Z"
    },
    "papermill": {
     "duration": 0.037074,
     "end_time": "2022-02-13T19:16:20.237542",
     "exception": false,
     "start_time": "2022-02-13T19:16:20.200468",
     "status": "completed"
    },
    "tags": []
   },
   "outputs": [
    {
     "data": {
      "text/plain": [
       "360"
      ]
     },
     "execution_count": 10,
     "metadata": {},
     "output_type": "execute_result"
    }
   ],
   "source": [
    " len(X_test)"
   ]
  },
  {
   "cell_type": "code",
   "execution_count": 11,
   "id": "2773fab8",
   "metadata": {
    "execution": {
     "iopub.execute_input": "2022-02-13T19:16:20.299202Z",
     "iopub.status.busy": "2022-02-13T19:16:20.298532Z",
     "iopub.status.idle": "2022-02-13T19:16:20.386694Z",
     "shell.execute_reply": "2022-02-13T19:16:20.387291Z",
     "shell.execute_reply.started": "2022-02-13T19:15:51.051494Z"
    },
    "papermill": {
     "duration": 0.12142,
     "end_time": "2022-02-13T19:16:20.387485",
     "exception": false,
     "start_time": "2022-02-13T19:16:20.266065",
     "status": "completed"
    },
    "tags": []
   },
   "outputs": [],
   "source": [
    "from sklearn.linear_model import LogisticRegression"
   ]
  },
  {
   "cell_type": "code",
   "execution_count": 12,
   "id": "291bf96a",
   "metadata": {
    "execution": {
     "iopub.execute_input": "2022-02-13T19:16:20.450311Z",
     "iopub.status.busy": "2022-02-13T19:16:20.449262Z",
     "iopub.status.idle": "2022-02-13T19:16:20.452912Z",
     "shell.execute_reply": "2022-02-13T19:16:20.453369Z",
     "shell.execute_reply.started": "2022-02-13T19:15:51.062387Z"
    },
    "papermill": {
     "duration": 0.036954,
     "end_time": "2022-02-13T19:16:20.453540",
     "exception": false,
     "start_time": "2022-02-13T19:16:20.416586",
     "status": "completed"
    },
    "tags": []
   },
   "outputs": [],
   "source": [
    "model = LogisticRegression(solver='liblinear')"
   ]
  },
  {
   "cell_type": "code",
   "execution_count": 13,
   "id": "db91e16e",
   "metadata": {
    "execution": {
     "iopub.execute_input": "2022-02-13T19:16:20.515925Z",
     "iopub.status.busy": "2022-02-13T19:16:20.514882Z",
     "iopub.status.idle": "2022-02-13T19:16:20.521162Z",
     "shell.execute_reply": "2022-02-13T19:16:20.520573Z",
     "shell.execute_reply.started": "2022-02-13T19:15:51.077424Z"
    },
    "papermill": {
     "duration": 0.038747,
     "end_time": "2022-02-13T19:16:20.521332",
     "exception": false,
     "start_time": "2022-02-13T19:16:20.482585",
     "status": "completed"
    },
    "tags": []
   },
   "outputs": [
    {
     "data": {
      "text/plain": [
       "dtype('float64')"
      ]
     },
     "execution_count": 13,
     "metadata": {},
     "output_type": "execute_result"
    }
   ],
   "source": [
    "X_train.dtype"
   ]
  },
  {
   "cell_type": "code",
   "execution_count": 14,
   "id": "fcdbcd79",
   "metadata": {
    "execution": {
     "iopub.execute_input": "2022-02-13T19:16:20.584866Z",
     "iopub.status.busy": "2022-02-13T19:16:20.584013Z",
     "iopub.status.idle": "2022-02-13T19:16:20.587296Z",
     "shell.execute_reply": "2022-02-13T19:16:20.587795Z",
     "shell.execute_reply.started": "2022-02-13T19:15:51.095708Z"
    },
    "papermill": {
     "duration": 0.037844,
     "end_time": "2022-02-13T19:16:20.588001",
     "exception": false,
     "start_time": "2022-02-13T19:16:20.550157",
     "status": "completed"
    },
    "tags": []
   },
   "outputs": [
    {
     "data": {
      "text/plain": [
       "dtype('int64')"
      ]
     },
     "execution_count": 14,
     "metadata": {},
     "output_type": "execute_result"
    }
   ],
   "source": [
    "y_train.dtype"
   ]
  },
  {
   "cell_type": "code",
   "execution_count": 15,
   "id": "cd0bc335",
   "metadata": {
    "execution": {
     "iopub.execute_input": "2022-02-13T19:16:20.652588Z",
     "iopub.status.busy": "2022-02-13T19:16:20.651915Z",
     "iopub.status.idle": "2022-02-13T19:16:20.821221Z",
     "shell.execute_reply": "2022-02-13T19:16:20.821802Z",
     "shell.execute_reply.started": "2022-02-13T19:15:51.110025Z"
    },
    "papermill": {
     "duration": 0.204472,
     "end_time": "2022-02-13T19:16:20.821994",
     "exception": false,
     "start_time": "2022-02-13T19:16:20.617522",
     "status": "completed"
    },
    "tags": []
   },
   "outputs": [
    {
     "data": {
      "text/plain": [
       "LogisticRegression(solver='liblinear')"
      ]
     },
     "execution_count": 15,
     "metadata": {},
     "output_type": "execute_result"
    }
   ],
   "source": [
    "model.fit(X_train, y_train)"
   ]
  },
  {
   "cell_type": "code",
   "execution_count": 16,
   "id": "79c55855",
   "metadata": {
    "execution": {
     "iopub.execute_input": "2022-02-13T19:16:20.888507Z",
     "iopub.status.busy": "2022-02-13T19:16:20.887406Z",
     "iopub.status.idle": "2022-02-13T19:16:20.893909Z",
     "shell.execute_reply": "2022-02-13T19:16:20.893204Z",
     "shell.execute_reply.started": "2022-02-13T19:15:51.287817Z"
    },
    "papermill": {
     "duration": 0.041603,
     "end_time": "2022-02-13T19:16:20.894070",
     "exception": false,
     "start_time": "2022-02-13T19:16:20.852467",
     "status": "completed"
    },
    "tags": []
   },
   "outputs": [
    {
     "data": {
      "text/plain": [
       "0.9611111111111111"
      ]
     },
     "execution_count": 16,
     "metadata": {},
     "output_type": "execute_result"
    }
   ],
   "source": [
    "model.score(X_test,y_test)"
   ]
  },
  {
   "cell_type": "code",
   "execution_count": 17,
   "id": "0a7f453c",
   "metadata": {
    "execution": {
     "iopub.execute_input": "2022-02-13T19:16:20.979830Z",
     "iopub.status.busy": "2022-02-13T19:16:20.979075Z",
     "iopub.status.idle": "2022-02-13T19:16:21.265736Z",
     "shell.execute_reply": "2022-02-13T19:16:21.266652Z",
     "shell.execute_reply.started": "2022-02-13T19:15:51.301043Z"
    },
    "papermill": {
     "duration": 0.339197,
     "end_time": "2022-02-13T19:16:21.266968",
     "exception": false,
     "start_time": "2022-02-13T19:16:20.927771",
     "status": "completed"
    },
    "tags": []
   },
   "outputs": [
    {
     "data": {
      "text/plain": [
       "<matplotlib.image.AxesImage at 0x7f5970120cd0>"
      ]
     },
     "execution_count": 17,
     "metadata": {},
     "output_type": "execute_result"
    },
    {
     "data": {
      "image/png": "[encoded data removed]",
      "text/plain": [
       "<Figure size 288x288 with 1 Axes>"
      ]
     },
     "metadata": {
      "needs_background": "light"
     },
     "output_type": "display_data"
    }
   ],
   "source": [
    "plt.matshow(digits.images[64])"
   ]
  },
  {
   "cell_type": "code",
   "execution_count": 18,
   "id": "531532b3",
   "metadata": {
    "execution": {
     "iopub.execute_input": "2022-02-13T19:16:21.355108Z",
     "iopub.status.busy": "2022-02-13T19:16:21.354467Z",
     "iopub.status.idle": "2022-02-13T19:16:21.359378Z",
     "shell.execute_reply": "2022-02-13T19:16:21.359916Z",
     "shell.execute_reply.started": "2022-02-13T19:15:51.620261Z"
    },
    "papermill": {
     "duration": 0.039629,
     "end_time": "2022-02-13T19:16:21.360089",
     "exception": false,
     "start_time": "2022-02-13T19:16:21.320460",
     "status": "completed"
    },
    "tags": []
   },
   "outputs": [
    {
     "data": {
      "text/plain": [
       "6"
      ]
     },
     "execution_count": 18,
     "metadata": {},
     "output_type": "execute_result"
    }
   ],
   "source": [
    "digits['target'][67]"
   ]
  },
  {
   "cell_type": "code",
   "execution_count": 19,
   "id": "69c4c1b7",
   "metadata": {
    "execution": {
     "iopub.execute_input": "2022-02-13T19:16:21.429587Z",
     "iopub.status.busy": "2022-02-13T19:16:21.428881Z",
     "iopub.status.idle": "2022-02-13T19:16:21.431504Z",
     "shell.execute_reply": "2022-02-13T19:16:21.432100Z",
     "shell.execute_reply.started": "2022-02-13T19:15:51.632155Z"
    },
    "papermill": {
     "duration": 0.040794,
     "end_time": "2022-02-13T19:16:21.432274",
     "exception": false,
     "start_time": "2022-02-13T19:16:21.391480",
     "status": "completed"
    },
    "tags": []
   },
   "outputs": [
    {
     "data": {
      "text/plain": [
       "array([6])"
      ]
     },
     "execution_count": 19,
     "metadata": {},
     "output_type": "execute_result"
    }
   ],
   "source": [
    "model.predict([digits['data'][67]])"
   ]
  },
  {
   "cell_type": "code",
   "execution_count": 20,
   "id": "f5366d42",
   "metadata": {
    "execution": {
     "iopub.execute_input": "2022-02-13T19:16:21.502883Z",
     "iopub.status.busy": "2022-02-13T19:16:21.502183Z",
     "iopub.status.idle": "2022-02-13T19:16:21.510229Z",
     "shell.execute_reply": "2022-02-13T19:16:21.509590Z",
     "shell.execute_reply.started": "2022-02-13T19:15:51.650927Z"
    },
    "papermill": {
     "duration": 0.046161,
     "end_time": "2022-02-13T19:16:21.510379",
     "exception": false,
     "start_time": "2022-02-13T19:16:21.464218",
     "status": "completed"
    },
    "tags": []
   },
   "outputs": [
    {
     "data": {
      "text/plain": [
       "array([[33,  0,  0,  0,  0,  0,  0,  0,  0,  0],\n",
       "       [ 0, 27,  0,  0,  0,  0,  0,  0,  1,  0],\n",
       "       [ 0,  0, 33,  0,  0,  0,  0,  0,  0,  0],\n",
       "       [ 0,  0,  0, 33,  0,  1,  0,  0,  0,  0],\n",
       "       [ 0,  1,  0,  0, 44,  0,  1,  0,  0,  0],\n",
       "       [ 0,  0,  1,  0,  0, 45,  1,  0,  0,  0],\n",
       "       [ 0,  0,  0,  0,  0,  1, 34,  0,  0,  0],\n",
       "       [ 0,  0,  0,  0,  0,  0,  0, 33,  0,  1],\n",
       "       [ 0,  1,  0,  0,  0,  1,  0,  0, 28,  0],\n",
       "       [ 0,  0,  0,  0,  0,  0,  0,  0,  4, 36]])"
      ]
     },
     "execution_count": 20,
     "metadata": {},
     "output_type": "execute_result"
    }
   ],
   "source": [
    "y_pred = model.predict(X_test)\n",
    "from sklearn.metrics import confusion_matrix\n",
    "\n",
    "cm = confusion_matrix(y_test,y_pred)\n",
    "cm"
   ]
  },
  {
   "cell_type": "code",
   "execution_count": 21,
   "id": "edb677d7",
   "metadata": {
    "execution": {
     "iopub.execute_input": "2022-02-13T19:16:21.578690Z",
     "iopub.status.busy": "2022-02-13T19:16:21.578075Z",
     "iopub.status.idle": "2022-02-13T19:16:22.578646Z",
     "shell.execute_reply": "2022-02-13T19:16:22.577920Z",
     "shell.execute_reply.started": "2022-02-13T19:15:51.669146Z"
    },
    "papermill": {
     "duration": 1.035978,
     "end_time": "2022-02-13T19:16:22.578803",
     "exception": false,
     "start_time": "2022-02-13T19:16:21.542825",
     "status": "completed"
    },
    "tags": []
   },
   "outputs": [
    {
     "data": {
      "text/plain": [
       "Text(69.0, 0.5, 'Truth')"
      ]
     },
     "execution_count": 21,
     "metadata": {},
     "output_type": "execute_result"
    },
    {
     "data": {
      "image/png": "[encoded data removed]",
      "text/plain": [
       "<Figure size 720x504 with 2 Axes>"
      ]
     },
     "metadata": {
      "needs_background": "light"
     },
     "output_type": "display_data"
    }
   ],
   "source": [
    "import seaborn as sn\n",
    "plt.figure(figsize=(10,7))\n",
    "sn.heatmap(cm, annot=True)\n",
    "plt.xlabel('Predicted')\n",
    "plt.ylabel('Truth')"
   ]
  },
  {
   "cell_type": "code",
   "execution_count": null,
   "id": "b470fc3b",
   "metadata": {
    "papermill": {
     "duration": 0.036358,
     "end_time": "2022-02-13T19:16:22.650186",
     "exception": false,
     "start_time": "2022-02-13T19:16:22.613828",
     "status": "completed"
    },
    "tags": []
   },
   "outputs": [],
   "source": []
  }
 ],
 "metadata": {
  "kernelspec": {
   "display_name": "Python 3",
   "language": "python",
   "name": "python3"
  },
  "language_info": {
   "codemirror_mode": {
    "name": "ipython",
    "version": 3
   },
   "file_extension": ".py",
   "mimetype": "text/x-python",
   "name": "python",
   "nbconvert_exporter": "python",
   "pygments_lexer": "ipython3",
   "version": "3.7.12"
  },
  "papermill": {
   "default_parameters": {},
   "duration": 17.839968,
   "end_time": "2022-02-13T19:16:23.501417",
   "environment_variables": {},
   "exception": null,
   "input_path": "__notebook__.ipynb",
   "output_path": "__notebook__.ipynb",
   "parameters": {},
   "start_time": "2022-02-13T19:16:05.661449",
   "version": "2.3.3"
  }
 },
 "nbformat": 4,
 "nbformat_minor": 5
}
